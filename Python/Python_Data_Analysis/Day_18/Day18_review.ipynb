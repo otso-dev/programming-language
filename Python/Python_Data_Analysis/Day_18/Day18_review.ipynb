{
 "cells": [
  {
   "cell_type": "code",
   "execution_count": 4,
   "id": "3ac723aa",
   "metadata": {},
   "outputs": [
    {
     "name": "stdout",
     "output_type": "stream",
     "text": [
      "[]\n",
      "['a']\n"
     ]
    }
   ],
   "source": [
    "# python list\n",
    "lista = []\n",
    "print(lista)\n",
    "\n",
    "lista.append('a')\n",
    "print(lista)"
   ]
  },
  {
   "cell_type": "code",
   "execution_count": 14,
   "id": "11447735",
   "metadata": {},
   "outputs": [
    {
     "name": "stdout",
     "output_type": "stream",
     "text": [
      "[1 4]\n",
      "[0 3]\n",
      "[3 4]\n"
     ]
    }
   ],
   "source": [
    "# numpy ndarray\n",
    "import numpy as np\n",
    "array1 = np.array(lista)\n",
    "array2 = np.array([1,2,3,4])\n",
    "array3 = np.array([x for x in range(5)])\n",
    "\n",
    "#array1.append('c')\n",
    "#print(array1,type(array1))\n",
    "#print(array3)\n",
    "print(array3[[1,4]])\n",
    "print(array3[array3%3==0])\n",
    "print(array3[array3>2])"
   ]
  },
  {
   "cell_type": "code",
   "execution_count": 18,
   "id": "4dab2737",
   "metadata": {},
   "outputs": [
    {
     "name": "stdout",
     "output_type": "stream",
     "text": [
      "3\n",
      "4\n"
     ]
    }
   ],
   "source": [
    "# for , if\n",
    "# for i in array3:\n",
    "#     print(i)\n",
    "    \n",
    "for i in range(5):\n",
    "    if i > 2:\n",
    "        print(i)"
   ]
  },
  {
   "cell_type": "code",
   "execution_count": 26,
   "id": "b5c8819a",
   "metadata": {},
   "outputs": [
    {
     "name": "stdout",
     "output_type": "stream",
     "text": [
      "return_value: 200\n"
     ]
    }
   ],
   "source": [
    "#function\n",
    "def function_name(n):\n",
    "    return n*10\n",
    "return_value = function_name(20)\n",
    "print('return_value:',return_value)\n",
    "\n",
    "assert function_name(100) == 1000"
   ]
  },
  {
   "cell_type": "code",
   "execution_count": 42,
   "id": "7579f62d",
   "metadata": {},
   "outputs": [
    {
     "name": "stdout",
     "output_type": "stream",
     "text": [
      "[6, 34, 11, 98, 52, 34, 13, 4, 48, 68]\n",
      "[71, 42, 43, 6, 20, 17, 43, 71, 42, 89]\n"
     ]
    },
    {
     "data": {
      "text/plain": [
       "array([98, 52, 68])"
      ]
     },
     "execution_count": 42,
     "metadata": {},
     "output_type": "execute_result"
    }
   ],
   "source": [
    "import random\n",
    "\n",
    "random.seed(123) #랜덤 값을 설정할 수 있음\n",
    "    \n",
    "listb=[]\n",
    "for i in range(10):\n",
    "    listb.append(random.randint(0,100))\n",
    "print(listb)\n",
    "listc = [random.randint(0,100) for _ in range(10)]\n",
    "print(listc)\n",
    "# listb에서 50보다 큰 것.\n",
    "listb_np = np.array(listb)\n",
    "listb_np[listb_np>50]"
   ]
  }
 ],
 "metadata": {
  "kernelspec": {
   "display_name": "Python 3 (ipykernel)",
   "language": "python",
   "name": "python3"
  },
  "language_info": {
   "codemirror_mode": {
    "name": "ipython",
    "version": 3
   },
   "file_extension": ".py",
   "mimetype": "text/x-python",
   "name": "python",
   "nbconvert_exporter": "python",
   "pygments_lexer": "ipython3",
   "version": "3.10.9"
  }
 },
 "nbformat": 4,
 "nbformat_minor": 5
}
