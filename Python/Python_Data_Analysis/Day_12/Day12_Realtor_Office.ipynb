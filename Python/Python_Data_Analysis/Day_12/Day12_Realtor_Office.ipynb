{
 "cells": [
  {
   "cell_type": "markdown",
   "id": "d296b134",
   "metadata": {},
   "source": [
    "### 전국공인중개사사무소표준데이터\n",
    " - 공인중개사 / 개업공인중개사 비율\n",
    " - 공제미가입 중개사 count, 전체 대비 비율\n",
    " - OO공인중개... 중 흔한 상호면\n",
    " - OO공인중개... 가 아닌것은 따로 저장"
   ]
  },
  {
   "cell_type": "code",
   "execution_count": 167,
   "id": "9fa193ef",
   "metadata": {},
   "outputs": [],
   "source": [
    "import mymodule as md\n",
    "import re\n",
    "\n",
    "def mystrip(s):\n",
    "    remove_after = ['공인중개사']\n",
    "    s = re.sub(r\"\\s\",\"\",s)\n",
    "    for c in remove_after:\n",
    "        if c in s:\n",
    "            s = s[:s.index(c)]\n",
    "        elif c not in s:\n",
    "            s = s\n",
    "    return s\n",
    "s = '착한공인중개사사무소'\n",
    "s1 = '더오름'\n",
    "s2 = '행복 공인중개사 사무소'\n",
    "assert mystrip(s) == '착한'\n",
    "assert mystrip(s1) == '더오름'\n",
    "assert mystrip(s2) == '행복'"
   ]
  },
  {
   "cell_type": "code",
   "execution_count": 77,
   "id": "ee7cbc90",
   "metadata": {},
   "outputs": [
    {
     "name": "stdout",
     "output_type": "stream",
     "text": [
      "0\n",
      "2\n",
      "7\n"
     ]
    }
   ],
   "source": [
    "csv_data = []\n",
    "with open('전국공인중개사사무소표준데이터.csv') as f:\n",
    "    for line in f:\n",
    "        csv_data.append(md.my_split(line))\n",
    "print(csv_data[0].index('중개사무소명'))\n",
    "print(csv_data[0].index('개업공인중개사종별구분'))\n",
    "print(csv_data[0].index('공제가입유무'))\n",
    "\n",
    "realtor_list = []\n",
    "deduction_list = []\n",
    "realtor_name_list = []\n",
    "for i in csv_data[1:]:\n",
    "    realtor_list.append(i[2])\n",
    "    deduction_list.append(i[7])\n",
    "    realtor_name_list.append(i[0])"
   ]
  },
  {
   "cell_type": "code",
   "execution_count": 79,
   "id": "702e902c",
   "metadata": {},
   "outputs": [
    {
     "name": "stdout",
     "output_type": "stream",
     "text": [
      "공인중개사비율: 80.89141611903709\n",
      "개업공인중개사: 17.314174810173995\n",
      "법인: 1.794409070788927\n",
      "가입한 공인중개사: 99.89785147604617\n",
      "미가입한 공인중개사: 0.10214852395382887\n"
     ]
    }
   ],
   "source": [
    "realtor_set = set(realtor_list)\n",
    "deduction_set = set(deduction_list)\n",
    "realtor_count = []\n",
    "deduction_count = []\n",
    "for i in realtor_set:\n",
    "    realtor_count.append(realtor_list.count(i))\n",
    "    \n",
    "for i in deduction_set:\n",
    "    deduction_count.append(deduction_list.count(i))\n",
    "    \n",
    "di_realtor = dict(zip(realtor_set,realtor_count))\n",
    "di_deduction = dict(zip(deduction_set,deduction_count))\n",
    "print('공인중개사비율: {}'.format(di_realtor['공인중개사']/len(realtor_list)*100))\n",
    "print('개업공인중개사: {}'.format(di_realtor['개업공인중개사']/len(realtor_list)*100))\n",
    "print('법인: {}'.format(di_realtor['법인']/len(realtor_list)*100))\n",
    "print('가입한 공인중개사: {}'.format(di_deduction['Y']/len(deduction_list)*100))\n",
    "print('미가입한 공인중개사: {}'.format(di_deduction['N']/len(deduction_list)*100))"
   ]
  },
  {
   "cell_type": "code",
   "execution_count": 164,
   "id": "312afadd",
   "metadata": {},
   "outputs": [
    {
     "name": "stdout",
     "output_type": "stream",
     "text": [
      "흔한상호명 :  [('삼성', 120), ('현대', 116), ('우리', 101), ('하나', 91), ('행운', 90), ('미래', 85), ('황금', 79), ('태양', 77), ('제일', 73), ('대박', 71)]\n",
      "안흔한 상호명 :  [('상록(707-0880)', 1), ('데시앙811', 1), ('승지부동산', 1), ('위례금빛', 1), ('단지내미소트라엘', 1)]\n",
      "공인중개사가 아닌 것: ['미스터홈즈부동산중개광주장지센터', '삼동역힐스테이트부동산중개', '천일부동산중개사무소']\n"
     ]
    }
   ],
   "source": [
    "name_pass1 = []\n",
    "name_pass2 = []\n",
    "name_pass3 = []\n",
    "for i in realtor_name_list:\n",
    "    if '공인중개사' in i:\n",
    "        name_pass1.append(i)\n",
    "    else:\n",
    "        name_pass2.append(i)\n",
    "\n",
    "for i in name_pass1:\n",
    "    name_pass3.append(mystrip(i))\n",
    "\n",
    "name_set = set(name_pass3)\n",
    "name_count = []\n",
    "for i in name_set:\n",
    "    name_count.append((i,name_pass3.count(i)))\n",
    "di_name = sorted(name_count, key = lambda x : x[1], reverse = True)\n",
    "\n",
    "print('흔한상호명 : ', di_name[:10])\n",
    "print('안흔한 상호명 : ',di_name[-5:])\n",
    "print('공인중개사가... 아닌 것:',name_pass2[:3])"
   ]
  }
 ],
 "metadata": {
  "kernelspec": {
   "display_name": "Python 3 (ipykernel)",
   "language": "python",
   "name": "python3"
  },
  "language_info": {
   "codemirror_mode": {
    "name": "ipython",
    "version": 3
   },
   "file_extension": ".py",
   "mimetype": "text/x-python",
   "name": "python",
   "nbconvert_exporter": "python",
   "pygments_lexer": "ipython3",
   "version": "3.10.9"
  }
 },
 "nbformat": 4,
 "nbformat_minor": 5
}
