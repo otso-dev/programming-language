{
 "cells": [
  {
   "cell_type": "code",
   "execution_count": 9,
   "id": "3093b2fd",
   "metadata": {},
   "outputs": [],
   "source": [
    "import mymodule as md\n",
    "import numpy as np"
   ]
  },
  {
   "cell_type": "code",
   "execution_count": 10,
   "id": "907e857d",
   "metadata": {},
   "outputs": [
    {
     "name": "stdout",
     "output_type": "stream",
     "text": [
      "(0, '중개사무소명')\n",
      "(1, '개설등록번호')\n",
      "(2, '개업공인중개사종별구분')\n",
      "(3, '소재지도로명주소')\n",
      "(4, '소재지지번주소')\n",
      "(5, '전화번호')\n",
      "(6, '개설등록일자')\n",
      "(7, '공제가입유무')\n",
      "(8, '대표자명')\n",
      "(9, '위도')\n",
      "(10, '경도')\n",
      "(11, '중개보조원수')\n",
      "(12, '소속공인중개사수')\n",
      "(13, '홈페이지주소')\n",
      "(14, '데이터기준일자')\n",
      "(15, '제공기관코드')\n",
      "(16, '제공기관명')\n"
     ]
    }
   ],
   "source": [
    "csv_data = []\n",
    "with open('전국공인중개사사무소표준데이터.csv') as f:\n",
    "    for line in f:\n",
    "        csv_data.append(md.my_split(line[:-1]))\n",
    "\n",
    "#assert len(md.split_len(csv_data)) == 1\n",
    "np_data = np.array(csv_data)\n",
    "for e in enumerate(np_data[0]):\n",
    "    print(e)"
   ]
  },
  {
   "cell_type": "code",
   "execution_count": 11,
   "id": "7563dfc4",
   "metadata": {},
   "outputs": [
    {
     "name": "stdout",
     "output_type": "stream",
     "text": [
      "['개업공인중개사' '공인중개사' '법인']\n",
      "[ 5085 23757   527]\n",
      "[17.31417481 80.89141612  1.79440907]\n"
     ]
    }
   ],
   "source": [
    "btypes = np_data[1:,2]\n",
    "#print(btypes[:3])\n",
    "btype_name, btype_count = np.unique(btypes,return_counts = True) # set과 같은 기능,count도 가능하다.\n",
    "print(btype_name)\n",
    "print(btype_count)\n",
    "print(btype_count*100/sum(btype_count))"
   ]
  },
  {
   "cell_type": "code",
   "execution_count": 12,
   "id": "836d1ded",
   "metadata": {},
   "outputs": [
    {
     "data": {
      "text/plain": [
       "(array(['N', 'Y'], dtype='<U74'), array([   30, 29339], dtype=int64))"
      ]
     },
     "execution_count": 12,
     "metadata": {},
     "output_type": "execute_result"
    }
   ],
   "source": [
    "y_n = np_data[1:,7]\n",
    "np.unique(y_n, return_counts = True)"
   ]
  },
  {
   "cell_type": "code",
   "execution_count": 13,
   "id": "41570705",
   "metadata": {},
   "outputs": [],
   "source": [
    "names = np_data[1:,0]\n",
    "name_head = []\n",
    "else_list = []\n",
    "for n in names:\n",
    "    n = n.replace(' ','')\n",
    "    if '공인중개사' in n:\n",
    "        name_head.append(n[:n.index('공인중개사')])\n",
    "    else:\n",
    "        else_list.append(n)"
   ]
  },
  {
   "cell_type": "code",
   "execution_count": 7,
   "id": "7b29508f",
   "metadata": {},
   "outputs": [
    {
     "name": "stdout",
     "output_type": "stream",
     "text": [
      "abc공인중개사\n"
     ]
    }
   ],
   "source": [
    "s = 'abc 공인중개사'\n",
    "s = s.replace(' ','')\n",
    "#s.index('공인중개사')\n",
    "#s[:s.index('공인중개사')]\n",
    "print(s)"
   ]
  },
  {
   "cell_type": "code",
   "execution_count": 22,
   "id": "0a8d5ea6",
   "metadata": {},
   "outputs": [
    {
     "name": "stdout",
     "output_type": "stream",
     "text": [
      "[('주식회사', 30), ('', 25), ('미스터홈즈', 18), ('미래', 13), ('우리', 12), ('금강', 10), ('부자', 10), ('삼성', 10), ('제일', 10), ('한국', 10)]\n"
     ]
    }
   ],
   "source": [
    "name, name_count = np.unique(name_head,return_counts=True)\n",
    "names = sorted(zip(name,name_count),key = lambda x:x[1],reverse = True)\n",
    "#print(names[:10])\n",
    "#print(names[-5:])\n",
    "\n",
    "else_name = []\n",
    "else_list2 = []\n",
    "for n in else_list:\n",
    "    n = n.replace(' ','')\n",
    "    if '부동산중개' in n:\n",
    "        else_name.append(n[:n.index('부동산중개')])\n",
    "    else:\n",
    "        else_list2.append(n)\n",
    "        \n",
    "else_name, else_name_count = np.unique(else_name,return_counts=True)\n",
    "else_names = sorted(zip(else_name,else_name_count),key=lambda x:x[1],reverse=True)\n",
    "\n",
    "print(else_names[:10])       "
   ]
  }
 ],
 "metadata": {
  "kernelspec": {
   "display_name": "Python 3 (ipykernel)",
   "language": "python",
   "name": "python3"
  },
  "language_info": {
   "codemirror_mode": {
    "name": "ipython",
    "version": 3
   },
   "file_extension": ".py",
   "mimetype": "text/x-python",
   "name": "python",
   "nbconvert_exporter": "python",
   "pygments_lexer": "ipython3",
   "version": "3.10.9"
  }
 },
 "nbformat": 4,
 "nbformat_minor": 5
}
