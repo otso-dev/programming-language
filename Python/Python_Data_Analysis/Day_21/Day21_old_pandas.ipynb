{
 "cells": [
  {
   "cell_type": "code",
   "execution_count": 1,
   "id": "b86035e6",
   "metadata": {},
   "outputs": [],
   "source": [
    "import numpy as np\n",
    "import pandas as pd\n",
    "\n",
    "pd_raw = pd.read_csv('전국노인장애인보호구역표준데이터.csv',encoding='cp949')\n",
    "col_selected = ['시도명','제한속도','CCTV설치여부','CCTV설치대수','보호구역도로폭']\n",
    "pd_data = pd_raw[col_selected]\n"
   ]
  },
  {
   "cell_type": "code",
   "execution_count": 2,
   "id": "57eb4c81",
   "metadata": {},
   "outputs": [
    {
     "name": "stdout",
     "output_type": "stream",
     "text": [
      "시도명 False\n",
      "제한속도 False\n",
      "CCTV설치여부 False\n",
      "CCTV설치대수 True\n",
      "보호구역도로폭 True\n"
     ]
    }
   ],
   "source": [
    "for e in pd_data:\n",
    "    print(e,pd_data[e].hasnans)"
   ]
  },
  {
   "cell_type": "code",
   "execution_count": 3,
   "id": "2d2661c3",
   "metadata": {},
   "outputs": [
    {
     "name": "stdout",
     "output_type": "stream",
     "text": [
      "['서울특별시' '경상북도' '충청남도' '강원도' '경기도' '전라북도' '대전광역시' '경상남도' '인천광역시' '울산광역시'\n",
      " '부산광역시' '대구광역시' '충청북도' '전라남도' '광주광역시' '세종특별자치시' '제주특별자치도']\n",
      "False\n"
     ]
    }
   ],
   "source": [
    "#시도명\n",
    "print(pd_data['시도명'].unique())\n",
    "print(pd_data['시도명'].hasnans)\n",
    "#결측치 이상치 오류치 없음"
   ]
  },
  {
   "cell_type": "code",
   "execution_count": 4,
   "id": "a6dfed2e",
   "metadata": {},
   "outputs": [
    {
     "name": "stdout",
     "output_type": "stream",
     "text": [
      "[30 50 60 40 38 39 41 42 43 44 45 46 47 48 49 51 52 53 54 55 31 32 33 34\n",
      " 35 36 37 20]\n",
      "False\n",
      "count    2518.000000\n",
      "mean       31.098094\n",
      "std         4.649784\n",
      "min        20.000000\n",
      "25%        30.000000\n",
      "50%        30.000000\n",
      "75%        30.000000\n",
      "max        60.000000\n",
      "Name: 제한속도, dtype: float64\n",
      "30.0 30.0 0.0 30.0 30.0\n"
     ]
    }
   ],
   "source": [
    "#제한속도\n",
    "print(pd_data['제한속도'].unique())\n",
    "print(pd_data['제한속도'].hasnans)\n",
    "print(pd_data['제한속도'].describe())\n",
    "\n",
    "# 이상치\n",
    "\n",
    "q1, q3 = pd_data['제한속도'].quantile([0.25,0.75])\n",
    "iqr = q3 - q1\n",
    "upper = q3 + 1.5 * iqr\n",
    "lower = q1 - 1.5 * iqr\n",
    "print(q1,q3,iqr,lower,upper)"
   ]
  },
  {
   "cell_type": "code",
   "execution_count": 5,
   "id": "1eaa6ad4",
   "metadata": {},
   "outputs": [
    {
     "name": "stdout",
     "output_type": "stream",
     "text": [
      "['Y' 'N']\n",
      "False\n"
     ]
    }
   ],
   "source": [
    "#CCTV설치여부\n",
    "print(pd_data['CCTV설치여부'].unique())\n",
    "print(pd_data['CCTV설치여부'].hasnans)\n",
    "#결측치 이상치 오류치 없음"
   ]
  },
  {
   "cell_type": "code",
   "execution_count": 6,
   "id": "7c37ae0e",
   "metadata": {},
   "outputs": [
    {
     "name": "stdout",
     "output_type": "stream",
     "text": [
      "[ 1. nan  0.  2.  4.  3.  5.  8.  9.]\n",
      "True\n",
      "[1. 0. 2. 4. 3. 5. 8. 9.]\n",
      "False\n"
     ]
    }
   ],
   "source": [
    "#CCTV설치대수\n",
    "print(pd_data['CCTV설치대수'].unique())\n",
    "print(pd_data['CCTV설치대수'].hasnans)\n",
    "#결측치 설치여부가 Y이면 1 N이면 0으로 대체\n",
    "filter_y = pd_data['CCTV설치여부'] == 'Y'\n",
    "filter_n = pd_data['CCTV설치여부'] == 'N'\n",
    "pd_data.loc[filter_y,'CCTV설치대수'] = pd_data.loc[filter_y,'CCTV설치대수'].replace(np.NaN,1)#fillna를 써도 됨\n",
    "pd_data.loc[filter_n,'CCTV설치대수'] = pd_data.loc[filter_n,'CCTV설치대수'].replace(np.NaN,1)\n",
    "\n",
    "print(pd_data['CCTV설치대수'].unique())\n",
    "print(pd_data['CCTV설치대수'].hasnans)"
   ]
  },
  {
   "cell_type": "code",
   "execution_count": 7,
   "id": "74e697ef",
   "metadata": {},
   "outputs": [
    {
     "name": "stdout",
     "output_type": "stream",
     "text": [
      "8.924292     1034\n",
      "6.000000      309\n",
      "8.000000      287\n",
      "7.000000      233\n",
      "9.000000      109\n",
      "             ... \n",
      "34.000000       1\n",
      "29.000000       1\n",
      "0.000000        1\n",
      "9.250000        1\n",
      "16.500000       1\n",
      "Name: 보호구역도로폭, Length: 64, dtype: int64\n"
     ]
    },
    {
     "name": "stderr",
     "output_type": "stream",
     "text": [
      "C:\\Users\\ITPS\\AppData\\Local\\Temp\\ipykernel_9248\\2292479166.py:13: SettingWithCopyWarning: \n",
      "A value is trying to be set on a copy of a slice from a DataFrame.\n",
      "Try using .loc[row_indexer,col_indexer] = value instead\n",
      "\n",
      "See the caveats in the documentation: https://pandas.pydata.org/pandas-docs/stable/user_guide/indexing.html#returning-a-view-versus-a-copy\n",
      "  pd_data['보호구역도로폭'] = pd_data['보호구역도로폭'].apply(myfn1).astype(np.float64)\n",
      "C:\\Users\\ITPS\\AppData\\Local\\Temp\\ipykernel_9248\\2292479166.py:16: SettingWithCopyWarning: \n",
      "A value is trying to be set on a copy of a slice from a DataFrame\n",
      "\n",
      "See the caveats in the documentation: https://pandas.pydata.org/pandas-docs/stable/user_guide/indexing.html#returning-a-view-versus-a-copy\n",
      "  pd_data['보호구역도로폭'].replace(np.NaN,pd_data['보호구역도로폭'].mean(),inplace=True)\n"
     ]
    }
   ],
   "source": [
    "#'보호구역도로폭'\n",
    "#print(pd_data['보호구역도로폭'].unique())\n",
    "#print(pd_data['보호구역도로폭'].hasnans)\n",
    "#결측치는 도로폭의 평균치로 대체\n",
    "#오류치 숫자 ~ 숫자의 형태는 분리후 np.float64로 대체\n",
    "def myfn1(x):\n",
    "    if (x == np.NaN) or (type(x) == type(1.0)):\n",
    "        return x\n",
    "    if '~' in x:\n",
    "        m = np.mean(np.array(x.split('~')).astype(np.float64))\n",
    "        return str(m)\n",
    "    else:\n",
    "        return x\n",
    "pd_data['보호구역도로폭'] = pd_data['보호구역도로폭'].apply(myfn1).astype(np.float64)\n",
    "#print(pd_road_f.value_counts())\n",
    "#print(pd_data['보호구역도로폭'].value_counts())\n",
    "pd_data['보호구역도로폭'].replace(np.NaN,pd_data['보호구역도로폭'].mean(),inplace=True)\n",
    "print(pd_data['보호구역도로폭'].value_counts())"
   ]
  },
  {
   "cell_type": "code",
   "execution_count": 8,
   "id": "2a843394",
   "metadata": {},
   "outputs": [
    {
     "name": "stdout",
     "output_type": "stream",
     "text": [
      "시도명 False\n",
      "제한속도 False\n",
      "CCTV설치여부 False\n",
      "CCTV설치대수 False\n",
      "보호구역도로폭 False\n"
     ]
    }
   ],
   "source": [
    "for e in pd_data:\n",
    "    print(e,pd_data[e].hasnans)"
   ]
  },
  {
   "cell_type": "code",
   "execution_count": 10,
   "id": "a1a3e63c",
   "metadata": {},
   "outputs": [],
   "source": [
    "filename = '전국노인장애인보호구역표준데이터(정제완료).csv'\n",
    "\n",
    "pd_data.to_csv(filename,index=False)"
   ]
  }
 ],
 "metadata": {
  "kernelspec": {
   "display_name": "Python 3 (ipykernel)",
   "language": "python",
   "name": "python3"
  },
  "language_info": {
   "codemirror_mode": {
    "name": "ipython",
    "version": 3
   },
   "file_extension": ".py",
   "mimetype": "text/x-python",
   "name": "python",
   "nbconvert_exporter": "python",
   "pygments_lexer": "ipython3",
   "version": "3.10.9"
  }
 },
 "nbformat": 4,
 "nbformat_minor": 5
}
