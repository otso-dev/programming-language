{
 "cells": [
  {
   "cell_type": "code",
   "execution_count": 1,
   "id": "00dd8027",
   "metadata": {},
   "outputs": [],
   "source": [
    "import numpy as np\n",
    "import pandas as pd\n",
    "\n",
    "pd_raw = pd.read_csv('전국어린이보호구역표준데이터.csv',encoding='cp949')\n",
    "col_selected = ['시설종류','관할경찰서명','CCTV설치여부','CCTV설치대수','제공기관명','보호구역도로폭']\n",
    "pd_data = pd_raw[col_selected]"
   ]
  },
  {
   "cell_type": "code",
   "execution_count": 2,
   "id": "be295d32",
   "metadata": {},
   "outputs": [
    {
     "name": "stdout",
     "output_type": "stream",
     "text": [
      "시설종류 False\n",
      "관할경찰서명 False\n",
      "CCTV설치여부 False\n",
      "CCTV설치대수 True\n",
      "제공기관명 False\n",
      "보호구역도로폭 True\n"
     ]
    }
   ],
   "source": [
    "for e in pd_data:\n",
    "    print(e,pd_data[e].hasnans)"
   ]
  },
  {
   "cell_type": "code",
   "execution_count": 3,
   "id": "41e6441a",
   "metadata": {
    "scrolled": true
   },
   "outputs": [
    {
     "name": "stdout",
     "output_type": "stream",
     "text": [
      "['유치원' '초등학교' '어린이집' '특수학교' '학원' '외국인학교' '대안학교' '국제학교' '외국인교육기관'\n",
      " '초등학교+어린이집']\n",
      "False\n",
      "False    15053\n",
      "True         3\n",
      "Name: 시설종류, dtype: int64\n",
      "['유치원' '초등학교' '어린이집' '특수학교' '학원' '외국인학교' '대안학교' '국제학교' '외국인교육기관' nan]\n",
      "True\n"
     ]
    }
   ],
   "source": [
    "# 시설종류\n",
    "print(pd_data['시설종류'].unique())\n",
    "print(pd_data['시설종류'].hasnans)\n",
    "\n",
    "#결측치 이상치 없음\n",
    "\n",
    "#오류치 : 초등학교+어린이집 -> np.NaN로 대체 후 dropnp로 제거\n",
    "filter1 = pd_data['시설종류'] =='초등학교+어린이집'\n",
    "print(filter1.value_counts())\n",
    "pd_data.loc[filter1,'시설종류'] = np.NaN\n",
    "print(pd_data['시설종류'].unique())\n",
    "print(pd_data['시설종류'].hasnans)"
   ]
  },
  {
   "cell_type": "code",
   "execution_count": 4,
   "id": "92983074",
   "metadata": {},
   "outputs": [
    {
     "name": "stdout",
     "output_type": "stream",
     "text": [
      "False\n",
      "False\n"
     ]
    },
    {
     "name": "stderr",
     "output_type": "stream",
     "text": [
      "C:\\Users\\ITPS\\AppData\\Local\\Temp\\ipykernel_11340\\1233919080.py:12: SettingWithCopyWarning: \n",
      "A value is trying to be set on a copy of a slice from a DataFrame.\n",
      "Try using .loc[row_indexer,col_indexer] = value instead\n",
      "\n",
      "See the caveats in the documentation: https://pandas.pydata.org/pandas-docs/stable/user_guide/indexing.html#returning-a-view-versus-a-copy\n",
      "  pd_data.loc[:,'관할경찰서명'] = pd_data.loc[:,'관할경찰서명'].apply(e1)\n"
     ]
    }
   ],
   "source": [
    "#관할경찰서명\n",
    "#print(pd_data['관할경찰서명'].unique())\n",
    "print(pd_data['관할경찰서명'].hasnans)\n",
    "#결측치 이상치 없음\n",
    "\n",
    "# 오류치 끝에 경찰서가 없는 단어들은 경찰서를 붙여주기\n",
    "def e1(x):\n",
    "    if '경찰서' not in x:\n",
    "        return x+'경찰서'\n",
    "    else:\n",
    "        return x\n",
    "pd_data.loc[:,'관할경찰서명'] = pd_data.loc[:,'관할경찰서명'].apply(e1)\n",
    "\n",
    "#print(pd_data['관할경찰서명'].unique())\n",
    "print(pd_data['관할경찰서명'].hasnans)"
   ]
  },
  {
   "cell_type": "code",
   "execution_count": 5,
   "id": "12cf8b41",
   "metadata": {},
   "outputs": [
    {
     "name": "stdout",
     "output_type": "stream",
     "text": [
      "['Y' 'N']\n",
      "False\n"
     ]
    }
   ],
   "source": [
    "#CCTV설치여부\n",
    "print(pd_data['CCTV설치여부'].unique())\n",
    "print(pd_data['CCTV설치여부'].hasnans)\n",
    "#결측치 이상치 오류치 없음\n"
   ]
  },
  {
   "cell_type": "code",
   "execution_count": 6,
   "id": "3eb3b34e",
   "metadata": {},
   "outputs": [
    {
     "name": "stdout",
     "output_type": "stream",
     "text": [
      "[nan  2.  3.  5.  4.  6.  1.  0.  7. 24. 10.  9. 14.  8. 11. 20. 19. 18.\n",
      " 15. 12. 34. 13. 36. 17. 23. 46. 21. 16. 22. 28. 26. 29. 32. 35.]\n",
      "True\n",
      "False    11682\n",
      "True      3374\n",
      "Name: CCTV설치대수, dtype: int64\n",
      "[ 1.  2.  3.  5.  4.  6.  0.  7. 24. 10.  9. 14.  8. 11. 20. 19. 18. 15.\n",
      " 12. 34. 13. 36. 17. 23. 46. 21. 16. 22. 28. 26. 29. 32. 35.]\n",
      "False\n"
     ]
    }
   ],
   "source": [
    "#CCTV설치대수\n",
    "print(pd_data['CCTV설치대수'].unique())\n",
    "print(pd_data['CCTV설치대수'].hasnans)\n",
    "na_filter = pd_data['CCTV설치대수'].isna()\n",
    "print(na_filter.value_counts())\n",
    "#결측치 -> 설치여부가 Y인것은 1로 설치여부가 N인것은 0으로\n",
    "filter_y = pd_data['CCTV설치여부'] == 'Y'\n",
    "filter_n = pd_data['CCTV설치여부'] == 'N'\n",
    "pd_data.loc[filter_y,'CCTV설치대수'] = pd_data.loc[filter_y,'CCTV설치대수'].replace(np.NaN,1)\n",
    "pd_data.loc[filter_n,'CCTV설치대수'] = pd_data.loc[filter_n,'CCTV설치대수'].replace(np.NaN,1)\n",
    "\n",
    "print(pd_data['CCTV설치대수'].unique())\n",
    "print(pd_data['CCTV설치대수'].hasnans)"
   ]
  },
  {
   "cell_type": "code",
   "execution_count": 7,
   "id": "dc3e9b30",
   "metadata": {},
   "outputs": [
    {
     "name": "stdout",
     "output_type": "stream",
     "text": [
      "6.0 -2.0\n",
      "[ 1.  2.  3.  5.  4.  6.  0. nan]\n",
      "True\n"
     ]
    }
   ],
   "source": [
    "# 이상치 6이상이면 np.NaN으로 대체 dropna로 제거\n",
    "q1,q3 = pd_data['CCTV설치대수'].quantile([0.25,0.75])\n",
    "iqr = q3 - q1\n",
    "upper = q3 + 1.5 * iqr\n",
    "lower = q1 - 1.5 * iqr\n",
    "print(upper,lower)\n",
    "filter1 = pd_data['CCTV설치대수'] > upper\n",
    "#print(filter1.value_counts())\n",
    "pd_data.loc[filter1,'CCTV설치대수'] = np.NaN\n",
    "print(pd_data['CCTV설치대수'].unique())\n",
    "print(pd_data['CCTV설치대수'].hasnans)"
   ]
  },
  {
   "cell_type": "code",
   "execution_count": 8,
   "id": "5732d205",
   "metadata": {},
   "outputs": [
    {
     "name": "stdout",
     "output_type": "stream",
     "text": [
      "['전라북도 고창군' '충청남도 보령시' '인천광역시 서구' '인천광역시 남동구' '경상북도 구미시' '대전광역시 동구'\n",
      " '경상남도 양산시' '경기도 안산시' '경기도 파주시' '대전광역시 중구' '경기도 화성시' '경기도 군포시' '경기도 광주시'\n",
      " '부산광역시 강서구' '서울특별시 양천구' '경상남도 합천군' '강원도 속초시' '전라북도 전주시' '전라남도 순천시'\n",
      " '충청남도 서산시' '강원도 양양군' '부산광역시 중구' '대전광역시 대덕구' '경기도 이천시' '서울특별시 서초구'\n",
      " '강원도 평창군' '충청북도 진천군' '대전광역시 유성구' '세종특별자치시' '강원도 동해시' '경기도 시흥시' '경기도 수원시'\n",
      " '충청남도 금산군' '경상북도 경산시' '강원도 원주시' '서울특별시 용산구' '서울특별시 강북구' '경기도 부천시'\n",
      " '인천광역시 부평구' '인천광역시 연수구' '대구광역시 달서구' '경기도 남양주시' '서울특별시 동대문구' '서울특별시 동작구'\n",
      " '서울특별시 중구' '경상북도 영덕군' '서울특별시 강동구' '경기도 고양시' '경상북도 문경시' '경기도 안양시'\n",
      " '부산광역시 서구' '전라남도 곡성군' '경기도 용인시' '대구광역시 북구' '충청남도 홍성군' '충청남도 논산시'\n",
      " '광주광역시 서구' '부산광역시 사상구' '전라북도 무주군' '경상북도 울진군' '광주광역시 북구' '서울특별시 광진구'\n",
      " '강원도 횡성군' '부산광역시 연제구' '서울특별시 강남구' '충청북도 보은군' '충청북도 영동군' '서울특별시 영등포구'\n",
      " '경기도 동두천시' '서울특별시 마포구' '서울특별시 도봉구' '전라북도 완주군' '서울특별시 금천구' '서울특별시 관악구'\n",
      " '경기도 광명시' '전라남도 보성군' '경기도 과천시' '경상남도 진주시' '부산광역시 사하구' '경상북도 청송군'\n",
      " '부산광역시 해운대구' '인천광역시 강화군' '경상남도 남해군' '전라남도 장흥군' '전라남도 광양시' '인천광역시 동구'\n",
      " '부산광역시 북구' '전라북도 익산시' '경상남도 창원시' '경상남도 거창군' '전라북도 순창군' '전라남도 영광군'\n",
      " '대구광역시 중구' '서울특별시 중랑구' '강원도 태백시' '경상남도 밀양시' '전라남도 완도군' '경상북도 김천시'\n",
      " '전라남도 함평군' '부산광역시 남구' '경기도 포천시' '경상북도 울릉군' '경상북도 상주시' '부산광역시 부산진구'\n",
      " '경상북도 영천시' '충청남도 예산군' '경상남도' '경상북도 의성군' '전라북도 장수군' '강원도 정선군' '광주광역시 동구'\n",
      " '경상남도 창녕군' '강원도 삼척시' '울산광역시 북구' '광주광역시 광산구' '충청남도 서천군' '전라북도 남원시'\n",
      " '울산광역시 남구' '전라남도 장성군' '대구광역시 달성군' '강원도 철원군' '충청북도 옥천군' '충청남도 부여군'\n",
      " '경상남도 김해시' '대전광역시' '강원도 고성군' '강원도 홍천군' '전라남도 화순군' '경기도 가평군' '경상남도 사천시'\n",
      " '강원도 화천군' '전라북도 임실군' '대구광역시 서구' '경기도 하남시' '경상남도 통영시' '경상남도 의령군' '제주특별자치도'\n",
      " '전라북도 진안군' '경상북도 영주시' '경상북도 영양군' '대구광역시 동구' '경상북도 고령군' '경기도 김포시'\n",
      " '부산광역시 동구' '서울특별시 종로구' '충청남도 천안시' '경상북도 안동시' '충청북도 제천시' '전라남도 영암군'\n",
      " '대전광역시 서구' '전라북도 부안군' '충청남도 공주시' '강원도 춘천시' '충청북도 증평군' '충청북도 괴산군'\n",
      " '울산광역시 중구' '부산광역시 동래구' '전라남도 신안군' '대구광역시 남구' '전라남도 목포시' '부산광역시 금정구'\n",
      " '강원도 인제군' '대구광역시 수성구' '경기도 오산시' '서울특별시 강서구' '경상남도 함안군' '서울특별시 성북구'\n",
      " '인천광역시 중구' '울산광역시 울주군' '경상북도 청도군' '경기도 구리시' '충청남도 태안군' '경기도 평택시'\n",
      " '경기도 여주시' '경기도 의왕시' '전라남도 해남군' '광주광역시 남구' '경기도 의정부시' '전라북도 정읍시'\n",
      " '서울특별시 구로구' '충청북도 충주시' '강원도 강릉시' '경기도 양주시' '서울특별시 서대문구' '인천광역시 옹진군'\n",
      " '인천광역시 미추홀구' '서울특별시 성동구' '서울특별시 노원구' '전라남도 강진군' '경상남도 거제시' '전라남도 담양군'\n",
      " '전라북도 군산시' '전라남도 진도군' '울산광역시 동구' '경상남도 산청군' '부산광역시 기장군' '전라남도 나주시'\n",
      " '경기도 성남시' '경상북도 경주시' '경기도 연천군' '경상남도 함양군' '경상북도 봉화군' '부산광역시 영도구'\n",
      " '충청북도 단양군' '경상북도 예천군' '경상남도 고성군' '충청남도 계룡시' '충청남도 청양군' '강원도 영월군'\n",
      " '경기도 안성시' '서울특별시 은평구' '경상북도 군위군' '전라남도 고흥군' '전라남도 여수시' '부산광역시 수영구'\n",
      " '인천광역시 계양구' '경기도 양평군' '충청남도 아산시' '전라남도 무안군' '경상북도 포항시' '경상북도 성주군'\n",
      " '충청북도 청주시' '경상북도 칠곡군' '서울특별시 송파구' '강원도 양구군']\n",
      "False\n"
     ]
    }
   ],
   "source": [
    "# 제공기관명\n",
    "print(pd_data['제공기관명'].unique())\n",
    "print(pd_data['제공기관명'].hasnans)\n",
    "#결측치 오류치 이상치 없음"
   ]
  },
  {
   "cell_type": "code",
   "execution_count": 9,
   "id": "a392cc69",
   "metadata": {},
   "outputs": [
    {
     "name": "stdout",
     "output_type": "stream",
     "text": [
      "True\n",
      "6.0      330\n",
      "16.5     185\n",
      "6.5      168\n",
      "7.0      162\n",
      "9.0      128\n",
      "        ... \n",
      "31.0       1\n",
      "7.35       1\n",
      "6.95       1\n",
      "13.85      1\n",
      "34.5       1\n",
      "Name: 보호구역도로폭, Length: 131, dtype: int64\n",
      "10.94575    12421\n",
      "6.00000       330\n",
      "16.50000      185\n",
      "6.50000       168\n",
      "7.00000       162\n",
      "            ...  \n",
      "31.00000        1\n",
      "7.35000         1\n",
      "6.95000         1\n",
      "13.85000        1\n",
      "34.50000        1\n",
      "Name: 보호구역도로폭, Length: 132, dtype: int64\n"
     ]
    },
    {
     "name": "stderr",
     "output_type": "stream",
     "text": [
      "C:\\Users\\ITPS\\AppData\\Local\\Temp\\ipykernel_11340\\561883978.py:24: SettingWithCopyWarning: \n",
      "A value is trying to be set on a copy of a slice from a DataFrame.\n",
      "Try using .loc[row_indexer,col_indexer] = value instead\n",
      "\n",
      "See the caveats in the documentation: https://pandas.pydata.org/pandas-docs/stable/user_guide/indexing.html#returning-a-view-versus-a-copy\n",
      "  pd_data['보호구역도로폭'] = y\n"
     ]
    }
   ],
   "source": [
    "# '보호구역도로폭'\n",
    "#print(pd_data['보호구역도로폭'].unique())\n",
    "print(pd_data['보호구역도로폭'].hasnans)\n",
    "def myfn1(x):\n",
    "    if type(x) == type(' '):\n",
    "        if '~' in x:\n",
    "            m = np.array(x.split('~')).astype(np.float64).mean()\n",
    "            return str(m)\n",
    "\n",
    "# 도로폭 : 오류치 처리\n",
    "# 숫자 ~ 숫자 형태의 문자열 -> 평균치 np.float64 값으로 대체\n",
    "#print(pd_data['보호구역도로폭'].value_counts())\n",
    "y = pd_data['보호구역도로폭'].apply(myfn1)\n",
    "#print(pd_data['보호구역도로폭'].value_counts())\n",
    "print(y.value_counts())\n",
    "\n",
    "\n",
    "# 도로폭 : 결측치 처리\n",
    "# 전체 도로폭 평균치로 대처\n",
    "#print(pd_data['보호구역도로폭'].isna().value_counts())\n",
    "y = y.astype(np.float64)\n",
    "y = y.replace(np.NaN,y.mean())\n",
    "#print(y.isna().value_counts())\n",
    "pd_data['보호구역도로폭'] = y\n",
    "print(pd_data['보호구역도로폭'].value_counts())"
   ]
  },
  {
   "cell_type": "code",
   "execution_count": 12,
   "id": "e6597c67",
   "metadata": {},
   "outputs": [
    {
     "name": "stdout",
     "output_type": "stream",
     "text": [
      "0        전라북도 고창군\n",
      "1        전라북도 고창군\n",
      "2        전라북도 고창군\n",
      "3        전라북도 고창군\n",
      "4        전라북도 고창군\n",
      "           ...   \n",
      "15051    전라남도 목포시\n",
      "15052    전라남도 목포시\n",
      "15053    전라남도 목포시\n",
      "15054    전라남도 목포시\n",
      "15055    경상남도 창원시\n",
      "Name: 제공기관명, Length: 15056, dtype: object\n"
     ]
    },
    {
     "ename": "ValueError",
     "evalue": "cannot insert 시도명, already exists",
     "output_type": "error",
     "traceback": [
      "\u001b[1;31m---------------------------------------------------------------------------\u001b[0m",
      "\u001b[1;31mValueError\u001b[0m                                Traceback (most recent call last)",
      "Cell \u001b[1;32mIn[12], line 6\u001b[0m\n\u001b[0;32m      4\u001b[0m new_df \u001b[38;5;241m=\u001b[39m pd_data[\u001b[38;5;124m'\u001b[39m\u001b[38;5;124m제공기관명\u001b[39m\u001b[38;5;124m'\u001b[39m]\u001b[38;5;241m.\u001b[39mapply(mysplit)\n\u001b[0;32m      5\u001b[0m \u001b[38;5;28mprint\u001b[39m(pd_data[\u001b[38;5;124m'\u001b[39m\u001b[38;5;124m제공기관명\u001b[39m\u001b[38;5;124m'\u001b[39m])\n\u001b[1;32m----> 6\u001b[0m \u001b[43mpd_data\u001b[49m\u001b[38;5;241;43m.\u001b[39;49m\u001b[43minsert\u001b[49m\u001b[43m(\u001b[49m\u001b[38;5;241;43m0\u001b[39;49m\u001b[43m,\u001b[49m\u001b[38;5;124;43m'\u001b[39;49m\u001b[38;5;124;43m시도명\u001b[39;49m\u001b[38;5;124;43m'\u001b[39;49m\u001b[43m,\u001b[49m\u001b[43mnew_df\u001b[49m\u001b[43m)\u001b[49m\n\u001b[0;32m      7\u001b[0m \u001b[38;5;28mprint\u001b[39m(pd_data)\n",
      "File \u001b[1;32m~\\AppData\\Local\\Programs\\Python\\Python310\\lib\\site-packages\\pandas\\core\\frame.py:4817\u001b[0m, in \u001b[0;36mDataFrame.insert\u001b[1;34m(self, loc, column, value, allow_duplicates)\u001b[0m\n\u001b[0;32m   4811\u001b[0m     \u001b[38;5;28;01mraise\u001b[39;00m \u001b[38;5;167;01mValueError\u001b[39;00m(\n\u001b[0;32m   4812\u001b[0m         \u001b[38;5;124m\"\u001b[39m\u001b[38;5;124mCannot specify \u001b[39m\u001b[38;5;124m'\u001b[39m\u001b[38;5;124mallow_duplicates=True\u001b[39m\u001b[38;5;124m'\u001b[39m\u001b[38;5;124m when \u001b[39m\u001b[38;5;124m\"\u001b[39m\n\u001b[0;32m   4813\u001b[0m         \u001b[38;5;124m\"\u001b[39m\u001b[38;5;124m'\u001b[39m\u001b[38;5;124mself.flags.allows_duplicate_labels\u001b[39m\u001b[38;5;124m'\u001b[39m\u001b[38;5;124m is False.\u001b[39m\u001b[38;5;124m\"\u001b[39m\n\u001b[0;32m   4814\u001b[0m     )\n\u001b[0;32m   4815\u001b[0m \u001b[38;5;28;01mif\u001b[39;00m \u001b[38;5;129;01mnot\u001b[39;00m allow_duplicates \u001b[38;5;129;01mand\u001b[39;00m column \u001b[38;5;129;01min\u001b[39;00m \u001b[38;5;28mself\u001b[39m\u001b[38;5;241m.\u001b[39mcolumns:\n\u001b[0;32m   4816\u001b[0m     \u001b[38;5;66;03m# Should this be a different kind of error??\u001b[39;00m\n\u001b[1;32m-> 4817\u001b[0m     \u001b[38;5;28;01mraise\u001b[39;00m \u001b[38;5;167;01mValueError\u001b[39;00m(\u001b[38;5;124mf\u001b[39m\u001b[38;5;124m\"\u001b[39m\u001b[38;5;124mcannot insert \u001b[39m\u001b[38;5;132;01m{\u001b[39;00mcolumn\u001b[38;5;132;01m}\u001b[39;00m\u001b[38;5;124m, already exists\u001b[39m\u001b[38;5;124m\"\u001b[39m)\n\u001b[0;32m   4818\u001b[0m \u001b[38;5;28;01mif\u001b[39;00m \u001b[38;5;129;01mnot\u001b[39;00m \u001b[38;5;28misinstance\u001b[39m(loc, \u001b[38;5;28mint\u001b[39m):\n\u001b[0;32m   4819\u001b[0m     \u001b[38;5;28;01mraise\u001b[39;00m \u001b[38;5;167;01mTypeError\u001b[39;00m(\u001b[38;5;124m\"\u001b[39m\u001b[38;5;124mloc must be int\u001b[39m\u001b[38;5;124m\"\u001b[39m)\n",
      "\u001b[1;31mValueError\u001b[0m: cannot insert 시도명, already exists"
     ]
    }
   ],
   "source": [
    "# 시도명 추가\n",
    "def mysplit(x):\n",
    "    return x.split(' ')[0]\n",
    "new_df = pd_data['제공기관명'].apply(mysplit)\n",
    "print(pd_data['제공기관명'])\n",
    "pd_data.insert(0,'시도명',new_df)\n",
    "print(pd_data)\n",
    "#apply, map, applymap, aggreagate, agg"
   ]
  },
  {
   "cell_type": "code",
   "execution_count": 13,
   "id": "cd1f1339",
   "metadata": {},
   "outputs": [
    {
     "name": "stdout",
     "output_type": "stream",
     "text": [
      "(15056, 7)\n",
      "(14202, 7)\n"
     ]
    }
   ],
   "source": [
    "pd_data_f = pd_data.dropna()\n",
    "print(pd_data.shape)\n",
    "print(pd_data_f.shape)"
   ]
  },
  {
   "cell_type": "code",
   "execution_count": 14,
   "id": "83f3b8d0",
   "metadata": {},
   "outputs": [],
   "source": [
    "filename = '전국어린이보호구역표준데이터(정제완료).csv'\n",
    "pd_data_f.to_csv(filename,index=False)"
   ]
  }
 ],
 "metadata": {
  "kernelspec": {
   "display_name": "Python 3 (ipykernel)",
   "language": "python",
   "name": "python3"
  },
  "language_info": {
   "codemirror_mode": {
    "name": "ipython",
    "version": 3
   },
   "file_extension": ".py",
   "mimetype": "text/x-python",
   "name": "python",
   "nbconvert_exporter": "python",
   "pygments_lexer": "ipython3",
   "version": "3.10.9"
  }
 },
 "nbformat": 4,
 "nbformat_minor": 5
}
