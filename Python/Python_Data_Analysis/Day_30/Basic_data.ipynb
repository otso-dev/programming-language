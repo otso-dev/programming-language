{
 "cells": [
  {
   "cell_type": "code",
   "execution_count": 1,
   "id": "768906da",
   "metadata": {},
   "outputs": [],
   "source": [
    "import math\n",
    "import numpy as np\n",
    "\n",
    "def my_sq_prod(python_list):\n",
    "    return_list = []\n",
    "    for number in python_list:\n",
    "        return_list.append(number**2)\n",
    "    return math.prod(return_list)\n",
    "\n",
    "assert my_sq_prod([1,2,3]) == 36"
   ]
  },
  {
   "cell_type": "code",
   "execution_count": 2,
   "id": "006f9fe2",
   "metadata": {},
   "outputs": [],
   "source": [
    "def my_sq_prod3(numpy_ndarray):\n",
    "    values = numpy_ndarray**2\n",
    "    result = 1\n",
    "    for number in values:\n",
    "        result *= number\n",
    "    return result\n",
    "\n",
    "assert my_sq_prod([4,5,6]) == 14400"
   ]
  },
  {
   "cell_type": "code",
   "execution_count": 3,
   "id": "7697726c",
   "metadata": {},
   "outputs": [],
   "source": [
    "def score_check():\n",
    "    score = 0\n",
    "\n",
    "    if my_sq_prod([1,2,3])==36:\n",
    "\n",
    "        score += 30\n",
    "\n",
    "    print(score)"
   ]
  },
  {
   "cell_type": "code",
   "execution_count": 4,
   "id": "504529e7",
   "metadata": {},
   "outputs": [
    {
     "name": "stdout",
     "output_type": "stream",
     "text": [
      "30\n"
     ]
    }
   ],
   "source": [
    "if __name__ == '__main__':\n",
    "    score_check()"
   ]
  },
  {
   "cell_type": "code",
   "execution_count": 5,
   "id": "5aa5c777",
   "metadata": {},
   "outputs": [],
   "source": [
    "import numpy as np\n",
    "\n",
    "import pandas as pd\n",
    "\n",
    "import random\n",
    "\n",
    " \n",
    "\n",
    "random.seed(123)\n",
    "\n",
    "pd_iris = pd.read_csv('https://archive.ics.uci.edu/ml/machine-learning-databases/iris/iris.data')\n",
    "\n",
    "pd_iris.columns = ['petal_length', 'petal_width', 'sepal_length', 'sepal_width', 'class']\n"
   ]
  },
  {
   "cell_type": "code",
   "execution_count": 6,
   "id": "3c97fb42",
   "metadata": {},
   "outputs": [],
   "source": [
    "rand_axis0 = [random.randint(0,150) for _ in range(5)]\n",
    "\n",
    "rand_axis1 = [random.randint(0, 4) for _ in range(5)]\n",
    "\n",
    "pd_iris.iloc[rand_axis0, rand_axis1] = np.NaN\n",
    "\n",
    "rand_axis0 = [random.randint(0,150) for _ in range(5)]\n",
    "\n",
    "rand_axis1 = [random.randint(0, 4) for _ in range(5)]\n",
    "\n",
    "pd_iris.iloc[rand_axis0, rand_axis1] = 123.4 + random.randint(0,4)/10\n",
    "\n",
    "df1 = pd.DataFrame(np.arange(100, 120).reshape(4,5), dtype='str')"
   ]
  },
  {
   "cell_type": "code",
   "execution_count": 7,
   "id": "0fcf98a1",
   "metadata": {},
   "outputs": [],
   "source": [
    "pd_iris['petal_length'].isna().value_counts()\n",
    "for i in pd_iris['petal_length']:\n",
    "    pass\n",
    "#     print(i)\n",
    "# print(pd_iris['petal_length'].describe())\n",
    "q1, q3 = pd_iris['petal_length'].quantile([0.25,0.75])\n",
    "iqr = q3 - q1\n",
    "upper = q3 + 1.5 * iqr\n",
    "lower = q1 - 1.5 * iqr\n",
    "\n",
    "filter1 = pd_iris['petal_length'] > upper\n",
    "pd_filter = pd_iris[filter1]\n",
    "# pd_filter.value_counts()\n",
    "pd_iris['petal_length']=pd_iris['petal_length'].dropna()"
   ]
  },
  {
   "cell_type": "code",
   "execution_count": 11,
   "id": "731f20bb",
   "metadata": {},
   "outputs": [
    {
     "data": {
      "text/plain": [
       "5.843448275862069"
      ]
     },
     "execution_count": 11,
     "metadata": {},
     "output_type": "execute_result"
    }
   ],
   "source": [
    "pd_iris['petal_length'].dropna().mean()"
   ]
  },
  {
   "cell_type": "code",
   "execution_count": 33,
   "id": "27cadf69",
   "metadata": {},
   "outputs": [
    {
     "name": "stdout",
     "output_type": "stream",
     "text": [
      "(153, 5)\n"
     ]
    }
   ],
   "source": [
    "df1.columns = ['petal_length', 'petal_width', 'sepal_length', 'sepal_width', 'class']\n",
    "df_combine = pd.concat([pd_iris,df1],ignore_index=True)\n",
    "print(df_combine.shape)"
   ]
  },
  {
   "cell_type": "code",
   "execution_count": 32,
   "id": "856046b6",
   "metadata": {},
   "outputs": [
    {
     "name": "stdout",
     "output_type": "stream",
     "text": [
      "(149, 5)\n"
     ]
    }
   ],
   "source": []
  }
 ],
 "metadata": {
  "kernelspec": {
   "display_name": "Python 3 (ipykernel)",
   "language": "python",
   "name": "python3"
  },
  "language_info": {
   "codemirror_mode": {
    "name": "ipython",
    "version": 3
   },
   "file_extension": ".py",
   "mimetype": "text/x-python",
   "name": "python",
   "nbconvert_exporter": "python",
   "pygments_lexer": "ipython3",
   "version": "3.10.9"
  }
 },
 "nbformat": 4,
 "nbformat_minor": 5
}
