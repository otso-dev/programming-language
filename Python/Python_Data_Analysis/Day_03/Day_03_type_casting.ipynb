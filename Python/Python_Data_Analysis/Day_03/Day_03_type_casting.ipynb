{
 "cells": [
  {
   "cell_type": "code",
   "execution_count": 1,
   "id": "8ab438c3",
   "metadata": {},
   "outputs": [
    {
     "name": "stdout",
     "output_type": "stream",
     "text": [
      "abc\n",
      "<class 'str'>\n",
      "IndexError\n"
     ]
    },
    {
     "ename": "NameError",
     "evalue": "name 'b' is not defined",
     "output_type": "error",
     "traceback": [
      "\u001b[1;31m---------------------------------------------------------------------------\u001b[0m",
      "\u001b[1;31mNameError\u001b[0m                                 Traceback (most recent call last)",
      "Cell \u001b[1;32mIn[1], line 15\u001b[0m\n\u001b[0;32m     13\u001b[0m \u001b[38;5;28;01mexcept\u001b[39;00m \u001b[38;5;167;01mIndexError\u001b[39;00m:\n\u001b[0;32m     14\u001b[0m     \u001b[38;5;28mprint\u001b[39m(\u001b[38;5;124m'\u001b[39m\u001b[38;5;124mIndexError\u001b[39m\u001b[38;5;124m'\u001b[39m)\n\u001b[1;32m---> 15\u001b[0m \u001b[38;5;28mprint\u001b[39m(\u001b[43mb\u001b[49m)\n\u001b[0;32m     16\u001b[0m \u001b[38;5;28mprint\u001b[39m(\u001b[38;5;28mtype\u001b[39m(b))\n",
      "\u001b[1;31mNameError\u001b[0m: name 'b' is not defined"
     ]
    }
   ],
   "source": [
    "# 형변환이 가능한 것만 형변환 시킴\n",
    "a = 'abc'\n",
    "print(a)\n",
    "print(type(a))\n",
    "\n",
    "#exception 예외처리\n",
    "x = []\n",
    "try:\n",
    "    #b = float(a)\n",
    "    print(x[0])\n",
    "except ValueError:\n",
    "    b = -1\n",
    "except IndexError:\n",
    "    print('IndexError')\n",
    "print(b)\n",
    "print(type(b))"
   ]
  },
  {
   "cell_type": "code",
   "execution_count": 44,
   "id": "59577344",
   "metadata": {},
   "outputs": [
    {
     "name": "stdout",
     "output_type": "stream",
     "text": [
      "292 -> 총 센터 갯수 \n",
      " 167 -> 의사가 없는 센터 갯수\n",
      " 156 -> 총 의사명 수\n"
     ]
    }
   ],
   "source": [
    "data_list = []\n",
    "with open('전국건강증진센터표준데이터.csv') as f:\n",
    "    for line in f:\n",
    "        data_list.append(line.split(','))\n",
    "data_list = data_list[1:]\n",
    "#print(data_list)\n",
    "#print(len(data_list))\n",
    "centor_list = []\n",
    "doctor_list = []\n",
    "for i in data_list:\n",
    "    centor_list.append(i[0])\n",
    "    doctor_list.append(i[11])\n",
    "\n",
    "#print(doctor_list)\n",
    "\n",
    "total_doctor = 0\n",
    "for i in doctor_list:\n",
    "    total_doctor += int(i)\n",
    "centor_set = set(centor_list)\n",
    "total_centor = len(centor_list)\n",
    "di_list = dict(zip(centor_list,doctor_list))\n",
    "\n",
    "zero_centor = 0\n",
    "for i in doctor_list:\n",
    "    if int(i) == 0:\n",
    "        zero_centor += 1\n",
    "    \n",
    "print(total_centor,'-> 총 센터 갯수','\\n',zero_centor,'-> 의사가 없는 센터 갯수\\n',total_doctor,'-> 총 의사명 수')\n",
    "    "
   ]
  }
 ],
 "metadata": {
  "kernelspec": {
   "display_name": "Python 3 (ipykernel)",
   "language": "python",
   "name": "python3"
  },
  "language_info": {
   "codemirror_mode": {
    "name": "ipython",
    "version": 3
   },
   "file_extension": ".py",
   "mimetype": "text/x-python",
   "name": "python",
   "nbconvert_exporter": "python",
   "pygments_lexer": "ipython3",
   "version": "3.10.9"
  }
 },
 "nbformat": 4,
 "nbformat_minor": 5
}
