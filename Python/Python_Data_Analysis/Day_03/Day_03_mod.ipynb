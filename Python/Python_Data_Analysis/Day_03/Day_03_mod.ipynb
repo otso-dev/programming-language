{
 "cells": [
  {
   "cell_type": "code",
   "execution_count": 47,
   "id": "834ae622",
   "metadata": {},
   "outputs": [
    {
     "data": {
      "text/plain": [
       "92"
      ]
     },
     "execution_count": 47,
     "metadata": {},
     "output_type": "execute_result"
    }
   ],
   "source": [
    "import random #random 전체를 가져옴\n",
    "random.randrange(0,100,2)"
   ]
  },
  {
   "cell_type": "code",
   "execution_count": 4,
   "id": "d80ac7f4",
   "metadata": {},
   "outputs": [
    {
     "data": {
      "text/plain": [
       "96"
      ]
     },
     "execution_count": 4,
     "metadata": {},
     "output_type": "execute_result"
    }
   ],
   "source": [
    "from random import randrange as rr #random에서 import를 randrange만 가져와서 쓰겠다.\n",
    "rr(0,100,3)"
   ]
  },
  {
   "cell_type": "code",
   "execution_count": null,
   "id": "dbd10a12",
   "metadata": {},
   "outputs": [],
   "source": [
    "import random as rand # random을 as로 rand바꿔서 쓰겠다."
   ]
  },
  {
   "cell_type": "code",
   "execution_count": 7,
   "id": "53dd9356",
   "metadata": {},
   "outputs": [
    {
     "name": "stdout",
     "output_type": "stream",
     "text": [
      "my module import\n"
     ]
    }
   ],
   "source": [
    "import mymodule as module\n",
    "module.myfn1('my module import')"
   ]
  }
 ],
 "metadata": {
  "kernelspec": {
   "display_name": "Python 3 (ipykernel)",
   "language": "python",
   "name": "python3"
  },
  "language_info": {
   "codemirror_mode": {
    "name": "ipython",
    "version": 3
   },
   "file_extension": ".py",
   "mimetype": "text/x-python",
   "name": "python",
   "nbconvert_exporter": "python",
   "pygments_lexer": "ipython3",
   "version": "3.10.9"
  }
 },
 "nbformat": 4,
 "nbformat_minor": 5
}
