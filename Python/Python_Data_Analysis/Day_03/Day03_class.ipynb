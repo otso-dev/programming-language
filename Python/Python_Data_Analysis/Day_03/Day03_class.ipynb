{
 "cells": [
  {
   "cell_type": "code",
   "execution_count": 2,
   "id": "bb780f98",
   "metadata": {},
   "outputs": [
    {
     "name": "stdout",
     "output_type": "stream",
     "text": [
      "myclass: 100,def\n",
      "<class '__main__.myclass'>\n",
      "500 def\n"
     ]
    }
   ],
   "source": [
    "class myclass:\n",
    "    myvar1 = 10\n",
    "    myvar2 = 'abc'\n",
    "    \n",
    "    def __init__(self,a = 0,b = 'aaa'):\n",
    "        self.myvar1 = a\n",
    "        self.myvar2 = b\n",
    "    \n",
    "    def mymethod1(self, n):\n",
    "        print(self.myvar1 * n,self.myvar2)\n",
    "    \n",
    "    def __str__(self):\n",
    "        return 'myclass: {},{}'.format(self.myvar1, self.myvar2)\n",
    "\n",
    "a = myclass(100,'def')\n",
    "print(a)\n",
    "print(type(a))\n",
    "a.mymethod1(5)"
   ]
  },
  {
   "cell_type": "code",
   "execution_count": 9,
   "id": "6b85543f",
   "metadata": {},
   "outputs": [
    {
     "name": "stdout",
     "output_type": "stream",
     "text": [
      "myclass2 - mymethod 0\n",
      "myclass2 - mymethod2\n"
     ]
    }
   ],
   "source": [
    "class myclass2(myclass):\n",
    "    def mymethod1(self, n):\n",
    "        print('myclass2 - mymethod',self.myvar1 * n)\n",
    "    def mymethod2(self):\n",
    "        print('myclass2 - mymethod2')\n",
    "b = myclass2()\n",
    "b.mymethod1(10)\n",
    "b.mymethod2()"
   ]
  },
  {
   "cell_type": "code",
   "execution_count": 17,
   "id": "7e995435",
   "metadata": {},
   "outputs": [
    {
     "name": "stdout",
     "output_type": "stream",
     "text": [
      "['a', 'c', 'd', 'e', 'f', 'c', 'g', 'h', 'i']\n"
     ]
    }
   ],
   "source": [
    "def printlist(list,/):\n",
    "    print(list)\n",
    "list_1 = list('abcdefcghi')\n",
    "list_1.remove('b')\n",
    "printlist(list_1)"
   ]
  },
  {
   "cell_type": "code",
   "execution_count": 22,
   "id": "a190d428",
   "metadata": {},
   "outputs": [
    {
     "name": "stdout",
     "output_type": "stream",
     "text": [
      "['a', 'b', 'd', 'e', 'f', 'g', 'h', 'i']\n"
     ]
    }
   ],
   "source": [
    "def list_remove_all(target_list, target_value):\n",
    "    for i in target_list:\n",
    "        if target_value == i:\n",
    "            target_list.remove(target_value)\n",
    "    return target_list\n",
    "def list_remove_all_v1(target_list,target_value):\n",
    "    while target_value in target_list:\n",
    "        target_list.remove(target_value)\n",
    "    return target_list\n",
    "def list_remove_all_v2(target_list,target_value):\n",
    "    while True:\n",
    "        try:\n",
    "            target_list.remove(target_value)\n",
    "        except:\n",
    "            return target_list\n",
    "ret_list = list_remove_all_v2(list('abcdefcghi'),'c')\n",
    "print(ret_list)\n"
   ]
  },
  {
   "cell_type": "code",
   "execution_count": 27,
   "id": "a8a91fca",
   "metadata": {
    "scrolled": true
   },
   "outputs": [
    {
     "name": "stdout",
     "output_type": "stream",
     "text": [
      "['a', 'b', 'c', 'c', 'd', 'c', 1, 2]\n",
      "['a', 'b', 'd', 1, 2]\n"
     ]
    }
   ],
   "source": [
    "class mylist(list):\n",
    "    def remove_all(self,target_value):\n",
    "        while target_value in self:\n",
    "            self.remove(target_value)\n",
    "        return self\n",
    "mylist_1 = mylist(list('abccdc'))\n",
    "mylist_1.append(1)\n",
    "mylist_1.append(2)\n",
    "print(mylist_1)\n",
    "print(mylist_1.remove_all('c'))"
   ]
  }
 ],
 "metadata": {
  "kernelspec": {
   "display_name": "Python 3 (ipykernel)",
   "language": "python",
   "name": "python3"
  },
  "language_info": {
   "codemirror_mode": {
    "name": "ipython",
    "version": 3
   },
   "file_extension": ".py",
   "mimetype": "text/x-python",
   "name": "python",
   "nbconvert_exporter": "python",
   "pygments_lexer": "ipython3",
   "version": "3.10.9"
  }
 },
 "nbformat": 4,
 "nbformat_minor": 5
}
