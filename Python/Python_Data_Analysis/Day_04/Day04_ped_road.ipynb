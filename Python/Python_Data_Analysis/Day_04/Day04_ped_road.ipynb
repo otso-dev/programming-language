{
 "cells": [
  {
   "cell_type": "code",
   "execution_count": 12,
   "id": "fe273811",
   "metadata": {},
   "outputs": [],
   "source": [
    "def my_split(s):\n",
    "    block_start = False\n",
    "    start_index = 0\n",
    "    ret_list=[]\n",
    "    for i, c in enumerate(s):\n",
    "        if block_start==False:\n",
    "            if c==',':\n",
    "                ret_list.append(s[start_index:i])\n",
    "                start_index=i+1\n",
    "            elif c=='\"':\n",
    "                block_start=True\n",
    "                start_index = i\n",
    "        else:\n",
    "            if c=='\"':\n",
    "                block_start=False\n",
    "    if s[-1]!=',':\n",
    "        ret_list.append(s[start_index:])\n",
    "    return ret_list\n",
    "\n",
    "def split_len(data_list):\n",
    "    len_list = []\n",
    "    for e in data_list:\n",
    "        len_list.append(len(e))\n",
    "    print(set(len_list))\n",
    "    if len(set(len_list))>1:\n",
    "        for i in set(len_list):\n",
    "            print(i, len_list.count(i))\n",
    "def mean(number_list):\n",
    "    return sum(number_list)/len(number_list)"
   ]
  },
  {
   "cell_type": "code",
   "execution_count": 13,
   "id": "bbdc7411",
   "metadata": {},
   "outputs": [
    {
     "data": {
      "text/plain": [
       "13.034324834749766"
      ]
     },
     "execution_count": 13,
     "metadata": {},
     "output_type": "execute_result"
    }
   ],
   "source": [
    "csv_data=[]\n",
    "with open('전국보행자전용도로표준데이터.csv') as f:\n",
    "    for line in f:\n",
    "        csv_data.append(my_split(line))\n",
    "        #csv_data.append(line.split(','))\n",
    "i = csv_data[0].index('보행자전용도로폭')\n",
    "\n",
    "width_list = []\n",
    "for e in csv_data[1:]:\n",
    "    width_list.append(float(e[i]))\n",
    "\n",
    "mean(width_list)"
   ]
  },
  {
   "cell_type": "code",
   "execution_count": 9,
   "id": "deed15f3",
   "metadata": {},
   "outputs": [
    {
     "name": "stdout",
     "output_type": "stream",
     "text": [
      "{35}\n"
     ]
    }
   ],
   "source": [
    "\n",
    "split_len(csv_data)"
   ]
  }
 ],
 "metadata": {
  "kernelspec": {
   "display_name": "Python 3 (ipykernel)",
   "language": "python",
   "name": "python3"
  },
  "language_info": {
   "codemirror_mode": {
    "name": "ipython",
    "version": 3
   },
   "file_extension": ".py",
   "mimetype": "text/x-python",
   "name": "python",
   "nbconvert_exporter": "python",
   "pygments_lexer": "ipython3",
   "version": "3.10.9"
  }
 },
 "nbformat": 4,
 "nbformat_minor": 5
}
