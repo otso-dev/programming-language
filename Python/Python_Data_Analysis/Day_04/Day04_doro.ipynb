{
 "cells": [
  {
   "cell_type": "code",
   "execution_count": 3,
   "id": "4e216263",
   "metadata": {},
   "outputs": [
    {
     "name": "stdout",
     "output_type": "stream",
     "text": [
      "6.898474976392822\n"
     ]
    }
   ],
   "source": [
    "csv_data = []\n",
    "def my_split(s):\n",
    "    block_start = False\n",
    "    start_index = 0\n",
    "    ret_list=[]\n",
    "    for i, c in enumerate(s):\n",
    "        if block_start==False:\n",
    "            if c==',':\n",
    "                ret_list.append(s[start_index:i])\n",
    "                start_index=i+1\n",
    "            elif c=='\"':\n",
    "                block_start=True\n",
    "                start_index = i\n",
    "        else:\n",
    "            if c=='\"':\n",
    "                block_start=False\n",
    "    if s[-1]!=',':\n",
    "        ret_list.append(s[start_index:])\n",
    "    return ret_list\n",
    "\n",
    "def road_avg(target_list):\n",
    "    for i,n in enumerate(target_list):\n",
    "        if n >100:\n",
    "            target_list[i] = n/100\n",
    "    print(sum(target_list)/ len(target_list))\n",
    "\n",
    "with open('전국보행자전용도로표준데이터.csv') as f:\n",
    "    for line in f:\n",
    "        csv_data.append(my_split(line))\n",
    "#print(csv_data[:5])\n",
    "index = csv_data[0].index('보행자전용도로폭')\n",
    "doro_list =[]\n",
    "for i in csv_data[1:]:\n",
    "    doro_list.append(i[index])\n",
    "\n",
    "for i,n in enumerate(doro_list):\n",
    "    doro_list[i] = float(n)\n",
    "road_avg(doro_list)\n"
   ]
  },
  {
   "cell_type": "code",
   "execution_count": null,
   "id": "b1412208",
   "metadata": {},
   "outputs": [],
   "source": []
  }
 ],
 "metadata": {
  "kernelspec": {
   "display_name": "Python 3 (ipykernel)",
   "language": "python",
   "name": "python3"
  },
  "language_info": {
   "codemirror_mode": {
    "name": "ipython",
    "version": 3
   },
   "file_extension": ".py",
   "mimetype": "text/x-python",
   "name": "python",
   "nbconvert_exporter": "python",
   "pygments_lexer": "ipython3",
   "version": "3.10.9"
  }
 },
 "nbformat": 4,
 "nbformat_minor": 5
}
