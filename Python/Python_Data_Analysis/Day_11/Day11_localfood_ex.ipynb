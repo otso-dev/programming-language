{
 "cells": [
  {
   "cell_type": "markdown",
   "id": "acff7141",
   "metadata": {},
   "source": [
    "* 강사코드"
   ]
  },
  {
   "cell_type": "code",
   "execution_count": 73,
   "id": "534c58b8",
   "metadata": {},
   "outputs": [],
   "source": [
    "import pickle\n",
    "import numpy as np\n",
    "\n",
    "def my_split(s):\n",
    "    block_start = False\n",
    "    start_index = 0\n",
    "    ret_list=[]\n",
    "    for i, c in enumerate(s):\n",
    "        if block_start==False:\n",
    "            if c==',':\n",
    "                ret_list.append(s[start_index:i])\n",
    "                start_index=i+1\n",
    "            elif c=='\"':\n",
    "                block_start=True\n",
    "                start_index = i\n",
    "        else:\n",
    "            if c=='\"':\n",
    "                block_start=False\n",
    "    if s[-1]!=',':\n",
    "        ret_list.append(s[start_index:])\n",
    "    return ret_list\n",
    "\n",
    "def process_product_names(s):\n",
    "    r = []\n",
    "    remove_after = ['(','외',]\n",
    "    split_at = ['+',',']\n",
    "    for c in remove_after:\n",
    "        if c in s:\n",
    "            if s != '참외':\n",
    "                s = s[:s.index(c)]\n",
    "    for c in split_at:\n",
    "        if c in s:\n",
    "            r = r + s.split(c)\n",
    "    for c in s:\n",
    "        if c == '\"':\n",
    "            s=s.strip('\"')\n",
    "    if len(r) == 0:\n",
    "        r.append(s)\n",
    "    return r\n",
    "\n",
    "sample1 = 'productA+productB'\n",
    "sample2 = 'productA,productB'\n",
    "sample3 = 'product(A+B)'\n",
    "sample4 = 'product외 abc'\n",
    "sample5 = 'product'\n",
    "sample6 = '참외'\n",
    "sample7 = '\"product'\n",
    "sample8 = 'product\"'\n",
    "assert process_product_names(sample1)== ['productA','productB']\n",
    "assert process_product_names(sample2)== ['productA','productB']\n",
    "assert process_product_names(sample3)== ['product']\n",
    "assert process_product_names(sample4)== ['product']\n",
    "assert process_product_names(sample5)== ['product']\n",
    "assert process_product_names(sample6)== ['참외']\n",
    "assert process_product_names(sample7)== ['product']\n",
    "assert process_product_names(sample8)== ['product']"
   ]
  },
  {
   "cell_type": "code",
   "execution_count": 4,
   "id": "5a9d39b6",
   "metadata": {},
   "outputs": [
    {
     "name": "stdout",
     "output_type": "stream",
     "text": [
      "[['로컬푸드인증번호', '인증유효시작일자', '인증유효종료일자', '인증취소일자', '사업장도로명주소', '사업장지번주소', '생산지도로명주소', '생산지지번주소', '품목명', '재배면적', '재배규모', '인증부여일자', '사업자명', '사업자등록번호', '전화번호', '관리기관명', '데이터기준일자', '제공기관코드', '제공기관명'], ['HYG-162', '2021-09-01', '2031-09-01', '', '경상남도 함양군 수동면 산업단지길 209+경상남도 함양군 수동면 우명하교로 174', '', '경상남도 함양군 병곡면 다볕길 94', '', '칡청+달맞이꽃씨유', '', '122', '2021-09-01', '청운당농산', '', '070-7779-2122', '경상남도 함양군청', '2022-11-23', '5460000', '경상남도 함양군'], ['HYG-163', '2021-09-01', '2031-09-01', '', '경상남도 함양군 수동면 산업단지길 209+경상남도 함양군 수동면 우명하교로 174', '', '경상남도 함양군 수동면 사근산성길 35-4', '', '굼벵이환', '', '123', '2021-09-01', '굼찬농장', '', '070-7779-2122', '경상남도 함양군청', '2022-11-23', '5460000', '경상남도 함양군']]\n"
     ]
    }
   ],
   "source": [
    "raw_data = []\n",
    "with open('전국로컬푸드인증정보표준데이터.csv') as f:\n",
    "    for line in f:\n",
    "        raw_data.append(my_split(line[:-1]))\n",
    "print(raw_data[:3])"
   ]
  },
  {
   "cell_type": "code",
   "execution_count": 22,
   "id": "fc1334b8",
   "metadata": {},
   "outputs": [],
   "source": [
    "for e in enumerate(raw_data[0]):\n",
    "    pass\n",
    "    ##print(e)\n",
    "\n",
    "# dict만드는 또다른 방법\n",
    "#     if v[0] in fw_area_name:\n",
    "#         i = fw_area_name.index(v[0])\n",
    "#         fw_products[i].append(v[1])\n",
    "#     else:\n",
    "#         fw_area_name.append(v[0])\n",
    "#         fw_products.append([v[1]])"
   ]
  },
  {
   "cell_type": "code",
   "execution_count": 12,
   "id": "99d785a0",
   "metadata": {},
   "outputs": [
    {
     "name": "stdout",
     "output_type": "stream",
     "text": [
      "(7794, 5)\n",
      "['사업장도로명주소' '사업장지번주소' '생산지도로명주소' '생산지지번주소' '품목명']\n"
     ]
    }
   ],
   "source": [
    "np_data = np.array(raw_data)\n",
    "#print(np_data.shape)\n",
    "np_data = np_data[:,4:9]\n",
    "print(np_data.shape)\n",
    "print(np_data[0])"
   ]
  },
  {
   "cell_type": "code",
   "execution_count": 57,
   "id": "85e383f7",
   "metadata": {},
   "outputs": [],
   "source": [
    "area_name_list =[]\n",
    "product_list = []\n",
    "all_data = []\n",
    "for sample in np_data[1:]:\n",
    "    area_name = ''\n",
    "    for i in sample[:-1]:\n",
    "        i = i.strip(' \"')\n",
    "        if len(i)>0:\n",
    "            area_name = ' '.join(i.split()[:2])\n",
    "            #area_name_list.append(area_name)\n",
    "            break\n",
    "    #product_list.append(process_product_names(sample[-1]))\n",
    "    for p in process_product_names(sample[-1]):\n",
    "        all_data.append([area_name,p])\n",
    "        \n",
    "\n",
    "#print(area_name_list[:3], len(area_name_list))\n",
    "#print(product_list[:3], len(product_list))"
   ]
  },
  {
   "cell_type": "code",
   "execution_count": 78,
   "id": "c04d77fc",
   "metadata": {},
   "outputs": [],
   "source": [
    "#print(all_data[:3])\n",
    "fw_dict = dict()\n",
    "re_dict = dict()\n",
    "fw_area_name = []\n",
    "fw_products = []\n",
    "for v in all_data:\n",
    "    if v[0] not in fw_dict.keys():\n",
    "        if v[1] is not None:\n",
    "            fw_dict[v[0]] = [v[1]]\n",
    "    else:\n",
    "        fw_dict[v[0]].append(v[1])\n",
    "    if v[1] not in re_dict.keys():\n",
    "        if v[0] is not None:\n",
    "            re_dict[v[1]] = {v[0]}\n",
    "    else:\n",
    "        re_dict[v[1]].add(v[0])\n",
    "# print(fw_area_name[:3], len(fw_area_name))\n",
    "# print(fw_products[:3],len(fw_products))\n",
    "#print(fw_dict)\n",
    "#print(re_dict)"
   ]
  },
  {
   "cell_type": "code",
   "execution_count": 33,
   "id": "3b7588b0",
   "metadata": {},
   "outputs": [
    {
     "data": {
      "text/plain": [
       "'경상남도 함양군'"
      ]
     },
     "execution_count": 33,
     "metadata": {},
     "output_type": "execute_result"
    }
   ],
   "source": [
    "sample_text = np_data[2][0]\n",
    "sample_text.split()[:2]\n",
    "' '.join(sample_text.split()[:2])"
   ]
  },
  {
   "cell_type": "code",
   "execution_count": 79,
   "id": "25ce6aef",
   "metadata": {},
   "outputs": [
    {
     "name": "stdout",
     "output_type": "stream",
     "text": [
      "[('고추', 541), ('대파', 348), ('상추', 289), ('배추', 249), ('고구마', 234), ('딸기', 225), ('감자', 219), ('포도', 217), ('복숭아', 207), ('감말랭이', 187)]\n"
     ]
    }
   ],
   "source": [
    "p_list = []\n",
    "for v in all_data:\n",
    "    p_list.append(v[1])\n",
    "p_set = set(p_list)\n",
    "count_list = []\n",
    "for v in p_set:\n",
    "    count_list.append((v, p_list.count(v)))\n",
    "x = sorted(count_list,key=lambda x : x[1], reverse = True)\n",
    "print(x[:10])"
   ]
  }
 ],
 "metadata": {
  "kernelspec": {
   "display_name": "Python 3 (ipykernel)",
   "language": "python",
   "name": "python3"
  },
  "language_info": {
   "codemirror_mode": {
    "name": "ipython",
    "version": 3
   },
   "file_extension": ".py",
   "mimetype": "text/x-python",
   "name": "python",
   "nbconvert_exporter": "python",
   "pygments_lexer": "ipython3",
   "version": "3.10.9"
  }
 },
 "nbformat": 4,
 "nbformat_minor": 5
}
