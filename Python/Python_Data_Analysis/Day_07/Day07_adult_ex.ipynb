{
 "cells": [
  {
   "cell_type": "code",
   "execution_count": 19,
   "id": "8c4b4193",
   "metadata": {},
   "outputs": [],
   "source": [
    "import math\n",
    "def mean(num_list): # 평균\n",
    "    return sum(num_list)/len(num_list)\n",
    "\n",
    "def dev(num_list): # 편차\n",
    "    m = mean(num_list)\n",
    "    return [x-m for x in num_list]\n",
    "\n",
    "def var(num_list): # 분산\n",
    "    n = len(num_list)\n",
    "    d = dev(num_list)\n",
    "    return sum([x * x for x in d])/(n - 1)\n",
    "\n",
    "def stdev(num_list): #표준편차\n",
    "    return math.sqrt(var(num_list))\n",
    "\n",
    "def covar(list_1,list_2): # 공분산\n",
    "    n = len(list_1)\n",
    "    list_1_dev = dev(list_1)\n",
    "    list_2_dev = dev(list_2)\n",
    "    return sum(x * y for x, y in zip(list_1_dev,list_2_dev))/(n-1)\n",
    "def corel(list_1,list_2): # 상관도 (-1 ~ 1)\n",
    "    return covar(list_1, list_2)/(stdev(list_1)*stdev(list_2))"
   ]
  },
  {
   "cell_type": "code",
   "execution_count": 1,
   "id": "e30f3da4",
   "metadata": {},
   "outputs": [],
   "source": [
    "import requests\n",
    "x = requests.get('https://archive.ics.uci.edu/ml/machine-learning-databases/adult/adult.data')"
   ]
  },
  {
   "cell_type": "code",
   "execution_count": 13,
   "id": "ad2b2442",
   "metadata": {},
   "outputs": [],
   "source": [
    "pass1 = x.text.split('\\n')\n",
    "age_list = []\n",
    "cap_gain_list = []\n",
    "hours_per_week_list = []\n",
    "for e in pass1:\n",
    "    try:\n",
    "        t = e.split(',')\n",
    "        if len(t)<5:\n",
    "            continue\n",
    "        age_list.append(t[0])\n",
    "        cap_gain_list.append(t[10])\n",
    "        hours_per_week_list.append(t[12])\n",
    "    except:\n",
    "        print(e,type(e))\n",
    "        "
   ]
  },
  {
   "cell_type": "code",
   "execution_count": 14,
   "id": "5aa166bf",
   "metadata": {},
   "outputs": [
    {
     "name": "stdout",
     "output_type": "stream",
     "text": [
      "32561\n",
      "32561\n",
      "32561\n"
     ]
    }
   ],
   "source": [
    "print(len(age_list))\n",
    "print(len(cap_gain_list))\n",
    "print(len(hours_per_week_list))"
   ]
  },
  {
   "cell_type": "code",
   "execution_count": 15,
   "id": "d0b9c658",
   "metadata": {},
   "outputs": [],
   "source": [
    "age_list = [int(i) for i in age_list]\n",
    "cap_gain_list = [int(i) for i in cap_gain_list]\n",
    "hours_per_week_list = [int(i) for i in hours_per_week_list]"
   ]
  },
  {
   "cell_type": "code",
   "execution_count": 20,
   "id": "dafe11a6",
   "metadata": {},
   "outputs": [
    {
     "name": "stdout",
     "output_type": "stream",
     "text": [
      "age vs. cap gain: 0.077674498166006\n",
      "hours per week vs. cap gain:  0.07840861539012314\n",
      "age vs. hours per week: 0.06875570750956339\n"
     ]
    }
   ],
   "source": [
    "print('age vs. cap gain:',corel(age_list,cap_gain_list))\n",
    "print('hours per week vs. cap gain: ',corel(hours_per_week_list,cap_gain_list))\n",
    "print('age vs. hours per week:',corel(age_list,hours_per_week_list))"
   ]
  }
 ],
 "metadata": {
  "kernelspec": {
   "display_name": "Python 3 (ipykernel)",
   "language": "python",
   "name": "python3"
  },
  "language_info": {
   "codemirror_mode": {
    "name": "ipython",
    "version": 3
   },
   "file_extension": ".py",
   "mimetype": "text/x-python",
   "name": "python",
   "nbconvert_exporter": "python",
   "pygments_lexer": "ipython3",
   "version": "3.10.9"
  }
 },
 "nbformat": 4,
 "nbformat_minor": 5
}
