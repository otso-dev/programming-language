{
 "cells": [
  {
   "cell_type": "markdown",
   "id": "02fa6572",
   "metadata": {},
   "source": [
    "### 자동차 연비 데이터 정제\n",
    "uci repo  \n",
    "url : https://archive.ics.uci.edu/ml/machine-learning-databases/auto-mpg/auto-mpg.data\n",
    "* requests 패키지 이용 데이터 로딩\n",
    "* 최대한 많이 정제\n",
    "* 배기량 연비\n",
    "* 연비 index = 0\n",
    "* 배기량 index = 2"
   ]
  },
  {
   "cell_type": "code",
   "execution_count": 95,
   "id": "bd2ac8b0",
   "metadata": {},
   "outputs": [],
   "source": [
    "#자동차의 연비 데이터\n",
    "import requests\n",
    "import math\n",
    "def mean(num_list): # 평균\n",
    "    return sum(num_list)/len(num_list)\n",
    "\n",
    "def dev(num_list): # 편차\n",
    "    m = mean(num_list)\n",
    "    return [x-m for x in num_list]\n",
    "\n",
    "def var(num_list): # 분산\n",
    "    n = len(num_list)\n",
    "    d = dev(num_list)\n",
    "    return sum([x * x for x in d])/(n - 1)\n",
    "\n",
    "def stdev(num_list): #표준편차\n",
    "    return math.sqrt(var(num_list))\n",
    "\n",
    "def covar(list_1,list_2): # 공분산\n",
    "    n = len(list_1)\n",
    "    list_1_dev = dev(list_1)\n",
    "    list_2_dev = dev(list_2)\n",
    "    return sum(x * y for x, y in zip(list_1_dev,list_2_dev))/(n-1)\n",
    "\n",
    "def corel(list_1,list_2): # 상관도 (-1 ~ 1)\n",
    "    return covar(list_1, list_2)/(stdev(list_1)*stdev(list_2))\n"
   ]
  },
  {
   "cell_type": "code",
   "execution_count": null,
   "id": "a95d9b3e",
   "metadata": {},
   "outputs": [],
   "source": [
    "x = requests.get('https://archive.ics.uci.edu/ml/machine-learning-databases/auto-mpg/auto-mpg.data')"
   ]
  },
  {
   "cell_type": "code",
   "execution_count": 81,
   "id": "e959d65b",
   "metadata": {},
   "outputs": [],
   "source": [
    "pass1 = x.text.split('\\n') # 한 줄씩 나누자 pass1의 목적 \n",
    "#print(len(pass1))\n",
    "pass2 = [] # 각 샘플(줄)별 숫자부분, 차명 부분 분리, split('\\t') pass2의 목적\n",
    "for line in pass1:\n",
    "    pass2.append(line.split('\\t'))\n",
    "pass3 = [] # 숫자 부분 분리. split()\n",
    "for e in pass2:\n",
    "    try:\n",
    "        y = e[0].split()\n",
    "        y.append(e[1])\n",
    "        pass3.append(y)\n",
    "    except:\n",
    "        pass"
   ]
  },
  {
   "cell_type": "code",
   "execution_count": 82,
   "id": "b6c91e49",
   "metadata": {},
   "outputs": [],
   "source": [
    "pass4 = [] #float으로 형변환, 차명 \" 제거\n",
    "for e in pass3:\n",
    "    for i, e_i in enumerate(e[:-1]):\n",
    "        try:\n",
    "            e[i] = float(e_i)\n",
    "        except:\n",
    "            e[i] = 0.0\n",
    "        e[-1] = e[-1].strip('\"')"
   ]
  },
  {
   "cell_type": "code",
   "execution_count": 103,
   "id": "db7a2d74",
   "metadata": {},
   "outputs": [],
   "source": [
    "#print(pass3)\n",
    "mpg_list=[]  # 연비\n",
    "disp_list=[] # 배기량\n",
    "weight_list=[]\n",
    "for e in pass3:\n",
    "    mpg_list.append(e[0])\n",
    "    disp_list.append(e[2])\n",
    "    weight_list.append(e[4])\n"
   ]
  },
  {
   "cell_type": "code",
   "execution_count": 105,
   "id": "2ad9287d",
   "metadata": {},
   "outputs": [
    {
     "name": "stdout",
     "output_type": "stream",
     "text": [
      "연비 평균: 23.514572864321615\t연비 표준편차: 7.815984312565782\n",
      "배기량 평균: 193.42587939698493\t배기량 표준편차: 104.26983817119581\n",
      "차체중량 평균: 2970.424623115578\t차체중량 표준편차: 846.8417741973271\n"
     ]
    }
   ],
   "source": [
    "# 연비: 평균, 표준편차\n",
    "print('연비 평균: {}\\t연비 표준편차: {}'.format(mean(mpg_list),stdev(mpg_list)))\n",
    "# 배기량: 평균, 표준편차\n",
    "print('배기량 평균: {}\\t배기량 표준편차: {}'.format(mean(disp_list),stdev(disp_list)))\n",
    "# 차체중량\n",
    "print('차체중량 평균: {}\\t차체중량 표준편차: {}'.format(mean(weight_list),stdev(weight_list)))"
   ]
  },
  {
   "cell_type": "code",
   "execution_count": 106,
   "id": "c1d06a13",
   "metadata": {},
   "outputs": [
    {
     "name": "stdout",
     "output_type": "stream",
     "text": [
      "연비와 배기량 상관도: -0.8042028248058988\n",
      "연비와 차체중량 상관도: -0.8317409332443351\n"
     ]
    }
   ],
   "source": [
    "print('연비와 배기량 상관도: {}'.format(corel(mpg_list,disp_list)))\n",
    "print('연비와 차체중량 상관도: {}'.format(corel(mpg_list,weight_list)))"
   ]
  },
  {
   "cell_type": "code",
   "execution_count": null,
   "id": "d9eb9791",
   "metadata": {},
   "outputs": [],
   "source": []
  }
 ],
 "metadata": {
  "kernelspec": {
   "display_name": "Python 3 (ipykernel)",
   "language": "python",
   "name": "python3"
  },
  "language_info": {
   "codemirror_mode": {
    "name": "ipython",
    "version": 3
   },
   "file_extension": ".py",
   "mimetype": "text/x-python",
   "name": "python",
   "nbconvert_exporter": "python",
   "pygments_lexer": "ipython3",
   "version": "3.10.9"
  }
 },
 "nbformat": 4,
 "nbformat_minor": 5
}
