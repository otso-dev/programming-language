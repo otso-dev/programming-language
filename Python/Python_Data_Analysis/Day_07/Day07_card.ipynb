{
 "cells": [
  {
   "cell_type": "code",
   "execution_count": 106,
   "id": "56abe7fd",
   "metadata": {},
   "outputs": [
    {
     "name": "stdout",
     "output_type": "stream",
     "text": [
      "[3, 1, 6, 4, 2, 5]\n"
     ]
    }
   ],
   "source": [
    "import random as rand\n",
    "list_a = [1,2,3,4,5,6]\n",
    "rand.shuffle(list_a)\n",
    "print(list_a)\n",
    "\n",
    "def score_hand(hand):\n",
    "    score = 0\n",
    "    for card in hand:\n",
    "        score = score + score_dict[card]\n",
    "    return score"
   ]
  },
  {
   "cell_type": "code",
   "execution_count": 17,
   "id": "2884e46b",
   "metadata": {},
   "outputs": [
    {
     "name": "stdout",
     "output_type": "stream",
     "text": [
      "['Clover', 'Diamond', 'Heart', 'Spade']\n",
      "['Ace', '2', '3', '4', '5', '6', '7', '8', '9', '10', 'Jack', 'Queen', 'King']\n"
     ]
    }
   ],
   "source": [
    "suits = ['Clover','Diamond','Heart','Spade']\n",
    "#rank = ['Ace','Jack','Queen','King']\n",
    "rank = [str(i) for i in range(2,11)]\n",
    "rank = ['Ace'] + rank + ['Jack','Queen','King']\n",
    "print(suits)\n",
    "print(rank)"
   ]
  },
  {
   "cell_type": "code",
   "execution_count": 122,
   "id": "eefa368b",
   "metadata": {},
   "outputs": [
    {
     "name": "stdout",
     "output_type": "stream",
     "text": [
      "{'Clover-Ace': 1, 'Clover-2': 2, 'Clover-3': 3, 'Clover-4': 4, 'Clover-5': 5, 'Clover-6': 6, 'Clover-7': 7, 'Clover-8': 8, 'Clover-9': 9, 'Clover-10': 10, 'Clover-Jack': 10, 'Clover-Queen': 10, 'Clover-King': 10, 'Diamond-Ace': 1, 'Diamond-2': 2, 'Diamond-3': 3, 'Diamond-4': 4, 'Diamond-5': 5, 'Diamond-6': 6, 'Diamond-7': 7, 'Diamond-8': 8, 'Diamond-9': 9, 'Diamond-10': 10, 'Diamond-Jack': 10, 'Diamond-Queen': 10, 'Diamond-King': 10, 'Heart-Ace': 1, 'Heart-2': 2, 'Heart-3': 3, 'Heart-4': 4, 'Heart-5': 5, 'Heart-6': 6, 'Heart-7': 7, 'Heart-8': 8, 'Heart-9': 9, 'Heart-10': 10, 'Heart-Jack': 10, 'Heart-Queen': 10, 'Heart-King': 10, 'Spade-Ace': 1, 'Spade-2': 2, 'Spade-3': 3, 'Spade-4': 4, 'Spade-5': 5, 'Spade-6': 6, 'Spade-7': 7, 'Spade-8': 8, 'Spade-9': 9, 'Spade-10': 10, 'Spade-Jack': 10, 'Spade-Queen': 10, 'Spade-King': 10}\n"
     ]
    }
   ],
   "source": [
    "Deck = []\n",
    "\n",
    "for e in suits:\n",
    "    for i in rank:\n",
    "        Deck.append(e + '-' + i)\n",
    "#print(Deck)\n",
    "score_list = [i+1 for i in range(10)]\n",
    "score_list = score_list + [10]*3\n",
    "score_list = score_list *4\n",
    "score_dict = dict(zip(Deck,score_list))\n",
    "print(score_dict)\n",
    "#print(score_list)\n",
    "rand.shuffle(Deck)\n",
    "#print(Deck)"
   ]
  },
  {
   "cell_type": "code",
   "execution_count": 124,
   "id": "9386e047",
   "metadata": {},
   "outputs": [
    {
     "name": "stdout",
     "output_type": "stream",
     "text": [
      "Game Start\n",
      "\n",
      "Dealer Hands\n",
      "['Spade-Queen', 'Diamond-6'] 16\n",
      "\n",
      "\n",
      "Player Hands\n",
      "['Diamond-7', 'Diamond-5'] 12\n",
      "Deal(1)or Stop(0):1\n",
      "['Diamond-7', 'Diamond-5', 'Diamond-2'] 14\n"
     ]
    }
   ],
   "source": [
    "print('Game Start\\n')\n",
    "rand.shuffle(Deck)\n",
    "print('Dealer Hands')\n",
    "dealer_hand = [Deck.pop() for _ in range(2)]\n",
    "delear_sum = score_hand(dealer_hand)\n",
    "print(dealer_hand, score_hand(dealer_hand))\n",
    "print('\\n\\nPlayer Hands')\n",
    "Player_hand = [Deck.pop() for _ in range(2)]\n",
    "\n",
    "print(Player_hand, score_hand(Player_hand))\n",
    "\n",
    "if score_hand(Player_hand) < 21:\n",
    "    ans = int(input('Deal(1)or Stop(0):'))\n",
    "    if ans == 1:\n",
    "        Player_hand.append(Deck.pop())\n",
    "        Player_sum = score_hand(Player_hand)\n",
    "        print(Player_hand,Player_sum)\n",
    "    elif ans == 0:\n",
    "        break\n",
    "\n",
    "# 승부 표시\n",
    "if Player_sum > 21:\n",
    "    print('you lose')\n",
    "elif dealer_sum > Player_sum:\n",
    "    print('you lose')\n",
    "else:\n",
    "    print('you win')"
   ]
  }
 ],
 "metadata": {
  "kernelspec": {
   "display_name": "Python 3 (ipykernel)",
   "language": "python",
   "name": "python3"
  },
  "language_info": {
   "codemirror_mode": {
    "name": "ipython",
    "version": 3
   },
   "file_extension": ".py",
   "mimetype": "text/x-python",
   "name": "python",
   "nbconvert_exporter": "python",
   "pygments_lexer": "ipython3",
   "version": "3.10.9"
  }
 },
 "nbformat": 4,
 "nbformat_minor": 5
}
