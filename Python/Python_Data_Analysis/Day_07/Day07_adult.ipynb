{
 "cells": [
  {
   "cell_type": "markdown",
   "id": "16340ba4",
   "metadata": {},
   "source": [
    "# 상관도 분석: UCI Repo Adult 데이터\n",
    "* age/ capital gain 상관도\n",
    "* hours-per-week/capital gain 상관도"
   ]
  },
  {
   "cell_type": "code",
   "execution_count": 21,
   "id": "33bd1064",
   "metadata": {},
   "outputs": [],
   "source": [
    "import math\n",
    "def mean(num_list): # 평균\n",
    "    return sum(num_list)/len(num_list)\n",
    "\n",
    "def dev(num_list): # 편차\n",
    "    m = mean(num_list)\n",
    "    return [x-m for x in num_list]\n",
    "\n",
    "def var(num_list): # 분산\n",
    "    n = len(num_list)\n",
    "    d = dev(num_list)\n",
    "    return sum([x * x for x in d])/(n - 1)\n",
    "\n",
    "def stdev(num_list): #표준편차\n",
    "    return math.sqrt(var(num_list))\n",
    "\n",
    "def covar(list_1,list_2): # 공분산\n",
    "    n = len(list_1)\n",
    "    list_1_dev = dev(list_1)\n",
    "    list_2_dev = dev(list_2)\n",
    "    return sum(x * y for x, y in zip(list_1_dev,list_2_dev))/(n-1)\n",
    "\n",
    "def corel(list_1,list_2): # 상관도 (-1 ~ 1)\n",
    "    return covar(list_1, list_2)/(stdev(list_1)*stdev(list_2))"
   ]
  },
  {
   "cell_type": "code",
   "execution_count": 54,
   "id": "ac7bf600",
   "metadata": {},
   "outputs": [],
   "source": [
    "import requests\n",
    "x = requests.get('https://archive.ics.uci.edu/ml/machine-learning-databases/adult/adult.data')"
   ]
  },
  {
   "cell_type": "code",
   "execution_count": 64,
   "id": "1b1e4687",
   "metadata": {},
   "outputs": [],
   "source": [
    "pass1 = x.text.split('\\n')\n",
    "pass2 = []\n",
    "for line in pass1:\n",
    "    pass2.append(line.split(','))\n",
    "\n",
    "for e in pass2:\n",
    "    for i , v in enumerate(e):\n",
    "        try:\n",
    "            e[i] = int(v)\n",
    "        except:\n",
    "            pass\n",
    "age_list = []\n",
    "capital_list = []\n",
    "capital_loss_list = []\n",
    "hours_week_list = []\n",
    "for i in pass2:\n",
    "    try:\n",
    "        age_list.append(i[0])\n",
    "        capital_list.append(i[10])\n",
    "        hours_week_list.append(i[12])\n",
    "        capital_loss_list.append(i[11])\n",
    "    except:\n",
    "        pass\n",
    "\n",
    "age_list = age_list[:-2]"
   ]
  },
  {
   "cell_type": "code",
   "execution_count": 66,
   "id": "1064977a",
   "metadata": {},
   "outputs": [
    {
     "name": "stdout",
     "output_type": "stream",
     "text": [
      "age와 capital gain 상관도: \t0.077674498166006\n",
      "hours-per-week와 capital gain 상관도: \t0.07840861539012314\n",
      "age와 capital loss 상관도: \t0.05777453947896986\n",
      "미국 자본이득 평균 : 1077.6488437087312\n",
      "미국 자본손실 평균 : 87.303829734959\n"
     ]
    }
   ],
   "source": [
    "print('age와 capital gain 상관도: \\t{}'.format(corel(age_list,capital_list)))\n",
    "print('hours-per-week와 capital gain 상관도: \\t{}'.format(corel(hours_week_list,capital_list)))\n",
    "print('age와 capital loss 상관도: \\t{}'.format(corel(age_list,capital_loss_list)))\n",
    "print('미국 자본이득 평균 : {}'.format(mean(capital_list)))\n",
    "print('미국 자본손실 평균 : {}'.format(mean(capital_loss_list)))"
   ]
  },
  {
   "cell_type": "code",
   "execution_count": null,
   "id": "d2cbad35",
   "metadata": {},
   "outputs": [],
   "source": []
  }
 ],
 "metadata": {
  "kernelspec": {
   "display_name": "Python 3 (ipykernel)",
   "language": "python",
   "name": "python3"
  },
  "language_info": {
   "codemirror_mode": {
    "name": "ipython",
    "version": 3
   },
   "file_extension": ".py",
   "mimetype": "text/x-python",
   "name": "python",
   "nbconvert_exporter": "python",
   "pygments_lexer": "ipython3",
   "version": "3.10.9"
  }
 },
 "nbformat": 4,
 "nbformat_minor": 5
}
