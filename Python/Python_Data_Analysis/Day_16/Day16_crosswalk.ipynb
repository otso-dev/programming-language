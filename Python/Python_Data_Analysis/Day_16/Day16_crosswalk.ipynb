{
 "cells": [
  {
   "cell_type": "markdown",
   "id": "e807c68c",
   "metadata": {},
   "source": [
    "#### 전국횡단보도표준데이터\n",
    " 1. 횡단보도 연장, 녹색신호시간 : 상관도\n",
    " 2. 자전거 횡단도 겸용 비율 (전체 대비)\n",
    " 3. 차로수별 자전거 횡단도 카운트/비율\n",
    " 4. 차로수별 보행자 신호등 유무 카운트/비율\n",
    " 5. 차로수별 음향신호기설치 유무 카운트/비율\n",
    "\n",
    "화면 출력\n",
    "1. 상관도 수치\n",
    "2. 비율 수치\n",
    "3 ~ 5. 카운트, 비율"
   ]
  },
  {
   "cell_type": "code",
   "execution_count": 62,
   "id": "4fd141a3",
   "metadata": {},
   "outputs": [
    {
     "name": "stdout",
     "output_type": "stream",
     "text": [
      "(50000, 28)\n",
      "(0, '경기도')\n",
      "(1, '남양주시')\n",
      "(2, '강변북로')\n",
      "(3, '')\n",
      "(4, '경기도 남양주시 다산동 6288')\n",
      "(5, '450')\n",
      "(6, '01')\n",
      "(7, 'Y')\n",
      "(8, 'N')\n",
      "(9, '37.601593')\n",
      "(10, '127.177871')\n",
      "(11, '3')\n",
      "(12, '6.5')\n",
      "(13, '9.7')\n",
      "(14, 'Y')\n",
      "(15, 'Y')\n",
      "(16, 'Y')\n",
      "(17, '17')\n",
      "(18, '96')\n",
      "(19, 'N')\n",
      "(20, 'Y')\n",
      "(21, 'Y')\n",
      "(22, 'Y')\n",
      "(23, '경기도 남양주시청')\n",
      "(24, '031-590-2114')\n",
      "(25, '2023-01-31')\n",
      "(26, '3990000')\n",
      "(27, '경기도 남양주시')\n"
     ]
    }
   ],
   "source": [
    "csv_data = []\n",
    "with open('전국횡단보도표준데이터.csv') as f:\n",
    "    for line in f:\n",
    "        csv_data.append(my_split(line[:-1]))\n",
    "csv_data = np.array(csv_data[1:])\n",
    "print(csv_data.shape)\n",
    "for e in enumerate(csv_data[0]):\n",
    "    print(e)"
   ]
  },
  {
   "cell_type": "code",
   "execution_count": 142,
   "id": "b2889fe6",
   "metadata": {},
   "outputs": [
    {
     "ename": "TypeError",
     "evalue": "'<' not supported between instances of 'numpy.ndarray' and 'int'",
     "output_type": "error",
     "traceback": [
      "\u001b[1;31m---------------------------------------------------------------------------\u001b[0m",
      "\u001b[1;31mTypeError\u001b[0m                                 Traceback (most recent call last)",
      "Cell \u001b[1;32mIn[142], line 2\u001b[0m\n\u001b[0;32m      1\u001b[0m \u001b[38;5;66;03m# 횡단보도 연장과 녹색신호시간 상관도\u001b[39;00m\n\u001b[1;32m----> 2\u001b[0m filter1 \u001b[38;5;241m=\u001b[39m (csv_data[:,\u001b[38;5;241m13\u001b[39m] \u001b[38;5;241m!=\u001b[39m \u001b[38;5;124m'\u001b[39m\u001b[38;5;124m'\u001b[39m) \u001b[38;5;241m&\u001b[39m (csv_data[:,\u001b[38;5;241m17\u001b[39m]\u001b[38;5;241m!=\u001b[39m\u001b[38;5;124m'\u001b[39m\u001b[38;5;124m'\u001b[39m) \u001b[38;5;241m&\u001b[39m (csv_data[:,\u001b[38;5;241m13\u001b[39m]\u001b[38;5;241m!=\u001b[39m \u001b[38;5;124m'\u001b[39m\u001b[38;5;124m0\u001b[39m\u001b[38;5;124m'\u001b[39m) \u001b[38;5;241m&\u001b[39m (csv_data[:,\u001b[38;5;241m17\u001b[39m]\u001b[38;5;241m!=\u001b[39m \u001b[38;5;124m'\u001b[39m\u001b[38;5;124m0\u001b[39m\u001b[38;5;124m'\u001b[39m) \u001b[38;5;241m&\u001b[39m (\u001b[43mcsv_data\u001b[49m\u001b[43m[\u001b[49m\u001b[43m:\u001b[49m\u001b[43m,\u001b[49m\u001b[38;5;241;43m13\u001b[39;49m\u001b[43m]\u001b[49m\u001b[38;5;241;43m<\u001b[39;49m\u001b[38;5;241;43m100\u001b[39;49m)\n\u001b[0;32m      3\u001b[0m suv_data \u001b[38;5;241m=\u001b[39m csv_data[filter1]\n\u001b[0;32m      4\u001b[0m dt_data \u001b[38;5;241m=\u001b[39m suv_data[:,\u001b[38;5;241m13\u001b[39m]\u001b[38;5;241m.\u001b[39mastype(np\u001b[38;5;241m.\u001b[39mfloat64)\n",
      "\u001b[1;31mTypeError\u001b[0m: '<' not supported between instances of 'numpy.ndarray' and 'int'"
     ]
    }
   ],
   "source": [
    "# 횡단보도 연장과 녹색신호시간 상관도\n",
    "filter1 = (csv_data[:,13] != '') & (csv_data[:,17]!='') & (csv_data[:,13]!= '0') & (csv_data[:,17]!= '0') & (csv_data[:,13]<100)\n",
    "suv_data = csv_data[filter1]\n",
    "dt_data = suv_data[:,13].astype(np.float64)\n",
    "gt_data = suv_data[:,17].astype(np.float64)\n",
    "np.set_printoptions(precision=10,suppress=True)\n",
    "print(np.corrcoef(dt_data,gt_data))\n",
    "_, axe = plt.subplots()\n",
    "axe.scatter(dt_data,gt_data)"
   ]
  },
  {
   "cell_type": "code",
   "execution_count": 127,
   "id": "a67abf8e",
   "metadata": {},
   "outputs": [
    {
     "name": "stdout",
     "output_type": "stream",
     "text": [
      "['N' 'Y'] [29476  4614]\n",
      "자전거 횡단도 겸용비율 Y 13.534760926958052\n",
      "자전거 횡단도 겸용비율 N 86.46523907304194\n"
     ]
    }
   ],
   "source": [
    "# 자전거 횡단도 겸용 비율 (전체 대비)\n",
    "filter1 = csv_data[:,7] != ' '\n",
    "bike_data = csv_data[filter1]\n",
    "val, cnt = np.unique(bike_data[:,7], return_counts=True)\n",
    "print(val,cnt)\n",
    "total = np.sum(cnt)\n",
    "bike_y = cnt[1]*100/total\n",
    "bike_n = cnt[0]*100/total\n",
    "\n",
    "print('자전거 횡단도 겸용비율',val[1],bike_y)\n",
    "print('자전거 횡단도 겸용비율',val[0],bike_n)"
   ]
  },
  {
   "cell_type": "code",
   "execution_count": 134,
   "id": "eee688c8",
   "metadata": {},
   "outputs": [
    {
     "name": "stdout",
     "output_type": "stream",
     "text": [
      "[[ 0.     0.   ]\n",
      " [ 1.     5.074]\n",
      " [ 2.     6.515]\n",
      " [ 3.    16.555]\n",
      " [ 4.    16.675]\n",
      " [ 5.    21.538]\n",
      " [ 6.    27.045]\n",
      " [ 7.    36.897]\n",
      " [ 8.    34.44 ]\n",
      " [ 9.    50.98 ]\n",
      " [10.    23.077]\n",
      " [11.    25.   ]]\n"
     ]
    }
   ],
   "source": [
    "#  차로수별 자전거 횡단도 카운트/비율  차로수별 보행자 신호등 유무 카운트/비율  차로수별 음향신호기설치 유무 카운트/비율\n",
    "#  차로수 11      자전거횡단도 7 보행자신호 14 음향신호기 16\n",
    "filter1 = (csv_data[:,7] != ' ') & (csv_data[:,11] != ' ') & (csv_data[:,14]!= ' ') & (csv_data[:,17] != ' ') & (csv_data[:,7] != '') & (csv_data[:,11] != '') & (csv_data[:,14]!= '') & (csv_data[:,17] != '')\n",
    "sub_data = csv_data[filter1]\n",
    "car_bike = sub_data[:,[11,7]]\n",
    "\n",
    "pass1 = dict()\n",
    "for num,yn in car_bike:\n",
    "    if num in pass1.keys():\n",
    "        pass1[num].append(yn)\n",
    "    else:\n",
    "        pass1[num] = [yn]\n",
    "\n",
    "pass2 = []\n",
    "for e in pass1:      #dict 순환시 key값으로 순환이 된다.\n",
    "    val,cnt = np.unique(pass1[e],return_counts=True)\n",
    "    y,ratio = 0,0\n",
    "    if 'Y' in val:\n",
    "        y = cnt[val == 'Y']\n",
    "    ratio = y*100/np.sum(cnt)\n",
    "    pass2.append((int(e),float(ratio)))\n",
    "    \n",
    "    #print(pass2)\n",
    "np.set_printoptions(precision=3,suppress=True)#numpy 소수점 제거\n",
    "pass3 = sorted(pass2,key=lambda x : x[0])\n",
    "pass3 = np.array(pass3)\n",
    "print(pass3)"
   ]
  },
  {
   "cell_type": "code",
   "execution_count": 15,
   "id": "0197c29f",
   "metadata": {},
   "outputs": [],
   "source": [
    "import numpy as np\n",
    "import matplotlib.pyplot as plt\n",
    "\n",
    "def my_split(s):\n",
    "    block_start = False\n",
    "    start_index = 0\n",
    "    ret_list=[]\n",
    "    for i, c in enumerate(s):\n",
    "        if block_start==False:\n",
    "            if c==',':\n",
    "                ret_list.append(s[start_index:i])\n",
    "                start_index=i+1\n",
    "            elif c=='\"':\n",
    "                block_start=True\n",
    "                start_index = i\n",
    "        else:\n",
    "            if c=='\"':\n",
    "                block_start=False\n",
    "    if s[-1]!=',':\n",
    "        ret_list.append(s[start_index:])\n",
    "    return ret_list\n",
    "\n",
    "def split_len(data_list):\n",
    "    len_list=[]\n",
    "    for e in data_list:\n",
    "        len_list.append(len(e))\n",
    "    print(set(len_list))\n",
    "    if len(set(len_list))>1:\n",
    "        for i in set(len_list):\n",
    "            print(i, len_list.count(i))\n",
    "    return set(len_list)"
   ]
  }
 ],
 "metadata": {
  "kernelspec": {
   "display_name": "Python 3 (ipykernel)",
   "language": "python",
   "name": "python3"
  },
  "language_info": {
   "codemirror_mode": {
    "name": "ipython",
    "version": 3
   },
   "file_extension": ".py",
   "mimetype": "text/x-python",
   "name": "python",
   "nbconvert_exporter": "python",
   "pygments_lexer": "ipython3",
   "version": "3.10.9"
  }
 },
 "nbformat": 4,
 "nbformat_minor": 5
}
