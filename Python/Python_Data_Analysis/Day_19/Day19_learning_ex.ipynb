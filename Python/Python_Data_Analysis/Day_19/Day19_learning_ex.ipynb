{
 "cells": [
  {
   "cell_type": "code",
   "execution_count": 4,
   "id": "fa193491",
   "metadata": {},
   "outputs": [
    {
     "name": "stdout",
     "output_type": "stream",
     "text": [
      "강좌명                object\n",
      "강사명                object\n",
      "교육시작일자             object\n",
      "교육종료일자             object\n",
      "교육대상구분             object\n",
      "교육방법구분             object\n",
      "운영요일               object\n",
      "교육장소               object\n",
      "강좌정원수               int64\n",
      "수강료                 int64\n",
      "교육장도로명주소           object\n",
      "운영기관명              object\n",
      "접수시작일자             object\n",
      "접수종료일자             object\n",
      "접수방법구분             object\n",
      "선정방법구분             object\n",
      "홈페이지주소             object\n",
      "직업능력개발훈련비지원강좌여부    object\n",
      "학점은행제평가(학점)인정여부    object\n",
      "평생학습계좌제평가인정여부      object\n",
      "데이터기준일자            object\n",
      "제공기관코드             object\n",
      "제공기관명              object\n",
      "dtype: object\n"
     ]
    }
   ],
   "source": [
    "import numpy as np\n",
    "import pandas as pd\n",
    "\n",
    "pd_data = pd.read_csv('전국평생학습강좌표준데이터.csv',encoding='cp949')\n",
    "drop_list=['교육시작시각','교육종료시각','강좌내용','운영기관전화번호']\n",
    "pd_data.drop(drop_list,axis = 1,inplace = True)\n",
    "# for e in enumerate(pd_data.columns):\n",
    "#     print(e)\n",
    "print(pd_data.dtypes)"
   ]
  },
  {
   "cell_type": "code",
   "execution_count": 17,
   "id": "3a936cb7",
   "metadata": {},
   "outputs": [
    {
     "name": "stdout",
     "output_type": "stream",
     "text": [
      "강좌명                        object\n",
      "강사명                        object\n",
      "교육시작일자             datetime64[ns]\n",
      "교육종료일자             datetime64[ns]\n",
      "교육대상구분                   category\n",
      "교육방법구분                   category\n",
      "운영요일                       object\n",
      "교육장소                       object\n",
      "강좌정원수                       int64\n",
      "수강료                         int64\n",
      "교육장도로명주소                   object\n",
      "운영기관명                      object\n",
      "접수시작일자             datetime64[ns]\n",
      "접수종료일자             datetime64[ns]\n",
      "접수방법구분                   category\n",
      "선정방법구분                   category\n",
      "홈페이지주소                     object\n",
      "직업능력개발훈련비지원강좌여부          category\n",
      "학점은행제평가(학점)인정여부          category\n",
      "평생학습계좌제평가인정여부            category\n",
      "데이터기준일자            datetime64[ns]\n",
      "제공기관코드                   category\n",
      "제공기관명                      object\n",
      "dtype: object\n"
     ]
    },
    {
     "name": "stderr",
     "output_type": "stream",
     "text": [
      "C:\\Users\\ITPS\\AppData\\Local\\Temp\\ipykernel_9820\\4045533042.py:3: FutureWarning: Passing unit-less datetime64 dtype to .astype is deprecated and will raise in a future version. Pass 'datetime64[ns]' instead\n",
      "  pd_data[col_name]=pd_data[col_name].astype(np.datetime64,copy = False)\n",
      "C:\\Users\\ITPS\\AppData\\Local\\Temp\\ipykernel_9820\\4045533042.py:3: FutureWarning: Passing unit-less datetime64 dtype to .astype is deprecated and will raise in a future version. Pass 'datetime64[ns]' instead\n",
      "  pd_data[col_name]=pd_data[col_name].astype(np.datetime64,copy = False)\n",
      "C:\\Users\\ITPS\\AppData\\Local\\Temp\\ipykernel_9820\\4045533042.py:3: FutureWarning: Passing unit-less datetime64 dtype to .astype is deprecated and will raise in a future version. Pass 'datetime64[ns]' instead\n",
      "  pd_data[col_name]=pd_data[col_name].astype(np.datetime64,copy = False)\n"
     ]
    }
   ],
   "source": [
    "for col_name in pd_data.columns:\n",
    "    if '일자' in col_name:\n",
    "        pd_data[col_name]=pd_data[col_name].astype(np.datetime64,copy = False)\n",
    "    elif ('구분' in col_name) or ('여부' in col_name) or ('코드' in col_name):\n",
    "        pd_data[col_name] = pd_data[col_name].astype('category')\n",
    "        \n",
    "print(pd_data.dtypes)"
   ]
  },
  {
   "cell_type": "code",
   "execution_count": 30,
   "id": "c9bfe516",
   "metadata": {},
   "outputs": [
    {
     "data": {
      "text/html": [
       "<div>\n",
       "<style scoped>\n",
       "    .dataframe tbody tr th:only-of-type {\n",
       "        vertical-align: middle;\n",
       "    }\n",
       "\n",
       "    .dataframe tbody tr th {\n",
       "        vertical-align: top;\n",
       "    }\n",
       "\n",
       "    .dataframe thead th {\n",
       "        text-align: right;\n",
       "    }\n",
       "</style>\n",
       "<table border=\"1\" class=\"dataframe\">\n",
       "  <thead>\n",
       "    <tr style=\"text-align: right;\">\n",
       "      <th></th>\n",
       "      <th>value_count</th>\n",
       "      <th>NaN_count</th>\n",
       "    </tr>\n",
       "  </thead>\n",
       "  <tbody>\n",
       "    <tr>\n",
       "      <th>운영요일</th>\n",
       "      <td>22007</td>\n",
       "      <td>4528</td>\n",
       "    </tr>\n",
       "    <tr>\n",
       "      <th>교육장소</th>\n",
       "      <td>23755</td>\n",
       "      <td>2780</td>\n",
       "    </tr>\n",
       "    <tr>\n",
       "      <th>접수시작일자</th>\n",
       "      <td>21516</td>\n",
       "      <td>5019</td>\n",
       "    </tr>\n",
       "    <tr>\n",
       "      <th>접수종료일자</th>\n",
       "      <td>21474</td>\n",
       "      <td>5061</td>\n",
       "    </tr>\n",
       "    <tr>\n",
       "      <th>선정방법구분</th>\n",
       "      <td>22273</td>\n",
       "      <td>4262</td>\n",
       "    </tr>\n",
       "    <tr>\n",
       "      <th>홈페이지주소</th>\n",
       "      <td>24221</td>\n",
       "      <td>2314</td>\n",
       "    </tr>\n",
       "  </tbody>\n",
       "</table>\n",
       "</div>"
      ],
      "text/plain": [
       "       value_count NaN_count\n",
       "운영요일         22007      4528\n",
       "교육장소         23755      2780\n",
       "접수시작일자       21516      5019\n",
       "접수종료일자       21474      5061\n",
       "선정방법구분       22273      4262\n",
       "홈페이지주소       24221      2314"
      ]
     },
     "execution_count": 30,
     "metadata": {},
     "output_type": "execute_result"
    }
   ],
   "source": [
    "t = []\n",
    "for col_name in pd_data.columns:\n",
    "    if pd_data[col_name].hasnans == True:\n",
    "       # print(col_name)\n",
    "        cnt_s = pd_data[col_name].isna().value_counts()\n",
    "        cnt = cnt_s.to_numpy()\n",
    "        t.append([col_name,cnt[0],cnt[1]])\n",
    "    #print(pd_data[col_name].isna().value_counts)\n",
    "#print(t)\n",
    "t = np.array(t)\n",
    "missing_df = pd.DataFrame(t[:,1:],index=t[:,0],columns=['value_count','NaN_count'])\n",
    "#missing_df.index = missing_df['col_name']\n",
    "missing_df"
   ]
  },
  {
   "cell_type": "code",
   "execution_count": 33,
   "id": "90553033",
   "metadata": {},
   "outputs": [
    {
     "data": {
      "text/plain": [
       "목          2556\n",
       "화          2524\n",
       "수          2434\n",
       "월          1937\n",
       "금          1851\n",
       "           ... \n",
       "월+화+토         1\n",
       "수요일+일요일       1\n",
       "월요일+일요일       1\n",
       "격주토요일         1\n",
       "월 +수 +금       1\n",
       "Name: 운영요일, Length: 218, dtype: int64"
      ]
     },
     "execution_count": 33,
     "metadata": {},
     "output_type": "execute_result"
    }
   ],
   "source": [
    "f1 = pd_data['운영요일'].isna()\n",
    "#pd_data['운영요일'][f1]\n",
    "pd_data['운영요일'].value_counts()\n",
    "\n",
    "# 운영요일별 카운트시 운영요일을 특정할 수 없으므로,\n",
    "# 삭제 조치하도록 함\n"
   ]
  },
  {
   "cell_type": "code",
   "execution_count": 53,
   "id": "2abcffef",
   "metadata": {},
   "outputs": [
    {
     "name": "stderr",
     "output_type": "stream",
     "text": [
      "C:\\Users\\ITPS\\AppData\\Local\\Temp\\ipykernel_9820\\676745541.py:10: SettingWithCopyWarning: \n",
      "A value is trying to be set on a copy of a slice from a DataFrame\n",
      "\n",
      "See the caveats in the documentation: https://pandas.pydata.org/pandas-docs/stable/user_guide/indexing.html#returning-a-view-versus-a-copy\n",
      "  pd_data['교육장소'][filter2] = '온라인'\n"
     ]
    },
    {
     "data": {
      "text/plain": [
       "False    24706\n",
       "True      1829\n",
       "Name: 교육장소, dtype: int64"
      ]
     },
     "execution_count": 53,
     "metadata": {},
     "output_type": "execute_result"
    }
   ],
   "source": [
    "pd_data['교육장소'].value_counts()\n",
    "\n",
    "# 교육방법 구분이 온라인으로 되어있을 경우, 온라인으로 결치를 대체\n",
    "# 그렇지 않을경우, 삭제.\n",
    "pd_data['교육방법구분'].value_counts()\n",
    "filter1 = pd_data['교육장소'].isna()\n",
    "#print(pd_data['교육방법구분'][filter1].value_counts())\n",
    "\n",
    "filter2 = pd_data['교육방법구분'] == '온라인'\n",
    "pd_data['교육장소'][filter2] = '온라인'\n",
    "pd_data['교육장소'].isna().value_counts()\n",
    "\n",
    "# 접수시작/종료일자 결측치\n",
    "# 교육방법 구분이 온라인을 되어있을 경우 1월1일 부터 12월 31까지의 값으로 대체\n",
    "# 그렇지 않을경우, 삭제\n"
   ]
  },
  {
   "cell_type": "code",
   "execution_count": 54,
   "id": "3aeb213b",
   "metadata": {},
   "outputs": [],
   "source": [
    "for i in range(pd_data.shape[0]):\n",
    "    row = pd_data.iloc[i,:]\n",
    "    if (row['교육장소'] == np.NaN) and (row['교육방법구분']=='온라인'):\n",
    "        row['교육장소'] = '온라인'\n"
   ]
  },
  {
   "cell_type": "code",
   "execution_count": 35,
   "id": "51858f4e",
   "metadata": {},
   "outputs": [
    {
     "data": {
      "text/plain": [
       "선착순         16861\n",
       "추첨           1219\n",
       "제한없음          516\n",
       "추첨+선착순        451\n",
       "인터넷 추첨        392\n",
       "            ...  \n",
       "방문접수후 면접        1\n",
       "방문심사            1\n",
       "읍면 추천           1\n",
       "군부대별 선정         1\n",
       "자체심사            1\n",
       "Name: 선정방법구분, Length: 72, dtype: int64"
      ]
     },
     "execution_count": 35,
     "metadata": {},
     "output_type": "execute_result"
    }
   ],
   "source": [
    "pd_data['선정방법구분'].value_counts()\n",
    "# 결측치 삭제"
   ]
  },
  {
   "cell_type": "code",
   "execution_count": null,
   "id": "e77c28d1",
   "metadata": {},
   "outputs": [],
   "source": []
  }
 ],
 "metadata": {
  "kernelspec": {
   "display_name": "Python 3 (ipykernel)",
   "language": "python",
   "name": "python3"
  },
  "language_info": {
   "codemirror_mode": {
    "name": "ipython",
    "version": 3
   },
   "file_extension": ".py",
   "mimetype": "text/x-python",
   "name": "python",
   "nbconvert_exporter": "python",
   "pygments_lexer": "ipython3",
   "version": "3.10.9"
  }
 },
 "nbformat": 4,
 "nbformat_minor": 5
}
