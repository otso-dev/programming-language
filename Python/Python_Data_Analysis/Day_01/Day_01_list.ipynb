{
 "cells": [
  {
   "cell_type": "code",
   "execution_count": 13,
   "id": "4e3d2420",
   "metadata": {},
   "outputs": [
    {
     "name": "stdout",
     "output_type": "stream",
     "text": [
      "[0, 1, 2, 3, 4, 5, 6, 7, 8, 9]\n",
      "[100, 101, 102, 103, 104, 105, 106, 107, 108, 109]\n",
      "True\n",
      "[0, 1, 2, 3, 4, 5, 6, 7, 8, 9, 100, 101, 102, 103, 104, 105, 106, 107, 108, 109]\n"
     ]
    },
    {
     "data": {
      "text/plain": [
       "[0, 1, 2, 3, 4, 5, 6, 7, 8, 9, 0, 1, 2, 3, 4, 5, 6, 7, 8, 9]"
      ]
     },
     "execution_count": 13,
     "metadata": {},
     "output_type": "execute_result"
    }
   ],
   "source": [
    "list_a = [i for i in range(10)]\n",
    "list_b = [i for i in range(100,110)]\n",
    "print(list_a)\n",
    "print(list_b)\n",
    "\n",
    "# in list에 값이 있는지 확인\n",
    "if 10 not in list_a:\n",
    "    print('True')\n",
    "else:\n",
    "    print('False')\n",
    "    \n",
    "# concat 여러개의 리스트를 합 칠때\n",
    "list_c = list_a + list_b\n",
    "print(list_c)\n",
    "\n",
    "# * \n",
    "print(list_a * 2) # 2 * list_a\n",
    "\n",
    "\n"
   ]
  },
  {
   "cell_type": "code",
   "execution_count": 29,
   "id": "54070d00",
   "metadata": {
    "scrolled": true
   },
   "outputs": [
    {
     "name": "stdout",
     "output_type": "stream",
     "text": [
      "['a', 'b', 'c', 'd', 'e', 'f', 'g', 'h', 'i', 'c', 'j', 'k', 'l', 'm', 'n']\n",
      "d\n",
      "['d', 'e', 'f']\n",
      "['d', 'f', 'h', 'c']\n",
      "15\n",
      "a\n",
      "n\n",
      "9\n",
      "count: 2\n"
     ]
    }
   ],
   "source": [
    "#indexing\n",
    "list_d = list('abcdefghicjklmn')\n",
    "print(list_d)\n",
    "print(list_d[3])\n",
    "print(list_d[3:6])\n",
    "print(list_d[3:10:2])\n",
    "\n",
    "print(len(list_d))\n",
    "print(min(list_d))\n",
    "print(max(list_d))\n",
    "\n",
    "c_index = list_d.index('c',3, 10)\n",
    "print(c_index)\n",
    "#list_d[c_index] = 'x'\n",
    "#print(list_d)\n",
    "\n",
    "print('count:', list_d.count('c'))"
   ]
  },
  {
   "cell_type": "code",
   "execution_count": 43,
   "id": "345a8dbb",
   "metadata": {
    "scrolled": true
   },
   "outputs": [
    {
     "name": "stdout",
     "output_type": "stream",
     "text": [
      "{'t', 'a', 'L', 'p', 'y', 'P', 'x', 'o', 'f', 'b', 'T', 'I', 'i', 'r', 'd', ',', 'h', 'n', 'e', '.', 'R', 'c', 'W', ' ', 'w', 'm', 'l', 'u', 'g', 's'}\n",
      "t 25\n",
      "a 19\n",
      "L 1\n",
      "p 2\n",
      "y 8\n",
      "P 4\n",
      "x 2\n",
      "o 15\n",
      "f 4\n",
      "b 7\n",
      "T 1\n",
      "I 1\n",
      "i 18\n",
      "r 14\n",
      "d 11\n",
      "h 14\n",
      "n 20\n",
      "e 29\n",
      "R 1\n",
      "c 10\n",
      "W 1\n",
      "w 1\n",
      "m 6\n",
      "l 9\n",
      "u 6\n",
      "g 4\n",
      "s 18\n"
     ]
    }
   ],
   "source": [
    "s = 'While The Python Language Reference describes the exact syntax and semantics of the Python language, this library reference manual describes the standard library that is distributed with Python. It also describes some of the optional components that are commonly included in Python distributions.'\n",
    "list_char = list(s) # lower()-> 문자열을 다 소문자로 바꾸는 함수\n",
    "set_char = set(list_char)\n",
    "print(set_char)\n",
    "\n",
    "exclude_list = [',',' ','.']\n",
    "for i in set_char:\n",
    "    if i not in exclude_list:\n",
    "        print(i,list_char.count(i))"
   ]
  },
  {
   "cell_type": "code",
   "execution_count": 44,
   "id": "a4616237",
   "metadata": {
    "scrolled": true
   },
   "outputs": [
    {
     "name": "stdout",
     "output_type": "stream",
     "text": [
      "Help on class list in module builtins:\n",
      "\n",
      "class list(object)\n",
      " |  list(iterable=(), /)\n",
      " |  \n",
      " |  Built-in mutable sequence.\n",
      " |  \n",
      " |  If no argument is given, the constructor creates a new empty list.\n",
      " |  The argument must be an iterable if specified.\n",
      " |  \n",
      " |  Methods defined here:\n",
      " |  \n",
      " |  __add__(self, value, /)\n",
      " |      Return self+value.\n",
      " |  \n",
      " |  __contains__(self, key, /)\n",
      " |      Return key in self.\n",
      " |  \n",
      " |  __delitem__(self, key, /)\n",
      " |      Delete self[key].\n",
      " |  \n",
      " |  __eq__(self, value, /)\n",
      " |      Return self==value.\n",
      " |  \n",
      " |  __ge__(self, value, /)\n",
      " |      Return self>=value.\n",
      " |  \n",
      " |  __getattribute__(self, name, /)\n",
      " |      Return getattr(self, name).\n",
      " |  \n",
      " |  __getitem__(...)\n",
      " |      x.__getitem__(y) <==> x[y]\n",
      " |  \n",
      " |  __gt__(self, value, /)\n",
      " |      Return self>value.\n",
      " |  \n",
      " |  __iadd__(self, value, /)\n",
      " |      Implement self+=value.\n",
      " |  \n",
      " |  __imul__(self, value, /)\n",
      " |      Implement self*=value.\n",
      " |  \n",
      " |  __init__(self, /, *args, **kwargs)\n",
      " |      Initialize self.  See help(type(self)) for accurate signature.\n",
      " |  \n",
      " |  __iter__(self, /)\n",
      " |      Implement iter(self).\n",
      " |  \n",
      " |  __le__(self, value, /)\n",
      " |      Return self<=value.\n",
      " |  \n",
      " |  __len__(self, /)\n",
      " |      Return len(self).\n",
      " |  \n",
      " |  __lt__(self, value, /)\n",
      " |      Return self<value.\n",
      " |  \n",
      " |  __mul__(self, value, /)\n",
      " |      Return self*value.\n",
      " |  \n",
      " |  __ne__(self, value, /)\n",
      " |      Return self!=value.\n",
      " |  \n",
      " |  __repr__(self, /)\n",
      " |      Return repr(self).\n",
      " |  \n",
      " |  __reversed__(self, /)\n",
      " |      Return a reverse iterator over the list.\n",
      " |  \n",
      " |  __rmul__(self, value, /)\n",
      " |      Return value*self.\n",
      " |  \n",
      " |  __setitem__(self, key, value, /)\n",
      " |      Set self[key] to value.\n",
      " |  \n",
      " |  __sizeof__(self, /)\n",
      " |      Return the size of the list in memory, in bytes.\n",
      " |  \n",
      " |  append(self, object, /)\n",
      " |      Append object to the end of the list.\n",
      " |  \n",
      " |  clear(self, /)\n",
      " |      Remove all items from list.\n",
      " |  \n",
      " |  copy(self, /)\n",
      " |      Return a shallow copy of the list.\n",
      " |  \n",
      " |  count(self, value, /)\n",
      " |      Return number of occurrences of value.\n",
      " |  \n",
      " |  extend(self, iterable, /)\n",
      " |      Extend list by appending elements from the iterable.\n",
      " |  \n",
      " |  index(self, value, start=0, stop=9223372036854775807, /)\n",
      " |      Return first index of value.\n",
      " |      \n",
      " |      Raises ValueError if the value is not present.\n",
      " |  \n",
      " |  insert(self, index, object, /)\n",
      " |      Insert object before index.\n",
      " |  \n",
      " |  pop(self, index=-1, /)\n",
      " |      Remove and return item at index (default last).\n",
      " |      \n",
      " |      Raises IndexError if list is empty or index is out of range.\n",
      " |  \n",
      " |  remove(self, value, /)\n",
      " |      Remove first occurrence of value.\n",
      " |      \n",
      " |      Raises ValueError if the value is not present.\n",
      " |  \n",
      " |  reverse(self, /)\n",
      " |      Reverse *IN PLACE*.\n",
      " |  \n",
      " |  sort(self, /, *, key=None, reverse=False)\n",
      " |      Sort the list in ascending order and return None.\n",
      " |      \n",
      " |      The sort is in-place (i.e. the list itself is modified) and stable (i.e. the\n",
      " |      order of two equal elements is maintained).\n",
      " |      \n",
      " |      If a key function is given, apply it once to each list item and sort them,\n",
      " |      ascending or descending, according to their function values.\n",
      " |      \n",
      " |      The reverse flag can be set to sort in descending order.\n",
      " |  \n",
      " |  ----------------------------------------------------------------------\n",
      " |  Class methods defined here:\n",
      " |  \n",
      " |  __class_getitem__(...) from builtins.type\n",
      " |      See PEP 585\n",
      " |  \n",
      " |  ----------------------------------------------------------------------\n",
      " |  Static methods defined here:\n",
      " |  \n",
      " |  __new__(*args, **kwargs) from builtins.type\n",
      " |      Create and return a new object.  See help(type) for accurate signature.\n",
      " |  \n",
      " |  ----------------------------------------------------------------------\n",
      " |  Data and other attributes defined here:\n",
      " |  \n",
      " |  __hash__ = None\n",
      "\n"
     ]
    }
   ],
   "source": [
    "help(list)"
   ]
  },
  {
   "cell_type": "code",
   "execution_count": 52,
   "id": "2463eb7b",
   "metadata": {},
   "outputs": [
    {
     "name": "stdout",
     "output_type": "stream",
     "text": [
      "[1, 2, 3]\n",
      "['a', 'b', 'c']\n",
      "{'a': 1, 'b': 2, 'c': 3}\n",
      "dict_items([('a', 1), ('b', 2), ('c', 3)])\n",
      "{'a': 1, 'b': 2, 'c': 3}\n",
      "3\n",
      "None\n",
      "{'a': 1, 'b': 2, 'c': 3, 'y': 15}\n"
     ]
    }
   ],
   "source": [
    "list_a = [1,2,3]\n",
    "list_b = list('abc')\n",
    "print(list_a)\n",
    "print(list_b)\n",
    "\n",
    "d2 = dict(zip(list_b, list_a))\n",
    "print(d2)\n",
    "print(d2.items())\n",
    "\n",
    "d3 = dict([('a', 1), ('b', 2), ('c', 3)])\n",
    "\n",
    "print(d3)\n",
    "print(d3['c'])\n",
    "print(d3.get('x'))\n",
    "d3['y'] = 15\n",
    "print(d3)"
   ]
  },
  {
   "cell_type": "code",
   "execution_count": 58,
   "id": "665ccd28",
   "metadata": {},
   "outputs": [
    {
     "name": "stdout",
     "output_type": "stream",
     "text": [
      "a 1\n",
      "b 2\n",
      "c 3\n",
      "y 15\n",
      "dict_keys(['a', 'b', 'c', 'y'])\n",
      "dict_values([1, 2, 3, 15])\n",
      "1\n",
      "2\n",
      "3\n",
      "15\n",
      "{'a': 1, 'b': 2, 'c': 3, 'y': 20}\n"
     ]
    }
   ],
   "source": [
    "for i in d3:\n",
    "    print(i,d3[i])\n",
    "    \n",
    "print(d3.keys())\n",
    "print(d3.values())\n",
    "\n",
    "for i in d3.values():\n",
    "    print(i)\n",
    "d3['y'] = 20\n",
    "print(d3)"
   ]
  }
 ],
 "metadata": {
  "kernelspec": {
   "display_name": "Python 3 (ipykernel)",
   "language": "python",
   "name": "python3"
  },
  "language_info": {
   "codemirror_mode": {
    "name": "ipython",
    "version": 3
   },
   "file_extension": ".py",
   "mimetype": "text/x-python",
   "name": "python",
   "nbconvert_exporter": "python",
   "pygments_lexer": "ipython3",
   "version": "3.10.9"
  }
 },
 "nbformat": 4,
 "nbformat_minor": 5
}
