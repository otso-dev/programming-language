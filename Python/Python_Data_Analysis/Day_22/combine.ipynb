{
 "cells": [
  {
   "cell_type": "code",
   "execution_count": 16,
   "id": "3c32dfca",
   "metadata": {},
   "outputs": [
    {
     "name": "stdout",
     "output_type": "stream",
     "text": [
      "            A    B    C    D\n",
      "one   0    A0   B0   C0   D0\n",
      "      1    A1   B1   C1   D1\n",
      "      2    A2   B2   C2   D2\n",
      "      3    A3   B3   C3   D3\n",
      "two   4    A4   B4   C4   D4\n",
      "      5    A5   B5   C5   D5\n",
      "      6    A6   B6   C6   D6\n",
      "      7    A7   B7   C7   D7\n",
      "three 8    A8   B8   C8   D8\n",
      "      9    A9   B9   C9   D9\n",
      "      10  A10  B10  C10  D10\n",
      "      11  A11  B11  C11  D11\n"
     ]
    }
   ],
   "source": [
    "import pandas as pd\n",
    "\n",
    "df1 = pd.DataFrame(\n",
    "    {\n",
    "        \"A\": [\"A0\", \"A1\", \"A2\", \"A3\"],\n",
    "        \"B\": [\"B0\", \"B1\", \"B2\", \"B3\"],\n",
    "        \"C\": [\"C0\", \"C1\", \"C2\", \"C3\"],\n",
    "        \"D\": [\"D0\", \"D1\", \"D2\", \"D3\"],\n",
    "    },\n",
    "    index=[0, 1, 2, 3],\n",
    ")\n",
    "\n",
    "\n",
    "df2 = pd.DataFrame(\n",
    "    {\n",
    "        \"A\": [\"A4\", \"A5\", \"A6\", \"A7\"],\n",
    "        \"B\": [\"B4\", \"B5\", \"B6\", \"B7\"],\n",
    "        \"C\": [\"C4\", \"C5\", \"C6\", \"C7\"],\n",
    "        \"D\": [\"D4\", \"D5\", \"D6\", \"D7\"],\n",
    "    },\n",
    "    index=[4, 5, 6, 7],\n",
    ")\n",
    "\n",
    "\n",
    "df3 = pd.DataFrame(\n",
    "    {\n",
    "        \"A\": [\"A8\", \"A9\", \"A10\", \"A11\"],\n",
    "        \"B\": [\"B8\", \"B9\", \"B10\", \"B11\"],\n",
    "        \"C\": [\"C8\", \"C9\", \"C10\", \"C11\"],\n",
    "        \"D\": [\"D8\", \"D9\", \"D10\", \"D11\"],\n",
    "    },\n",
    "    index=[8, 9, 10, 11],\n",
    ")\n",
    "\n",
    "\n",
    "frames = [df1, df2, df3]\n",
    "\n",
    "result = pd.concat(frames, axis=0, keys=['one', 'two', 'three'])\n",
    "print(result)"
   ]
  },
  {
   "cell_type": "code",
   "execution_count": 18,
   "id": "0c373e48",
   "metadata": {},
   "outputs": [
    {
     "name": "stdout",
     "output_type": "stream",
     "text": [
      "     A   B    C   D    F\n",
      "0   A0  B0   C0  D0  NaN\n",
      "1   A1  B1   C1  D1  NaN\n",
      "2   A2  B2   C2  D2  NaN\n",
      "3   A3  B3   C3  D3  NaN\n",
      "2  NaN  B2  NaN  D2   F2\n",
      "3  NaN  B3  NaN  D3   F3\n",
      "6  NaN  B6  NaN  D6   F6\n",
      "7  NaN  B7  NaN  D7   F7\n"
     ]
    }
   ],
   "source": [
    "df4 = pd.DataFrame(\n",
    "    {\n",
    "        \"B\": [\"B2\", \"B3\", \"B6\", \"B7\"],\n",
    "        \"D\": [\"D2\", \"D3\", \"D6\", \"D7\"],\n",
    "        \"F\": [\"F2\", \"F3\", \"F6\", \"F7\"],\n",
    "    },\n",
    "    index=[2, 3, 6, 7],\n",
    ")\n",
    "\n",
    "\n",
    "result = pd.concat([df1, df4], axis=0, join='outer')\n",
    "print(result)"
   ]
  },
  {
   "cell_type": "code",
   "execution_count": null,
   "id": "b08f71af",
   "metadata": {},
   "outputs": [],
   "source": []
  },
  {
   "cell_type": "code",
   "execution_count": 23,
   "id": "ad2ddc1e",
   "metadata": {},
   "outputs": [
    {
     "name": "stdout",
     "output_type": "stream",
     "text": [
      "  key   A   B key   C   D\n",
      "0  K0  A0  B0  K0  C0  D0\n",
      "1  K1  A1  B1  K1  C1  D1\n",
      "2  K2  A2  B2  K2  C2  D2\n",
      "3  K3  A3  B3  K3  C3  D3\n"
     ]
    }
   ],
   "source": [
    "left = pd.DataFrame(\n",
    "    {\n",
    "        \"key\": [\"K0\", \"K1\", \"K2\", \"K3\"],\n",
    "        \"A\": [\"A0\", \"A1\", \"A2\", \"A3\"],\n",
    "        \"B\": [\"B0\", \"B1\", \"B2\", \"B3\"],\n",
    "    }\n",
    ")\n",
    "\n",
    "\n",
    "right = pd.DataFrame(\n",
    "    {\n",
    "        \"key\": [\"K0\", \"K1\", \"K2\", \"K3\"],\n",
    "        \"C\": [\"C0\", \"C1\", \"C2\", \"C3\"],\n",
    "        \"D\": [\"D0\", \"D1\", \"D2\", \"D3\"],\n",
    "    }\n",
    ")\n",
    "\n",
    "\n",
    "result = pd.merge(left, right, on=\"key\")\n",
    "result = pd.concat((left, right), axis=1)\n",
    "print(result)"
   ]
  },
  {
   "cell_type": "code",
   "execution_count": 26,
   "id": "b7c04543",
   "metadata": {},
   "outputs": [
    {
     "name": "stdout",
     "output_type": "stream",
     "text": [
      "    key   A   B\n",
      "key            \n",
      "K0   K0  A0  B0\n",
      "K1   K1  A1  B1\n",
      "K2   K2  A2  B2\n",
      "K3   K3  A3  B3\n",
      "    key   C   D\n",
      "key            \n",
      "K0   K0  C0  D0\n",
      "K1   K1  C1  D1\n",
      "K2   K2  C2  D2\n",
      "K3   K3  C3  D3\n",
      "    key   A   B key   C   D\n",
      "key                        \n",
      "K0   K0  A0  B0  K0  C0  D0\n",
      "K1   K1  A1  B1  K1  C1  D1\n",
      "K2   K2  A2  B2  K2  C2  D2\n",
      "K3   K3  A3  B3  K3  C3  D3\n"
     ]
    }
   ],
   "source": [
    "left.index = left['key']\n",
    "print(left)\n",
    "\n",
    "right.index = right['key']\n",
    "print(right)\n",
    "\n",
    "result = pd.concat((left, right), axis=1)\n",
    "print(result)"
   ]
  },
  {
   "cell_type": "code",
   "execution_count": 50,
   "id": "f7674d4a",
   "metadata": {},
   "outputs": [
    {
     "name": "stdout",
     "output_type": "stream",
     "text": [
      "  key   C   D\n",
      "0  K0  C0  D0\n",
      "1  K1  C1  D1\n",
      "2  K2  C2  D2\n",
      "3  K3  C3  D3\n",
      "    key   C   D\n",
      "key            \n",
      "K0   K0  C0  D0\n",
      "K1   K1  C1  D1\n",
      "K2   K2  C2  D2\n",
      "K3   K3  C3  D3\n",
      "      C   D\n",
      "key        \n",
      "K0   C0  D0\n",
      "K1   C1  D1\n",
      "K2   C2  D2\n",
      "K3   C3  D3\n",
      "  key   C   D\n",
      "0  K0  C0  D0\n",
      "1  K1  C1  D1\n",
      "2  K2  C2  D2\n",
      "3  K3  C3  D3\n",
      "      C   D\n",
      "key        \n",
      "K0   C0  D0\n",
      "K1   C1  D1\n",
      "K2   C2  D2\n",
      "K3   C3  D3\n",
      "  key   C   D\n",
      "0  K0  C0  D0\n",
      "1  K1  C1  D1\n",
      "2  K2  C2  D2\n",
      "3  K3  C3  D3\n",
      "         D\n",
      "key C     \n",
      "K0  C0  D0\n",
      "K1  C1  D1\n",
      "K2  C2  D2\n",
      "K3  C3  D3\n",
      "D    D0\n",
      "Name: (K0, C0), dtype: object\n"
     ]
    }
   ],
   "source": [
    "x = pd.DataFrame(\n",
    "    {\n",
    "        \"key\": [\"K0\", \"K1\", \"K2\", \"K3\"],\n",
    "        \"C\": [\"C0\", \"C1\", \"C2\", \"C3\"],\n",
    "        \"D\": [\"D0\", \"D1\", \"D2\", \"D3\"],\n",
    "    }\n",
    ")\n",
    "print(x)\n",
    "x.index = x['key']\n",
    "print(x)\n",
    "x.drop('key', axis=1, inplace=True)\n",
    "print(x)\n",
    "x.reset_index(inplace=True)\n",
    "print(x)\n",
    "x.set_index('key', inplace=True)\n",
    "print(x)\n",
    "x.reset_index(inplace=True)\n",
    "print(x)\n",
    "x.set_index(['key', 'C'], inplace=True)\n",
    "print(x)\n",
    "print(x.loc[('K0', 'C0'),:])"
   ]
  },
  {
   "cell_type": "code",
   "execution_count": 53,
   "id": "304ba7ef",
   "metadata": {},
   "outputs": [
    {
     "name": "stdout",
     "output_type": "stream",
     "text": [
      "         D\n",
      "key C     \n",
      "K0  C0  D0\n",
      "K1  C1  D1\n",
      "K2  C2  D2\n",
      "K3  C3  D3\n"
     ]
    },
    {
     "data": {
      "text/html": [
       "<div>\n",
       "<style scoped>\n",
       "    .dataframe tbody tr th:only-of-type {\n",
       "        vertical-align: middle;\n",
       "    }\n",
       "\n",
       "    .dataframe tbody tr th {\n",
       "        vertical-align: top;\n",
       "    }\n",
       "\n",
       "    .dataframe thead th {\n",
       "        text-align: right;\n",
       "    }\n",
       "</style>\n",
       "<table border=\"1\" class=\"dataframe\">\n",
       "  <thead>\n",
       "    <tr style=\"text-align: right;\">\n",
       "      <th></th>\n",
       "      <th>C</th>\n",
       "      <th>D</th>\n",
       "    </tr>\n",
       "    <tr>\n",
       "      <th>key</th>\n",
       "      <th></th>\n",
       "      <th></th>\n",
       "    </tr>\n",
       "  </thead>\n",
       "  <tbody>\n",
       "    <tr>\n",
       "      <th>K0</th>\n",
       "      <td>C0</td>\n",
       "      <td>D0</td>\n",
       "    </tr>\n",
       "    <tr>\n",
       "      <th>K1</th>\n",
       "      <td>C1</td>\n",
       "      <td>D1</td>\n",
       "    </tr>\n",
       "    <tr>\n",
       "      <th>K2</th>\n",
       "      <td>C2</td>\n",
       "      <td>D2</td>\n",
       "    </tr>\n",
       "    <tr>\n",
       "      <th>K3</th>\n",
       "      <td>C3</td>\n",
       "      <td>D3</td>\n",
       "    </tr>\n",
       "  </tbody>\n",
       "</table>\n",
       "</div>"
      ],
      "text/plain": [
       "      C   D\n",
       "key        \n",
       "K0   C0  D0\n",
       "K1   C1  D1\n",
       "K2   C2  D2\n",
       "K3   C3  D3"
      ]
     },
     "execution_count": 53,
     "metadata": {},
     "output_type": "execute_result"
    }
   ],
   "source": [
    "print(x)\n",
    "x.reset_index(level=1)"
   ]
  },
  {
   "cell_type": "code",
   "execution_count": 59,
   "id": "768d746d",
   "metadata": {},
   "outputs": [
    {
     "name": "stdout",
     "output_type": "stream",
     "text": [
      "    K   A   B\n",
      "0  K0  A0  B0\n",
      "1  K1  A1  B1\n",
      "2  K2  A2  B2\n",
      "3  K3  A3  B3\n",
      "4  K4  A4  B4\n"
     ]
    }
   ],
   "source": [
    "s1 = pd.Series(['K{}'.format(i) for i in range(5)], name='K')\n",
    "s2 = pd.Series(['A{}'.format(i) for i in range(5)], name='A')\n",
    "s3 = pd.Series(['B{}'.format(i) for i in range(5)], name='B')\n",
    "df1 = pd.DataFrame()\n",
    "df1['K'] = s1\n",
    "df1['A'] = s2\n",
    "df1['B'] = s3\n",
    "print(df1)"
   ]
  },
  {
   "cell_type": "code",
   "execution_count": null,
   "id": "07ea0655",
   "metadata": {},
   "outputs": [],
   "source": []
  },
  {
   "cell_type": "code",
   "execution_count": 69,
   "id": "39828c1d",
   "metadata": {},
   "outputs": [
    {
     "name": "stdout",
     "output_type": "stream",
     "text": [
      "4    A4\n",
      "5    A5\n",
      "6    A6\n",
      "7    A7\n",
      "dtype: object\n",
      "4    B4\n",
      "5    B5\n",
      "6    B6\n",
      "7    B7\n",
      "dtype: object\n",
      "4    C4\n",
      "5    C5\n",
      "6    C6\n",
      "7    C7\n",
      "dtype: object\n",
      "4    D4\n",
      "5    D5\n",
      "6    D6\n",
      "7    D7\n",
      "dtype: object\n",
      "    A   B   C   D\n",
      "0  A0  B0  C0  D0\n",
      "1  A1  B1  C1  D1\n",
      "2  A2  B2  C2  D2\n",
      "3  A3  B3  C3  D3\n",
      "    A   B   C   D\n",
      "4  A4  B4  C4  D4\n",
      "5  A5  B5  C5  D5\n",
      "6  A6  B6  C6  D6\n",
      "7  A7  B7  C7  D7\n"
     ]
    }
   ],
   "source": [
    "df1 = pd.DataFrame(\n",
    "    {\n",
    "        \"A\": [\"A0\", \"A1\", \"A2\", \"A3\"],\n",
    "        \"B\": [\"B0\", \"B1\", \"B2\", \"B3\"],\n",
    "        \"C\": [\"C0\", \"C1\", \"C2\", \"C3\"],\n",
    "        \"D\": [\"D0\", \"D1\", \"D2\", \"D3\"],\n",
    "    },\n",
    "    index=[0, 1, 2, 3],\n",
    ")\n",
    "\n",
    "df2 = pd.DataFrame()\n",
    "start_i = 4\n",
    "for n in list('ABCD'):\n",
    "    tr = range(start_i, start_i+4)\n",
    "    ts = pd.Series(['{}{}'.format(n, x) for x in tr], index=[x for x in tr])\n",
    "    print(ts)\n",
    "    df2[n] = ts\n",
    "print(df1)\n",
    "print(df2)"
   ]
  }
 ],
 "metadata": {
  "kernelspec": {
   "display_name": "Python 3 (ipykernel)",
   "language": "python",
   "name": "python3"
  },
  "language_info": {
   "codemirror_mode": {
    "name": "ipython",
    "version": 3
   },
   "file_extension": ".py",
   "mimetype": "text/x-python",
   "name": "python",
   "nbconvert_exporter": "python",
   "pygments_lexer": "ipython3",
   "version": "3.10.5"
  },
  "vscode": {
   "interpreter": {
    "hash": "08804ff59ba42edf801cabf0150036e830ede650fb4c74b1d2ab081b0e1a309a"
   }
  }
 },
 "nbformat": 4,
 "nbformat_minor": 5
}
