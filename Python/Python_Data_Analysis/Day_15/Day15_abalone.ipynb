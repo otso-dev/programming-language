{
 "cells": [
  {
   "cell_type": "markdown",
   "id": "484ebe5e",
   "metadata": {},
   "source": [
    "#### 전복\n",
    "1. [함수]requests 패키지를 이용해 데이터 가져와서 ndarray로 변환.\n",
    "2. [함수]성별이 'M'인 데이터를 필터, Length와 Diameter 간 상관도를 반환\n",
    "3. __name__ 값이 __main__ 이면, 1,2 함수를 실행, 2번 함수의 반환 값을 프린트. \n",
    "\n",
    "\n",
    "bonus : sqlite3\n",
    "참고 : https://docs.python.org/3/library/sqlite3.html  \n",
    "테이블 DDL\n",
    "\n",
    "    create table abalone(\n",
    "        length number,\n",
    "        diameter number);"
   ]
  },
  {
   "cell_type": "code",
   "execution_count": 2,
   "id": "e2aea080",
   "metadata": {},
   "outputs": [],
   "source": [
    "import requests\n",
    "import numpy as np"
   ]
  },
  {
   "cell_type": "code",
   "execution_count": 58,
   "id": "37a1bd32",
   "metadata": {},
   "outputs": [
    {
     "name": "stdout",
     "output_type": "stream",
     "text": [
      "(1528, 2)\n"
     ]
    },
    {
     "data": {
      "text/plain": [
       "array([[1.        , 0.98190714],\n",
       "       [0.98190714, 1.        ]])"
      ]
     },
     "execution_count": 58,
     "metadata": {},
     "output_type": "execute_result"
    }
   ],
   "source": [
    "\n",
    "def data_get():\n",
    "    sub_data = []\n",
    "    data = requests.get('https://archive.ics.uci.edu/ml/machine-learning-databases/abalone/abalone.data')\n",
    "    raw_data = data.text.split('\\n')\n",
    "    #print(raw_data)\n",
    "    for line in raw_data:\n",
    "        sub_data.append(line.split(','))\n",
    "    np_data = np.array(sub_data[:-1])\n",
    "    filter1 = np_data[:,0] == 'M'\n",
    "    sub_data = np_data[filter1]\n",
    "    filter_data = sub_data[:,[1,2]].astype(np.float64)\n",
    "    return filter_data\n",
    "\n",
    "def len_dia_corr(sub_data):\n",
    "    return np.corrcoef(sub_data[:,0],sub_data[:,1])\n",
    "\n",
    "if __name__ == '__main__':\n",
    "    data = data_get()\n",
    "    out = len_dia_corr(data)\n",
    "    print(out)\n",
    "\n"
   ]
  }
 ],
 "metadata": {
  "kernelspec": {
   "display_name": "Python 3 (ipykernel)",
   "language": "python",
   "name": "python3"
  },
  "language_info": {
   "codemirror_mode": {
    "name": "ipython",
    "version": 3
   },
   "file_extension": ".py",
   "mimetype": "text/x-python",
   "name": "python",
   "nbconvert_exporter": "python",
   "pygments_lexer": "ipython3",
   "version": "3.10.9"
  }
 },
 "nbformat": 4,
 "nbformat_minor": 5
}
