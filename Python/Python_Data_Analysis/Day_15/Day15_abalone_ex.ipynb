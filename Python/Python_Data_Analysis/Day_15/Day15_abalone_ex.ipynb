{
 "cells": [
  {
   "cell_type": "code",
   "execution_count": 1,
   "id": "988faf25",
   "metadata": {},
   "outputs": [],
   "source": [
    "import numpy as np\n",
    "import requests\n",
    "import sqlite3\n"
   ]
  },
  {
   "cell_type": "code",
   "execution_count": 2,
   "id": "6d710ada",
   "metadata": {},
   "outputs": [],
   "source": [
    "def fetch_uci_data(url):\n",
    "    d = requests.get(url)\n",
    "    t = []\n",
    "    for line in d.text.split('\\n'):\n",
    "        if len(line)!=0:\n",
    "            t.append(line.split(','))\n",
    "    return np.array(t)\n",
    "\n",
    "def get_corr(d):\n",
    "    male_filter = (d[:,0] == 'M')\n",
    "    male_samples = d[male_filter]\n",
    "    male_length = male_samples[:,1].astype(np.float64)\n",
    "    male_diameter = male_samples[:,2].astype(np.float64)\n",
    "    return np.corrcoef(male_length,male_diameter)"
   ]
  },
  {
   "cell_type": "code",
   "execution_count": 3,
   "id": "d4413120",
   "metadata": {},
   "outputs": [
    {
     "name": "stdout",
     "output_type": "stream",
     "text": [
      "0.9819071375281404\n"
     ]
    }
   ],
   "source": [
    "url = 'https://archive.ics.uci.edu/ml/machine-learning-databases/abalone/abalone.data'\n",
    "if __name__ == '__main__':\n",
    "    np_data = fetch_uci_data(url)\n",
    "    corr_value = get_corr(np_data)\n",
    "    print(corr_value[0,1])"
   ]
  },
  {
   "cell_type": "code",
   "execution_count": 7,
   "id": "b594f877",
   "metadata": {},
   "outputs": [],
   "source": [
    "con = sqlite3.connect(\"test.db\")\n",
    "cur = con.cursor()"
   ]
  },
  {
   "cell_type": "code",
   "execution_count": 8,
   "id": "515c8111",
   "metadata": {},
   "outputs": [],
   "source": [
    "cur.execute(\"CREATE TABLE abalone(length real, diameter real)\")\n",
    "cur.execute(\"INSERT INTO abalone(length ,diameter)values(10.0,20.0)\")\n",
    "con.commit()\n",
    "con.close()"
   ]
  },
  {
   "cell_type": "code",
   "execution_count": 10,
   "id": "b9f509af",
   "metadata": {},
   "outputs": [
    {
     "name": "stdout",
     "output_type": "stream",
     "text": [
      "[(10.0, 20.0)]\n"
     ]
    }
   ],
   "source": [
    "con = sqlite3.connect(\"test.db\")\n",
    "cur = con.cursor()\n",
    "res = cur.execute(\"SELECT * from abalone\")\n",
    "print(res.fetchall())"
   ]
  }
 ],
 "metadata": {
  "kernelspec": {
   "display_name": "Python 3 (ipykernel)",
   "language": "python",
   "name": "python3"
  },
  "language_info": {
   "codemirror_mode": {
    "name": "ipython",
    "version": 3
   },
   "file_extension": ".py",
   "mimetype": "text/x-python",
   "name": "python",
   "nbconvert_exporter": "python",
   "pygments_lexer": "ipython3",
   "version": "3.10.9"
  }
 },
 "nbformat": 4,
 "nbformat_minor": 5
}
