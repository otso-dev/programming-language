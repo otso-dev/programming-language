{
 "cells": [
  {
   "cell_type": "code",
   "execution_count": 48,
   "id": "ae991ab0",
   "metadata": {},
   "outputs": [
    {
     "name": "stdout",
     "output_type": "stream",
     "text": [
      "[['시점', '베트남', '중국', '한국계 중국인', '미국', '인도네시아', '필리핀', '우즈베키스탄', '타이완', '일본', '미얀마', '한국계 러시아인', '캄보디아', '러시아(연방)', '네팔', '캐나다', '스리랑카', '파키스탄', '타이', '몽골'], ['2020.10', 11393, 7503, 5080, 2608, 2561, 1749, 1730, 1425, 1297, 1241, 1097, 1038, 1034, 981, 796, 664, 611, 582, 512], ['2020.11', 11378, 7445, 5017, 2615, 2521, 1735, 1707, 1417, 1289, 1196, 1090, 1024, 1019, 978, 796, 652, 600, 573, 517]]\n"
     ]
    }
   ],
   "source": [
    "import pickle\n",
    "csv_data = []\n",
    "line_no = 0\n",
    "with open('국적별_외국인_현황_20230207163531.csv') as f:\n",
    "    for line in f:\n",
    "        line_no = line_no + 1\n",
    "        if line_no == 2:\n",
    "            continue\n",
    "        t = line[:-1].split(',')\n",
    "        del t[1]\n",
    "        csv_data.append(t)\n",
    "\n",
    "for e in csv_data:\n",
    "    e[0] = e[0].strip('\"')\n",
    "for e in csv_data[1:]:\n",
    "    for i , value in enumerate(e[1:]):\n",
    "        e[i+1] = int(value)\n",
    "print(csv_data[:3])\n",
    "\n",
    "with open('2020_10-2022_11.pickle','wb') as f:\n",
    "    pickle.dump(csv_data,f)"
   ]
  },
  {
   "cell_type": "code",
   "execution_count": 54,
   "id": "2a32fb81",
   "metadata": {},
   "outputs": [
    {
     "name": "stdout",
     "output_type": "stream",
     "text": [
      "[11232, 6897, 4364, 2961, 3047, 1750, 2006, 1356, 1589, 1430, 1149, 1127, 1041, 995, 895, 626, 615, 628, 581] 19\n",
      "['베트남', '중국', '한국계 중국인', '미국', '인도네시아', '필리핀', '우즈베키스탄', '타이완', '일본', '미얀마', '한국계 러시아인', '캄보디아', '러시아(연방)', '네팔', '캐나다', '스리랑카', '파키스탄', '타이', '몽골']\n",
      "{'베트남': 11232, '중국': 6897, '한국계 중국인': 4364, '인도네시아': 3047, '미국': 2961, '우즈베키스탄': 2006, '필리핀': 1750, '일본': 1589, '미얀마': 1430, '타이완': 1356, '한국계 러시아인': 1149, '캄보디아': 1127, '러시아(연방)': 1041, '네팔': 995, '캐나다': 895, '타이': 628, '스리랑카': 626, '파키스탄': 615, '몽골': 581}\n",
      "{'베트남': 25.36069904490957, '중국': 15.572715572715573, '한국계 중국인': 9.853462485041433, '인도네시아': 6.879812142970038, '미국': 6.685633001422475, '우즈베키스탄': 4.529341371446635, '필리핀': 3.951319740793425, '일본': 3.58779832464043, '미얀마': 3.228792702476913, '타이완': 3.0617083248662196, '한국계 러시아인': 2.594323646955226, '캄보디아': 2.5446499130709657, '러시아(연방)': 2.350470771523403, '네팔': 2.2466075097654046, '캐나다': 2.0208178102914944, '타이': 1.4179593126961547, '스리랑카': 1.4134435187066765, '파키스탄': 1.3886066517645466, '몽골': 1.3118381539434172}\n"
     ]
    }
   ],
   "source": [
    "#print(csv_data[:10])\n",
    "\n",
    "def get_numbers(data_list,year,month):\n",
    "    for e in data_list:\n",
    "        if '{}.{}'.format(year,month) in e:\n",
    "            return e\n",
    "    return None\n",
    "\n",
    "count_list = get_numbers(csv_data,2022,11)\n",
    "count_list = count_list[1:]\n",
    "country_list = csv_data[0][1:]\n",
    "print(count_list,len(count_list))\n",
    "print(country_list)\n",
    "\n",
    "percent_list = []\n",
    "for n in count_list:\n",
    "    percent_list.append((n*100)/sum(count_list))\n",
    "\n",
    "count_dict = dict(sorted(zip(country_list, count_list),key = lambda x : x[1], reverse = True))\n",
    "percent_dict = dict(sorted(zip(country_list,percent_list),key = lambda x : x[1],reverse = True ))\n",
    "print(count_dict)\n",
    "print(percent_dict)"
   ]
  },
  {
   "cell_type": "code",
   "execution_count": 106,
   "id": "6379a6ba",
   "metadata": {},
   "outputs": [
    {
     "name": "stdout",
     "output_type": "stream",
     "text": [
      "[11028.038461538461, 6954.961538461538, 4627.807692307692, 2745.9615384615386, 2616.5, 1668.7692307692307, 1655.7692307692307, 1379.8076923076924, 1430.7307692307693, 1246.0, 1071.2307692307693, 1069.1538461538462, 993.1923076923077, 930.1538461538462, 826.9230769230769, 578.5384615384615, 583.6538461538462, 597.6923076923077, 512.6153846153846]\n",
      "{'베트남': 11028.038461538461, '중국': 6954.961538461538, '한국계 중국인': 4627.807692307692, '미국': 2745.9615384615386, '인도네시아': 2616.5, '필리핀': 1668.7692307692307, '우즈베키스탄': 1655.7692307692307, '일본': 1430.7307692307693, '타이완': 1379.8076923076924, '미얀마': 1246.0, '한국계 러시아인': 1071.2307692307693, '캄보디아': 1069.1538461538462, '러시아(연방)': 993.1923076923077, '네팔': 930.1538461538462, '캐나다': 826.9230769230769, '타이': 597.6923076923077, '파키스탄': 583.6538461538462, '스리랑카': 578.5384615384615, '몽골': 512.6153846153846}\n"
     ]
    }
   ],
   "source": [
    "total_count = [0] * len(country_list)\n",
    "for e in csv_data[1:]:\n",
    "    for i , n in enumerate(e[1:]):\n",
    "        total_count[i] = total_count[i] + n\n",
    "\n",
    "for i ,total in enumerate(total_count):\n",
    "    total_count[i] = total_count[i]/len(csv_data[1:])\n",
    "print(total_count)\n",
    "\n",
    "count_dict = dict(sorted(zip(country_list, total_count),key = lambda x : x[1], reverse = True))\n",
    "#percent_dict = dict(sorted(zip(country_list,percent_list),key = lambda x : x[1],reverse = True ))\n",
    "print(count_dict)\n",
    "#print(percent_dict)"
   ]
  },
  {
   "cell_type": "code",
   "execution_count": 108,
   "id": "6f5dc58b",
   "metadata": {},
   "outputs": [
    {
     "name": "stdout",
     "output_type": "stream",
     "text": [
      "mystring\n"
     ]
    }
   ],
   "source": [
    "s = 'mystring\\n'\n",
    "print(s[:-1])"
   ]
  },
  {
   "cell_type": "code",
   "execution_count": null,
   "id": "f9ead49f",
   "metadata": {},
   "outputs": [],
   "source": [
    "list_t = [0] * 2\n",
    "print(list_t)"
   ]
  },
  {
   "cell_type": "code",
   "execution_count": 111,
   "id": "559e8f82",
   "metadata": {},
   "outputs": [
    {
     "name": "stdout",
     "output_type": "stream",
     "text": [
      "['베트남', '중국', '한국계 중국인', '미국', '인도네시아', '필리핀', '우즈베키스탄', '타이완', '일본', '미얀마', '한국계 러시아인', '캄보디아', '러시아(연방)', '네팔', '캐나다', '스리랑카', '파키스탄', '타이', '몽골']\n"
     ]
    }
   ],
   "source": [
    "print(csv_data[0][1:])"
   ]
  }
 ],
 "metadata": {
  "kernelspec": {
   "display_name": "Python 3 (ipykernel)",
   "language": "python",
   "name": "python3"
  },
  "language_info": {
   "codemirror_mode": {
    "name": "ipython",
    "version": 3
   },
   "file_extension": ".py",
   "mimetype": "text/x-python",
   "name": "python",
   "nbconvert_exporter": "python",
   "pygments_lexer": "ipython3",
   "version": "3.10.9"
  }
 },
 "nbformat": 4,
 "nbformat_minor": 5
}
