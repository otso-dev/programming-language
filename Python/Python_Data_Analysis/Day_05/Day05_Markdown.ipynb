{
 "cells": [
  {
   "cell_type": "markdown",
   "id": "10dc0d94",
   "metadata": {},
   "source": [
    "# Heading1\n",
    "\n",
    "## heading2\n",
    "\n",
    "### heading3\n",
    "\n",
    "heading\n",
    "=======\n",
    "\n",
    "heading2\n",
    "--------"
   ]
  },
  {
   "cell_type": "markdown",
   "id": "f8b03bc9",
   "metadata": {},
   "source": [
    "문장1 문장2 문장 3  \n",
    "문장4\n",
    "\n",
    "문단x\n",
    "1. item\n",
    "2. item\n",
    "3. item\n",
    "- item\n",
    "\n",
    "|table|description|\n",
    "|------|-----|\n",
    "|header|Title|\n",
    "|paragraph|Text|\n",
    " - [x] write the press release\n",
    " - [] update the website\n",
    " - [] contact the media\n",
    " \n",
    " That is so funny!  :joy:\n",
    " * mathjax\n",
    " $$\n",
    "  \\hat y = x_{i} + \\sum 2\n",
    " $$\n",
    " I need to highlight these **very important words**  \n",
    " H<sub>2</sub>O\n",
    " x<sup>2</sup>\n",
    " "
   ]
  }
 ],
 "metadata": {
  "kernelspec": {
   "display_name": "Python 3 (ipykernel)",
   "language": "python",
   "name": "python3"
  },
  "language_info": {
   "codemirror_mode": {
    "name": "ipython",
    "version": 3
   },
   "file_extension": ".py",
   "mimetype": "text/x-python",
   "name": "python",
   "nbconvert_exporter": "python",
   "pygments_lexer": "ipython3",
   "version": "3.10.9"
  }
 },
 "nbformat": 4,
 "nbformat_minor": 5
}
