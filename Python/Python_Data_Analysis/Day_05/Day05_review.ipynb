{
 "cells": [
  {
   "cell_type": "code",
   "execution_count": 13,
   "id": "6e32bcc7",
   "metadata": {},
   "outputs": [
    {
     "name": "stdout",
     "output_type": "stream",
     "text": [
      "10.5\n",
      "datatype:str\n"
     ]
    }
   ],
   "source": [
    "# data type\n",
    "# int(), float(), bool(), str() -> ()붙이면 data type casting\n",
    "\n",
    "try:\n",
    "    a = [20.5,'10.5']\n",
    "    for i in a:\n",
    "        int(i)\n",
    "except:\n",
    "    print(i)\n",
    "#a = [20.5,'10.5']\n",
    "a ='string'\n",
    "if isinstance(a,type([])):\n",
    "    print('datatype:list')\n",
    "elif isinstance(a,type('')):\n",
    "    print('datatype:str')\n",
    "# list [], tuple (), set, dictionary {}"
   ]
  },
  {
   "cell_type": "code",
   "execution_count": 44,
   "id": "b724c264",
   "metadata": {},
   "outputs": [
    {
     "name": "stdout",
     "output_type": "stream",
     "text": [
      "{'x': 10, 'y': 20, 'z': 30}\n",
      "10\n",
      "10\n",
      "{'x': 10, 'y': 50, 'z': 30}\n",
      "{'x': 10, 'y': 50, 'z': 30, 'newkey': 1234}\n",
      "dict_keys(['x', 'y', 'z', 'newkey'])\n",
      "dict_values([10, 50, 30, 1234])\n",
      "dict_items([('x', 10), ('y', 50), ('z', 30), ('newkey', 1234)])\n",
      "x 10\n",
      "y 50\n",
      "z 30\n",
      "newkey 1234\n"
     ]
    }
   ],
   "source": [
    "# dictionary : key value\n",
    "dict1 = {'a': 1, 'b': 2, 'c': 3}\n",
    "\n",
    "key_list = list('xyz')\n",
    "value_list = [10,20,30]\n",
    "x = zip(key_list,value_list) # [('x',10),('y',20),('z',30)]\n",
    "dict2 = dict(x)\n",
    "print(dict2)\n",
    "\n",
    "print(dict2['x'])\n",
    "print(dict2.get('x'))\n",
    "\n",
    "dict2['y'] = 50\n",
    "print(dict2)\n",
    "\n",
    "dict2['newkey'] = 1234\n",
    "print(dict2)\n",
    "\n",
    "key_list = dict2.keys()\n",
    "value_list = dict2.values()\n",
    "print(key_list)\n",
    "print(value_list)\n",
    "print(dict2.items()) # zip한 상태\n",
    "\n",
    "for e in dict2: # key value 같이 조회하기 (dict)\n",
    "    print(e, dict2[e])"
   ]
  },
  {
   "cell_type": "code",
   "execution_count": 14,
   "id": "c83d5821",
   "metadata": {},
   "outputs": [
    {
     "name": "stdout",
     "output_type": "stream",
     "text": [
      "False\n"
     ]
    }
   ],
   "source": [
    "# if: - else:\n",
    "# if: -elif: - else:\n",
    "if '':\n",
    "    print('True')\n",
    "else:\n",
    "    print('False') # 0, ''비어있는 문자열/list안에 데이터 값이"
   ]
  },
  {
   "cell_type": "code",
   "execution_count": 19,
   "id": "6b155cd8",
   "metadata": {},
   "outputs": [
    {
     "name": "stdout",
     "output_type": "stream",
     "text": [
      "0 a\n",
      "1 b\n",
      "2 c\n",
      "3 d\n",
      "4 e\n",
      "['a']\n"
     ]
    }
   ],
   "source": [
    "# for - range() / list; enumerate()\n",
    "list_a = list('abcde')\n",
    "for i ,c in enumerate(list_a):\n",
    "    print(i,c)\n",
    "# while - 조건\n",
    "while len(list_a) > 1:\n",
    "    list_a.remove(list_a[-1])\n",
    "print(list_a)"
   ]
  },
  {
   "cell_type": "code",
   "execution_count": 27,
   "id": "bdd217cb",
   "metadata": {},
   "outputs": [
    {
     "name": "stdout",
     "output_type": "stream",
     "text": [
      "const\n",
      "===========\n",
      "myclass2\n",
      "===========\n",
      "dest\n"
     ]
    }
   ],
   "source": [
    "# function, class\n",
    "def myfunction1(n):\n",
    "    print('myfunction1',n)\n",
    "    return n*5\n",
    "\n",
    "class myclass:\n",
    "    def __init__(self): #construct\n",
    "        pass\n",
    "    def mymethod1(self):\n",
    "        print('mymethod1')\n",
    "class myclass2(myclass):\n",
    "    def __init__(self):\n",
    "        print('const')\n",
    "    def __del__(self):\n",
    "        print('dest')\n",
    "    def __str__(self):\n",
    "        return 'myclass2'\n",
    "    \n",
    "x = myclass2() #const\n",
    "print('===========') \n",
    "print(x) # str\n",
    "print('===========')\n",
    "del x # dest"
   ]
  },
  {
   "cell_type": "code",
   "execution_count": 32,
   "id": "7d05115b",
   "metadata": {},
   "outputs": [],
   "source": [
    "# file read\n",
    "with open('lott.csv') as f:\n",
    "    for line in f:\n",
    "        pass\n",
    "       # print(line)\n",
    "        \n",
    "# file write\n",
    "with open('test.txt','w') as f: # 'w'; mode : 'w'rite / 'r'ead, 'b'inary -> 2진형태\n",
    "    for i in range(3, 10):      # 'wb' write binary   \n",
    "        f.write('test string{}\\n'.format(i))"
   ]
  },
  {
   "cell_type": "code",
   "execution_count": 35,
   "id": "5414b07a",
   "metadata": {},
   "outputs": [
    {
     "name": "stdout",
     "output_type": "stream",
     "text": [
      "['a', 'b', 'c', 'd']\n"
     ]
    }
   ],
   "source": [
    "import pickle\n",
    "list_a = list('abcd')\n",
    "\n",
    "# write\n",
    "with open('pickle_test.pickle','wb') as f:\n",
    "    pickle.dump(list_a, f)\n",
    "    \n",
    "# read\n",
    "with open('pickle_test.pickle', 'rb') as f:\n",
    "    list_b = pickle.load(f)\n",
    "print(list_b)"
   ]
  }
 ],
 "metadata": {
  "kernelspec": {
   "display_name": "Python 3 (ipykernel)",
   "language": "python",
   "name": "python3"
  },
  "language_info": {
   "codemirror_mode": {
    "name": "ipython",
    "version": 3
   },
   "file_extension": ".py",
   "mimetype": "text/x-python",
   "name": "python",
   "nbconvert_exporter": "python",
   "pygments_lexer": "ipython3",
   "version": "3.10.9"
  }
 },
 "nbformat": 4,
 "nbformat_minor": 5
}
