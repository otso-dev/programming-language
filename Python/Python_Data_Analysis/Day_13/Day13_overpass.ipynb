{
 "cells": [
  {
   "cell_type": "markdown",
   "id": "dd199e99",
   "metadata": {},
   "source": [
    "### 전국육교정보데이터\n",
    "* 제가각 계산시 결측지 있는 샘플은 버림.\n",
    "\n",
    "- 내진설계된 육교 퍼센트\n",
    "- 안전등급별 육교갯수, 비율\n",
    "- 육교가 만들어진 연도 vs 장애인편의시설간 상관관계\n",
    "    - 연도, 장애인편의시설 갖춘 육교의 갯수/해당연도 건설 육고 갯수\n",
    "\n",
    "- 길이가 가장 긴 육교(육교연장)\n",
    "- 가장 튼튼한 육교(허용통행하중)\n",
    "- 가장 높은 육교(통행제한 높이)\n",
    "\n",
    "- 육교연장,허용통해하중,통행제한 높이에 대해 최대,최소값,평균,표준편차"
   ]
  },
  {
   "cell_type": "code",
   "execution_count": 2,
   "id": "ca62d5d5",
   "metadata": {},
   "outputs": [],
   "source": [
    "def my_split(s):\n",
    "    block_start = False\n",
    "    start_index = 0\n",
    "    ret_list=[]\n",
    "    for i, c in enumerate(s):\n",
    "        if block_start==False:\n",
    "            if c==',':\n",
    "                ret_list.append(s[start_index:i])\n",
    "                start_index=i+1\n",
    "            elif c=='\"':\n",
    "                block_start=True\n",
    "                start_index = i\n",
    "        else:\n",
    "            if c=='\"':\n",
    "                block_start=False\n",
    "    if s[-1]!=',':\n",
    "        ret_list.append(s[start_index:])\n",
    "    return ret_list\n",
    "\n",
    "def split_len(data_list):\n",
    "    len_list=[]\n",
    "    for e in data_list:\n",
    "        len_list.append(len(e))\n",
    "    print(set(len_list))\n",
    "    if len(set(len_list))>1:\n",
    "        for i in set(len_list):\n",
    "            print(i, len_list.count(i))"
   ]
  },
  {
   "cell_type": "code",
   "execution_count": 3,
   "id": "61f4af5e",
   "metadata": {},
   "outputs": [
    {
     "name": "stdout",
     "output_type": "stream",
     "text": [
      "(0, '육교명')\n",
      "(1, '도로종류')\n",
      "(2, '도로노선번호')\n",
      "(3, '도로노선명')\n",
      "(4, '소재지도로명주소')\n",
      "(5, '위도')\n",
      "(6, '경도')\n",
      "(7, '육교연장')\n",
      "(8, '육교높이')\n",
      "(9, '허용통행하중')\n",
      "(10, '통행제한높이')\n",
      "(11, '육교폭')\n",
      "(12, '난간높이')\n",
      "(13, '조명개수')\n",
      "(14, '장애인편의시설설치여부')\n",
      "(15, '장애인편의시설종류')\n",
      "(16, '장애인편의시설수량')\n",
      "(17, '부대시설종류')\n",
      "(18, '부대시설수량')\n",
      "(19, '육교준공일자')\n",
      "(20, '내진설계적용여부')\n",
      "(21, '안전등급')\n",
      "(22, '사용제한구분')\n",
      "(23, '육교보수보강내역')\n",
      "(24, '최종안전점검유형')\n",
      "(25, '최종안전점검일자')\n",
      "(26, '관리기관명')\n",
      "(27, '데이터기준일자')\n",
      "(28, '제공기관코드')\n",
      "(29, '제공기관명')\n"
     ]
    }
   ],
   "source": [
    "import numpy as np\n",
    "import matplotlib.pyplot as plt\n",
    "\n",
    "csv_data = []\n",
    "with open('전국육교정보표준데이터.csv') as f:\n",
    "    for line in f:\n",
    "        csv_data.append(my_split(line[:-1]))\n",
    "np_data = np.array(csv_data)\n",
    "for e in enumerate(np_data[0]):\n",
    "    print(e)"
   ]
  },
  {
   "cell_type": "code",
   "execution_count": 4,
   "id": "33bba29c",
   "metadata": {},
   "outputs": [
    {
     "name": "stdout",
     "output_type": "stream",
     "text": [
      "['N' 'Y']\n",
      "N의 비율: 81.07476635514018\n",
      "Y의 비율: 18.925233644859812\n"
     ]
    }
   ],
   "source": [
    "pass1 = np_data[20:,20]\n",
    "pass1_filter = pass1[:] !=' '\n",
    "pass2 = pass1[pass1_filter]\n",
    "key,value = np.unique(pass2,return_counts = True)\n",
    "print(key)\n",
    "print('N의 비율:',value[0]/len(pass2)*100)\n",
    "print('Y의 비율:',value[1]/len(pass2)*100)"
   ]
  },
  {
   "cell_type": "code",
   "execution_count": 5,
   "id": "7ff209d2",
   "metadata": {},
   "outputs": [
    {
     "name": "stdout",
     "output_type": "stream",
     "text": [
      "['미흡' '보통' '불량' '양호' '우수']\n",
      "미흡 25 비율:  2.0868113522537564\n",
      "보통 384 비율:  32.053422370617696\n",
      "불량 1 비율:  0.08347245409015025\n",
      "양호 781 비율:  65.19198664440734\n",
      "우수 7 비율:  0.5843071786310517\n"
     ]
    }
   ],
   "source": [
    "pass1 = np_data[21:,21]\n",
    "pass1_filter = pass1[:] != ' '\n",
    "pass2 = pass1[pass1_filter]\n",
    "key,value = np.unique(pass2,return_counts=True)\n",
    "print(key)\n",
    "print(key[0],value[0],'비율: ',value[0]/len(pass2)*100)\n",
    "print(key[1],value[1],'비율: ',value[1]/len(pass2)*100)\n",
    "print(key[2],value[2],'비율: ',value[2]/len(pass2)*100)\n",
    "print(key[3],value[3],'비율: ',value[3]/len(pass2)*100)\n",
    "print(key[4],value[4],'비율: ',value[4]/len(pass2)*100)"
   ]
  },
  {
   "cell_type": "code",
   "execution_count": 15,
   "id": "3ffe7c09",
   "metadata": {},
   "outputs": [
    {
     "data": {
      "text/plain": [
       "array(['108', '48', '60', ..., '32.4', '53.5', '121.5'], dtype='<U61')"
      ]
     },
     "execution_count": 15,
     "metadata": {},
     "output_type": "execute_result"
    }
   ],
   "source": [
    "# 7 9 10\n",
    "pass1 = np_data[7:,7]\n",
    "pass2 = np_data[9:,9]\n",
    "pass3 = np_data[10:10]\n",
    "filter1 = pass1[:] != ' '\n",
    "filter2 = pass2[:] != ' '\n",
    "filter3 = pass3[:] != ' '\n",
    "pass1_filter = pass1[filter1]\n",
    "pass2_filter = pass2[filter2]\n",
    "pass3_filter = pass3[filter3]\n",
    "try:\n",
    "    pass1_filter.astype(np.int64)\n",
    "except:\n",
    "    pass\n",
    "\n",
    "pass1_filter"
   ]
  }
 ],
 "metadata": {
  "kernelspec": {
   "display_name": "Python 3 (ipykernel)",
   "language": "python",
   "name": "python3"
  },
  "language_info": {
   "codemirror_mode": {
    "name": "ipython",
    "version": 3
   },
   "file_extension": ".py",
   "mimetype": "text/x-python",
   "name": "python",
   "nbconvert_exporter": "python",
   "pygments_lexer": "ipython3",
   "version": "3.10.9"
  }
 },
 "nbformat": 4,
 "nbformat_minor": 5
}
