{
 "cells": [
  {
   "cell_type": "code",
   "execution_count": 4,
   "id": "12be4fed",
   "metadata": {},
   "outputs": [],
   "source": [
    "import numpy as np"
   ]
  },
  {
   "cell_type": "code",
   "execution_count": 9,
   "id": "313777f2",
   "metadata": {},
   "outputs": [
    {
     "name": "stdout",
     "output_type": "stream",
     "text": [
      "[1, 2, 3, 4, 5]\n",
      "[1 2 3 4 5]\n",
      "<class 'numpy.ndarray'>\n"
     ]
    }
   ],
   "source": [
    "a1 = np.array([1,2,3,4,5])\n",
    "print([1,2,3,4,5])\n",
    "print(a1)\n",
    "print(type(a1))"
   ]
  },
  {
   "cell_type": "code",
   "execution_count": 13,
   "id": "af64dc21",
   "metadata": {},
   "outputs": [
    {
     "name": "stdout",
     "output_type": "stream",
     "text": [
      "[0 1 2 3 4 5 6 7 8 9]\n"
     ]
    }
   ],
   "source": [
    "a2 = np.arange(10)\n",
    "print(a2)"
   ]
  },
  {
   "cell_type": "code",
   "execution_count": 19,
   "id": "3f6f7400",
   "metadata": {},
   "outputs": [
    {
     "name": "stdout",
     "output_type": "stream",
     "text": [
      "[ 0  3  6  9 12 15 18 21 24 27 30 33 36 39 42 45 48 51 54 57 60 63 66 69\n",
      " 72 75 78 81 84 87 90 93 96 99]\n",
      "[1.3 1.8 2.3 2.8 3.3 3.8 4.3 4.8 5.3 5.8 6.3 6.8 7.3 7.8 8.3 8.8 9.3 9.8]\n"
     ]
    }
   ],
   "source": [
    "# 100 아래의 3의 배수\n",
    "a3 = np.arange(0,100,3)\n",
    "print(a3)\n",
    "\n",
    "# 1에서부터 10아래 0.5씩 증가하는 숫자. stop = 0.5 -> numpy는 소수점이 되지만 그냥 python에서는 불가능\n",
    "a4 = np.arange(1.3,10,0.5)\n",
    "print(a4)"
   ]
  },
  {
   "cell_type": "code",
   "execution_count": 20,
   "id": "009dea10",
   "metadata": {},
   "outputs": [
    {
     "name": "stdout",
     "output_type": "stream",
     "text": [
      "[ 0.  5. 10.]\n"
     ]
    }
   ],
   "source": [
    "a5 = np.linspace(0,10,3) # 시작 과 끝 사이의 n개의 숫자를 주는 함수\n",
    "print(a5)"
   ]
  },
  {
   "cell_type": "code",
   "execution_count": 24,
   "id": "8a42cd26",
   "metadata": {},
   "outputs": [
    {
     "name": "stdout",
     "output_type": "stream",
     "text": [
      "[0. 0. 0. 0. 0.]\n",
      "[1 1 1 1 1]\n"
     ]
    },
    {
     "data": {
      "text/plain": [
       "array([1., 1., 1., 1., 1.])"
      ]
     },
     "execution_count": 24,
     "metadata": {},
     "output_type": "execute_result"
    }
   ],
   "source": [
    "a6 = np.zeros(5)\n",
    "print(a6)\n",
    "\n",
    "a7 = np.ones(5, dtype = np.int64) # datatype을 바꾸는 것\n",
    "print(a7)\n",
    "a7.astype(np.float64) # 만들어진 것을 datatpye을 바꿀때\n",
    "# array안에 있는 datatype은 list와 달리 똑같은 type만 들어가야한다."
   ]
  },
  {
   "cell_type": "code",
   "execution_count": 28,
   "id": "b72f2f96",
   "metadata": {},
   "outputs": [
    {
     "name": "stdout",
     "output_type": "stream",
     "text": [
      "[1.  2.  3.5 4.2]\n",
      "['1' '2' 'abc' 'def']\n"
     ]
    },
    {
     "ename": "ValueError",
     "evalue": "invalid literal for int() with base 10: 'abc'",
     "output_type": "error",
     "traceback": [
      "\u001b[1;31m---------------------------------------------------------------------------\u001b[0m",
      "\u001b[1;31mValueError\u001b[0m                                Traceback (most recent call last)",
      "Cell \u001b[1;32mIn[28], line 7\u001b[0m\n\u001b[0;32m      5\u001b[0m a9 \u001b[38;5;241m=\u001b[39m np\u001b[38;5;241m.\u001b[39marray(listb)\n\u001b[0;32m      6\u001b[0m \u001b[38;5;28mprint\u001b[39m(a9)\n\u001b[1;32m----> 7\u001b[0m \u001b[43ma9\u001b[49m\u001b[38;5;241;43m.\u001b[39;49m\u001b[43mastype\u001b[49m\u001b[43m(\u001b[49m\u001b[43mnp\u001b[49m\u001b[38;5;241;43m.\u001b[39;49m\u001b[43mint64\u001b[49m\u001b[43m)\u001b[49m\n",
      "\u001b[1;31mValueError\u001b[0m: invalid literal for int() with base 10: 'abc'"
     ]
    }
   ],
   "source": [
    "lista = [1,2,3.5,4.2]\n",
    "a8 = np.array(lista)\n",
    "print(a8)\n",
    "listb = [1,2,'abc','def']\n",
    "a9 = np.array(listb)\n",
    "print(a9)\n",
    "#a9.astype(np.int64)"
   ]
  },
  {
   "cell_type": "code",
   "execution_count": 37,
   "id": "35f8ffcf",
   "metadata": {},
   "outputs": [
    {
     "name": "stdout",
     "output_type": "stream",
     "text": [
      "float64\n",
      "1\n",
      "(4,)\n",
      "4\n",
      "8\n",
      "<memory at 0x00000271FBAC9900>\n"
     ]
    }
   ],
   "source": [
    "# numpy는 for문을 알아서 써주는 method가 많다.\n",
    "print(a8.dtype)\n",
    "print(a8.ndim) # 몇차원의 array인지 알려주는 method\n",
    "print(a8.shape) # array의 차원마다 모양(길이)를 알려주는 method tuple형태로 반환함\n",
    "print(a8.size) # array안의 모든 데이터 갯수를 알려주는 method\n",
    "\n",
    "print(a8.itemsize) #array의 datatype의 size를 알려주는 method\n",
    "print(a8.data) # array의 메모리위치를 알려줌"
   ]
  },
  {
   "cell_type": "code",
   "execution_count": 46,
   "id": "f79619ef",
   "metadata": {},
   "outputs": [
    {
     "name": "stdout",
     "output_type": "stream",
     "text": [
      "[10 15 20 25 30 35 40 45 50 55 60 65 70 75 80 85 90 95]\n",
      "20\n",
      "[35 40 45 50 55 60 65 70 75 80 85 90 95]\n",
      "[10 15 20]\n",
      "[40 50 60 70 80 90]\n"
     ]
    }
   ],
   "source": [
    "a10 = np.arange(10,100,5)\n",
    "print(a10)\n",
    "# 특정index\n",
    "print(a10[2])\n",
    "# start , stop\n",
    "print(a10[5:])\n",
    "print(a10[0:3])\n",
    "# start, stop, step\n",
    "print(a10[6:20:2])"
   ]
  },
  {
   "cell_type": "code",
   "execution_count": 49,
   "id": "cdc69c49",
   "metadata": {},
   "outputs": [
    {
     "name": "stdout",
     "output_type": "stream",
     "text": [
      "[10 15 20 25 30 35 40 45 50 55 60 65 70 75 80 85 90 95]\n",
      "[15 25 45]\n"
     ]
    }
   ],
   "source": [
    "a10 = np.arange(10,100,5)\n",
    "print(a10)\n",
    "print(a10[[1,3,7]]) # numpy는 index의 값을 이용해 list로 받을 수 있음\n",
    "\n",
    "# list10 = [x for x in range(10,100,5)]\n",
    "# print(list10)\n",
    "#print(list10[[1,2,3]]) -> list는 못함\n"
   ]
  },
  {
   "cell_type": "code",
   "execution_count": 53,
   "id": "f8f7a920",
   "metadata": {},
   "outputs": [
    {
     "name": "stdout",
     "output_type": "stream",
     "text": [
      "[10 15 20 25 30 35 40 45 50 55 60 65 70 75 80 85 90 95]\n",
      "[15 25 35 45 55 65 75 85 95]\n",
      "[False  True False  True False  True False  True False  True False  True\n",
      " False  True False  True False  True]\n",
      "(18,)\n",
      "(18,)\n",
      "[15 25 35 45 55 65 75 85 95]\n"
     ]
    }
   ],
   "source": [
    "a10 = np.arange(10,100,5)\n",
    "print(a10)\n",
    "print(a10[a10 % 10 == 5]) # 조건식을 줄 수 도 있다. 해당 조건에 맞는 index를 list로 반환함\n",
    "\n",
    "x = (a10 % 10 == 5)\n",
    "print(x)\n",
    "print(x.shape)\n",
    "print(a10.shape)\n",
    "print(a10[x])"
   ]
  },
  {
   "cell_type": "code",
   "execution_count": 60,
   "id": "04c22e9e",
   "metadata": {
    "scrolled": true
   },
   "outputs": [
    {
     "name": "stdout",
     "output_type": "stream",
     "text": [
      "[0, 1, 2, 3, 4]\n",
      "[10, 11, 12, 13, 14]\n",
      "[0, 1, 2, 3, 4, 10, 11, 12, 13, 14]\n"
     ]
    },
    {
     "ename": "TypeError",
     "evalue": "unsupported operand type(s) for -: 'list' and 'list'",
     "output_type": "error",
     "traceback": [
      "\u001b[1;31m---------------------------------------------------------------------------\u001b[0m",
      "\u001b[1;31mTypeError\u001b[0m                                 Traceback (most recent call last)",
      "Cell \u001b[1;32mIn[60], line 6\u001b[0m\n\u001b[0;32m      4\u001b[0m \u001b[38;5;28mprint\u001b[39m(listb)\n\u001b[0;32m      5\u001b[0m \u001b[38;5;28mprint\u001b[39m(lista\u001b[38;5;241m+\u001b[39mlistb)\n\u001b[1;32m----> 6\u001b[0m \u001b[38;5;28mprint\u001b[39m(\u001b[43mlista\u001b[49m\u001b[38;5;241;43m-\u001b[39;49m\u001b[43mlistb\u001b[49m)\n",
      "\u001b[1;31mTypeError\u001b[0m: unsupported operand type(s) for -: 'list' and 'list'"
     ]
    }
   ],
   "source": [
    "lista = [x for x in range(5)]\n",
    "listb = [x for x in range(10,15)]\n",
    "print(lista)\n",
    "print(listb)\n",
    "print(lista+listb)\n",
    "print(lista-listb)"
   ]
  },
  {
   "cell_type": "code",
   "execution_count": 66,
   "id": "ec127c9c",
   "metadata": {},
   "outputs": [
    {
     "name": "stdout",
     "output_type": "stream",
     "text": [
      "[0 1 2 3 4]\n",
      "[10 11 12 13 14]\n",
      "[ 0  1  2  3  4 10 11 12 13 14]\n",
      "sum [10 12 14 16 18]\n",
      "sub [-10 -10 -10 -10 -10]\n",
      "mul [ 0 11 24 39 56]\n",
      "div [0.         0.09090909 0.16666667 0.23076923 0.28571429]\n"
     ]
    }
   ],
   "source": [
    "a1 = np.arange(5)\n",
    "a2 = np.arange(10,15)\n",
    "print(a1)\n",
    "print(a2)\n",
    "print(np.concatenate((a1,a2))) #2개의 array를 합칠 때\n",
    "print('sum',a1+a2) # python list와 달리 array + 는 각 요소를 더해서 반환한다.(사칙연산 가능) -> 두개이상의 array를 사칙연산을 할려면 size가 같아야한다.\n",
    "print('sub',a1-a2)\n",
    "print('mul',a1*a2)\n",
    "print('div',a1/a2)\n"
   ]
  }
 ],
 "metadata": {
  "kernelspec": {
   "display_name": "Python 3 (ipykernel)",
   "language": "python",
   "name": "python3"
  },
  "language_info": {
   "codemirror_mode": {
    "name": "ipython",
    "version": 3
   },
   "file_extension": ".py",
   "mimetype": "text/x-python",
   "name": "python",
   "nbconvert_exporter": "python",
   "pygments_lexer": "ipython3",
   "version": "3.10.9"
  }
 },
 "nbformat": 4,
 "nbformat_minor": 5
}
