{
 "cells": [
  {
   "cell_type": "code",
   "execution_count": 1,
   "id": "5f0f88a0",
   "metadata": {},
   "outputs": [
    {
     "name": "stdout",
     "output_type": "stream",
     "text": [
      "15.132745950421556\n",
      "x 2 4\n",
      "y 15 225\n",
      "15.132745950421556\n",
      "15.132745950421556\n"
     ]
    }
   ],
   "source": [
    "import numpy as np\n",
    "import math\n",
    "x1 = 3\n",
    "y1 = 10\n",
    "x2 = 5\n",
    "y2 = 25\n",
    "a = math.sqrt((x2-x1)**2 + (y2-y1)**2)\n",
    "print(a)\n",
    "def dist(p1,p2):\n",
    "    print('x',(p2[0]-p1[0]),(p2[0]-p1[0])**2)\n",
    "    print('y',((p2[1]-p1[1])),(p2[1]-p1[1])**2)\n",
    "    return math.sqrt((p2[0]-p1[0])**2 + (p2[1]-p1[1])**2)\n",
    "b = dist([x1,y1],[x2,y2])\n",
    "print(b)\n",
    "def dist_np(p1,p2): \n",
    "    return math.sqrt(sum((p2-p1) **2))\n",
    "c = dist_np(np.array([x1,y1]),np.array([x2,y2]))\n",
    "print(c)\n",
    "def my_split(s):\n",
    "    block_start = False\n",
    "    start_index = 0\n",
    "    ret_list=[]\n",
    "    for i, c in enumerate(s):\n",
    "        if block_start==False:\n",
    "            if c==',':\n",
    "                ret_list.append(s[start_index:i])\n",
    "                start_index=i+1\n",
    "            elif c=='\"':\n",
    "                block_start=True\n",
    "                start_index = i\n",
    "        else:\n",
    "            if c=='\"':\n",
    "                block_start=False\n",
    "    if s[-1]!=',':\n",
    "        ret_list.append(s[start_index:])\n",
    "    return ret_list\n",
    "        "
   ]
  },
  {
   "cell_type": "code",
   "execution_count": 41,
   "id": "d5faadac",
   "metadata": {},
   "outputs": [
    {
     "name": "stdout",
     "output_type": "stream",
     "text": [
      "0\n"
     ]
    }
   ],
   "source": [
    "csv_data = []\n",
    "with open ('전국자동차정비업체표준데이터.csv') as f:\n",
    "    for line in f:\n",
    "        csv_data.append(my_split(line))\n",
    "pass1 = []\n",
    "pass2 = []\n",
    "print(csv_data[0].index('자동차정비업체명'))\n",
    "for i in csv_data[1:]:\n",
    "    pass1.append(i[4:6])\n",
    "    pass2.append(i[0])\n",
    "\n",
    "for e in pass1:\n",
    "    for i , n in enumerate(e):\n",
    "        try:\n",
    "            e[i] = float(n)\n",
    "        except:\n",
    "            e[i] = 0.0\n",
    "\n",
    "p1 = [35.1531,129.0596]\n",
    "dist_list = []\n",
    "for i in range(len(pass1)):\n",
    "    dist_list.append(dist_np(np.array(p1),np.array(pass1[i])))"
   ]
  },
  {
   "cell_type": "code",
   "execution_count": 44,
   "id": "6af42332",
   "metadata": {},
   "outputs": [
    {
     "name": "stdout",
     "output_type": "stream",
     "text": [
      "[[0, 1.7905025454917363], [1, 2.393287976605315], [2, 2.129419351921983]]\n"
     ]
    }
   ],
   "source": [
    "index_list = []\n",
    "for i , n in enumerate(dist_list):\n",
    "    index_list.append([i,n])\n",
    "#print(index_list[:3])"
   ]
  }
 ],
 "metadata": {
  "kernelspec": {
   "display_name": "Python 3 (ipykernel)",
   "language": "python",
   "name": "python3"
  },
  "language_info": {
   "codemirror_mode": {
    "name": "ipython",
    "version": 3
   },
   "file_extension": ".py",
   "mimetype": "text/x-python",
   "name": "python",
   "nbconvert_exporter": "python",
   "pygments_lexer": "ipython3",
   "version": "3.10.9"
  }
 },
 "nbformat": 4,
 "nbformat_minor": 5
}
