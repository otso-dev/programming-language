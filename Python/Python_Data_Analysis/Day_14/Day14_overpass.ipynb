{
 "cells": [
  {
   "cell_type": "markdown",
   "id": "a03adb57",
   "metadata": {},
   "source": [
    "### 전국육교정보데이터\n",
    "* 제가각 계산시 결측지 있는 샘플은 버림.\n",
    "\n",
    "- 내진설계된 육교 퍼센트\n",
    "- 안전등급별 육교갯수, 비율\n",
    "- 육교가 만들어진 연도 vs 장애인편의시설간 상관관계\n",
    "    - 연도, 장애인편의시설 갖춘 육교의 갯수/해당연도 건설 육고 갯수\n",
    "\n",
    "- 길이가 가장 긴 육교(육교연장)\n",
    "- 가장 튼튼한 육교(허용통행하중)\n",
    "- 가장 높은 육교(통행제한 높이)\n",
    "\n",
    "- 육교연장,허용통해하중,통행제한 높이에 대해 최대,최소값,평균,표준편차"
   ]
  },
  {
   "cell_type": "code",
   "execution_count": 2,
   "id": "4702eeae",
   "metadata": {},
   "outputs": [],
   "source": [
    "import numpy as np\n",
    "import matplotlib.pyplot as plt\n",
    "\n",
    "def my_split(s):\n",
    "    block_start = False\n",
    "    start_index = 0\n",
    "    ret_list=[]\n",
    "    for i, c in enumerate(s):\n",
    "        if block_start==False:\n",
    "            if c==',':\n",
    "                ret_list.append(s[start_index:i])\n",
    "                start_index=i+1\n",
    "            elif c=='\"':\n",
    "                block_start=True\n",
    "                start_index = i\n",
    "        else:\n",
    "            if c=='\"':\n",
    "                block_start=False\n",
    "    if s[-1]!=',':\n",
    "        ret_list.append(s[start_index:])\n",
    "    return ret_list\n",
    "\n",
    "def split_len(data_list):\n",
    "    len_list=[]\n",
    "    for e in data_list:\n",
    "        len_list.append(len(e))\n",
    "    print(set(len_list))\n",
    "    if len(set(len_list))>1:\n",
    "        for i in set(len_list):\n",
    "            print(i, len_list.count(i))\n",
    "    return set(len_list)"
   ]
  },
  {
   "cell_type": "code",
   "execution_count": 9,
   "id": "4fdf6e70",
   "metadata": {},
   "outputs": [
    {
     "name": "stdout",
     "output_type": "stream",
     "text": [
      "(0, '육교명')\n",
      "(1, '도로종류')\n",
      "(2, '도로노선번호')\n",
      "(3, '도로노선명')\n",
      "(4, '소재지도로명주소')\n",
      "(5, '위도')\n",
      "(6, '경도')\n",
      "(7, '육교연장')\n",
      "(8, '육교높이')\n",
      "(9, '허용통행하중')\n",
      "(10, '통행제한높이')\n",
      "(11, '육교폭')\n",
      "(12, '난간높이')\n",
      "(13, '조명개수')\n",
      "(14, '장애인편의시설설치여부')\n",
      "(15, '장애인편의시설종류')\n",
      "(16, '장애인편의시설수량')\n",
      "(17, '부대시설종류')\n",
      "(18, '부대시설수량')\n",
      "(19, '육교준공일자')\n",
      "(20, '내진설계적용여부')\n",
      "(21, '안전등급')\n",
      "(22, '사용제한구분')\n",
      "(23, '육교보수보강내역')\n",
      "(24, '최종안전점검유형')\n",
      "(25, '최종안전점검일자')\n",
      "(26, '관리기관명')\n",
      "(27, '데이터기준일자')\n",
      "(28, '제공기관코드')\n",
      "(29, '제공기관명')\n",
      "(1219, 30)\n"
     ]
    }
   ],
   "source": [
    "csv_data = []\n",
    "with open('전국육교정보표준데이터.csv') as f:\n",
    "    for line in f:\n",
    "        csv_data.append(my_split(line[:-1]))\n",
    "#print(csv_data[:3])\n",
    "#split_len(csv_data)\n",
    "for e in enumerate(csv_data[0]):\n",
    "    print(e)\n",
    "np_data = np.array(csv_data)\n",
    "print(np_data.shape)"
   ]
  },
  {
   "cell_type": "code",
   "execution_count": 24,
   "id": "d14daa34",
   "metadata": {},
   "outputs": [
    {
     "name": "stdout",
     "output_type": "stream",
     "text": [
      "[' ' 'N' 'Y'] [357 695 166]\n",
      "[80.72009292 19.27990708]\n",
      "['N' 'Y'] [695 166]\n",
      "[80.72009292 19.27990708]\n"
     ]
    }
   ],
   "source": [
    "# 내진설계\n",
    "sub_data = np_data[1:,20]\n",
    "#print(sub_data[:3])\n",
    "\n",
    "val,cnt=np.unique(sub_data,return_counts = True)\n",
    "print(val,count)\n",
    "print((cnt[1:]*100)/np.sum(cnt[1:]))\n",
    "\n",
    "filter1 = sub_data!=' '\n",
    "sub_data_f = sub_data[filter1]\n",
    "val,cnt = np.unique(sub_data_f,return_counts = True)\n",
    "print(val,cnt)\n",
    "print(cnt*100/np.sum(cnt))\n"
   ]
  },
  {
   "cell_type": "code",
   "execution_count": 45,
   "id": "c26fe34a",
   "metadata": {},
   "outputs": [
    {
     "name": "stdout",
     "output_type": "stream",
     "text": [
      "['미흡' '보통' '불량' '양호' '우수'] [ 25 390   1 795   7]\n"
     ]
    },
    {
     "data": {
      "text/plain": [
       "array([['갈평 보도육교', '기타', '경부선', '경부선', '경기도 평택시 서정동 432-3',\n",
       "        '37.05929603', '127.0533613', '50', '', '', '8.5', '2.3', '', '',\n",
       "        'N', '없음', '', '없음', '', '', 'N', '불량', '사용제한', '', '정밀점검',\n",
       "        '2020-12-30', '경기도 평택시', '2022-06-13', '3910000', '경기도 평택시']],\n",
       "      dtype='<U61')"
      ]
     },
     "execution_count": 45,
     "metadata": {},
     "output_type": "execute_result"
    }
   ],
   "source": [
    "# 안전등급별 육교 갯수\n",
    "sub_data = np_data[1:, 21]\n",
    "filter1 = np_data[:,21] == '불량'\n",
    "val,cnt = np.unique(sub_data,return_counts = True)\n",
    "print(val,cnt)\n",
    "val2 = np.expand_dims(val,1)\n",
    "cnt2 = cnt[:,np.newaxis]\n",
    "cnt_percent = cnt*100/np.sum(cnt)\n",
    "cnt_percent2 = np.expand_dims(cnt_percent,1)\n",
    "np.concatenate((val2,cnt2,cnt_percent2),1)\n",
    "\n",
    "np_data[filter1]"
   ]
  },
  {
   "cell_type": "code",
   "execution_count": 67,
   "id": "bc0260dc",
   "metadata": {},
   "outputs": [
    {
     "name": "stdout",
     "output_type": "stream",
     "text": [
      "['육교연장' '육교높이' '허용통행하중' '통행제한높이']\n",
      "*** 육교연장\n",
      "최소 5.3\n",
      "최대 693.6\n",
      "평균 50.67291845493562\n",
      "표준편차 40.366545219300704\n",
      "*** 육교높이\n",
      "최소 0.6\n",
      "최대 150.0\n",
      "평균 9.39847870967742\n",
      "표준편차 16.43855274916153\n",
      "*** 허용통행하중\n",
      "최소 0.34\n",
      "최대 225.0\n",
      "평균 7.741186915887851\n",
      "표준편차 21.923480558452354\n",
      "*** 통행제한높이\n",
      "최소 1.4\n",
      "최대 50.0\n",
      "평균 4.913341750841751\n",
      "표준편차 2.3497046582175938\n"
     ]
    },
    {
     "data": {
      "text/plain": [
       "array([['안곡육교', '기타', '', '중산로', '경기도 고양시 일산동구 중산로 147-1', '37.685252',\n",
       "        '126.7808247', '150', '150', '', '4.5', '4.9', '', '', 'Y',\n",
       "        '경사로', '1', '없음', '', '2006-05-29', 'N', '양호', '제한없음', '',\n",
       "        '정기점검', '2022-05-16', '경기도 고양시청', '2022-11-10', '3940000',\n",
       "        '경기도 고양시']], dtype='<U61')"
      ]
     },
     "execution_count": 67,
     "metadata": {},
     "output_type": "execute_result"
    }
   ],
   "source": [
    "# 육교연장,허용통행하중,통행제한높이: 최소,최대,평균,표준편차\n",
    "#sub_data = np_data[:,7:11]\n",
    "print(np_data[0,7:11])\n",
    "for i in range(7,11):\n",
    "    print('***',np_data[0,i])\n",
    "    sub_data = np_data[1:,i]\n",
    "    filter1 = (sub_data!='') & (sub_data!='0') & (sub_data!='0.0')\n",
    "    #print(np.unique(sub_data[filter1]))\n",
    "    sub_data_f = sub_data[filter1].astype(np.float64)\n",
    "    #print(sub_data_f)\n",
    "    print('최소',np.min(sub_data_f))\n",
    "    print('최대',np.max(sub_data_f))\n",
    "    print('평균',np.mean(sub_data_f))\n",
    "    print('표준편차',np.std(sub_data_f))\n",
    "    \n",
    "filter2 = (np_data[:,8] == '150.0') | (np_data[:,8]=='150')\n",
    "np_data[filter2]"
   ]
  },
  {
   "cell_type": "code",
   "execution_count": 77,
   "id": "f33e2f9c",
   "metadata": {},
   "outputs": [
    {
     "name": "stdout",
     "output_type": "stream",
     "text": [
      "['1968-N' '1970-N' '1970-Y' '1971-N' '1972-N' '1974-Y' '1976-N' '1977-N'\n",
      " '1977-Y' '1978-Y' '1980-N' '1980-Y' '1982-N' '1983-N' '1984-N' '1986-Y'\n",
      " '1987-N' '1987-Y' '1988-N' '1988-Y' '1989-N' '1989-Y' '1990-N' '1991-N'\n",
      " '1991-Y' '1992-N' '1992-Y' '1993-N' '1993-Y' '1994-N' '1994-Y' '1995-N'\n",
      " '1995-Y' '1996-N' '1996-Y' '1997-N' '1997-Y' '1998-N' '1998-Y' '1999-N'\n",
      " '1999-Y' '2000-N' '2000-Y' '2001-N' '2001-Y' '2002-N' '2002-Y' '2003-N'\n",
      " '2003-Y' '2004-N' '2004-Y' '2005-N' '2005-Y' '2006-N' '2006-Y' '2007-N'\n",
      " '2007-Y' '2008-N' '2008-Y' '2009-N' '2009-Y' '2010-N' '2010-Y' '2011-N'\n",
      " '2011-Y' '2012-N' '2012-Y' '2013-Y' '2014-N' '2014-Y' '2015-N' '2015-Y'\n",
      " '2016-N' '2016-Y' '2017-Y' '2018-N' '2018-Y' '2019-Y' '2020-N' '2020-Y'\n",
      " '2021-Y' '2022-Y'] [ 1  1  1  2  1  1  1  2  1  1  3  1  2  1  3  8  3  2  4  3  3  4  4  8\n",
      "  2 28 19 26 21 16 11 16  7 33 17 29 24 29 15 14  9  8 10 13 13  8 14 11\n",
      " 17  9 17  6 21  7 26  6 18  8 28 16 29 10 18  6 16  8 23  9  6  7  2  9\n",
      "  4 15  4  3  7  3  1  5  1  3]\n"
     ]
    }
   ],
   "source": [
    "# 준공연도별과 장애인편의 시설 여부의 상관관계\n",
    "sub_data = np_data[1:,[14,19]]\n",
    "#print(sub_data)\n",
    "#np.unique(sub_data[:,0])\n",
    "#np.unique(sub_data[:,1]) 결측치 찾기\n",
    "filter1 = sub_data[:,1]!=''\n",
    "sub_data = sub_data[filter1]\n",
    "\n",
    "year_yn = []\n",
    "for yn,ymd in sub_data:\n",
    "    yr = ymd.split('-')[0]\n",
    "    year_yn.append(yr+'-'+yn)\n",
    "    #print(yn,ymd)\n",
    "#print(year_yn)\n",
    "year_yn = np.array(year_yn)\n",
    "val,cnt = np.unique(year_yn,return_counts=True)\n",
    "print(val,cnt)"
   ]
  },
  {
   "cell_type": "markdown",
   "id": "d7c6888c",
   "metadata": {},
   "source": [
    "- 방법  \n",
    "### pass1\n",
    "{\n",
    "    year: [y,n,....]\n",
    "}\n",
    "### pass2\n",
    "[\n",
    "    [year,y_count,ratio]\n",
    "]"
   ]
  },
  {
   "cell_type": "code",
   "execution_count": 89,
   "id": "a77322c1",
   "metadata": {},
   "outputs": [
    {
     "name": "stdout",
     "output_type": "stream",
     "text": [
      "[[1968.       0.       0.   ]\n",
      " [1970.       1.      50.   ]\n",
      " [1971.       0.       0.   ]\n",
      " [1972.       0.       0.   ]\n",
      " [1974.       1.     100.   ]\n",
      " [1976.       0.       0.   ]\n",
      " [1977.       1.      33.333]\n",
      " [1978.       1.     100.   ]\n",
      " [1980.       1.      25.   ]\n",
      " [1982.       0.       0.   ]\n",
      " [1983.       0.       0.   ]\n",
      " [1984.       0.       0.   ]\n",
      " [1986.       8.     100.   ]\n",
      " [1987.       2.      40.   ]\n",
      " [1988.       3.      42.857]\n",
      " [1989.       4.      57.143]\n",
      " [1990.       0.       0.   ]\n",
      " [1991.       2.      20.   ]\n",
      " [1992.      19.      40.426]\n",
      " [1993.      21.      44.681]\n",
      " [1994.      11.      40.741]\n",
      " [1995.       7.      30.435]\n",
      " [1996.      17.      34.   ]\n",
      " [1997.      24.      45.283]\n",
      " [1998.      15.      34.091]\n",
      " [1999.       9.      39.13 ]\n",
      " [2000.      10.      55.556]\n",
      " [2001.      13.      50.   ]\n",
      " [2002.      14.      63.636]\n",
      " [2003.      17.      60.714]\n",
      " [2004.      17.      65.385]\n",
      " [2005.      21.      77.778]\n",
      " [2006.      26.      78.788]\n",
      " [2007.      18.      75.   ]\n",
      " [2008.      28.      77.778]\n",
      " [2009.      29.      64.444]\n",
      " [2010.      18.      64.286]\n",
      " [2011.      16.      72.727]\n",
      " [2012.      23.      74.194]\n",
      " [2013.       9.     100.   ]\n",
      " [2014.       7.      53.846]\n",
      " [2015.       9.      81.818]\n",
      " [2016.      15.      78.947]\n",
      " [2017.       4.     100.   ]\n",
      " [2018.       7.      70.   ]\n",
      " [2019.       3.     100.   ]\n",
      " [2020.       5.      83.333]\n",
      " [2021.       1.     100.   ]\n",
      " [2022.       3.     100.   ]]\n"
     ]
    }
   ],
   "source": [
    "sub_data = np_data[1:,[14,19]]\n",
    "filter1 = sub_data[:,1]!=''\n",
    "sub_data = sub_data[filter1]\n",
    "\n",
    "pass1 = dict()\n",
    "for yn,ymd in sub_data:\n",
    "    yr = ymd.split('-')[0]\n",
    "    if yr in pass1.keys():\n",
    "        pass1[yr].append(yn)\n",
    "    else:\n",
    "        pass1[yr] = [yn]\n",
    "        \n",
    "#print(pass1)\n",
    "\n",
    "pass2 = []\n",
    "for yr in pass1:      #dict 순환시 key값으로 순환이 된다.\n",
    "    val, cnt = np.unique(pass1[yr],return_counts=True)\n",
    "    y, ratio = 0, 0\n",
    "    if 'Y' in val:\n",
    "        y = cnt[val == 'Y']\n",
    "    ratio = y*100/np.sum(cnt)\n",
    "    pass2.append((int(yr),int(y),float(ratio)))\n",
    "#print(pass2)\n",
    "np.set_printoptions(precision=3,suppress=True)#numpy 소수점 제거\n",
    "pass3 = sorted(pass2,key=lambda x : x[0])\n",
    "pass3 = np.array(pass3)\n",
    "print(pass3)"
   ]
  },
  {
   "cell_type": "code",
   "execution_count": 91,
   "id": "40ee8ca6",
   "metadata": {},
   "outputs": [
    {
     "data": {
      "text/plain": [
       "[<matplotlib.lines.Line2D at 0x1caf7efaa70>]"
      ]
     },
     "execution_count": 91,
     "metadata": {},
     "output_type": "execute_result"
    },
    {
     "data": {
      "image/png": "[encoded data removed]",
      "text/plain": [
       "<Figure size 640x480 with 1 Axes>"
      ]
     },
     "metadata": {},
     "output_type": "display_data"
    }
   ],
   "source": [
    "_,axe = plt.subplots()\n",
    "axe.plot(pass3[:,0],pass3[:,2])"
   ]
  },
  {
   "cell_type": "code",
   "execution_count": 95,
   "id": "fc2b78f6",
   "metadata": {},
   "outputs": [
    {
     "name": "stdout",
     "output_type": "stream",
     "text": [
      "[[1990.       0.       0.   ]\n",
      " [1991.       2.      20.   ]\n",
      " [1992.      19.      40.426]\n",
      " [1993.      21.      44.681]\n",
      " [1994.      11.      40.741]\n",
      " [1995.       7.      30.435]\n",
      " [1996.      17.      34.   ]\n",
      " [1997.      24.      45.283]\n",
      " [1998.      15.      34.091]\n",
      " [1999.       9.      39.13 ]\n",
      " [2000.      10.      55.556]\n",
      " [2001.      13.      50.   ]\n",
      " [2002.      14.      63.636]\n",
      " [2003.      17.      60.714]\n",
      " [2004.      17.      65.385]\n",
      " [2005.      21.      77.778]\n",
      " [2006.      26.      78.788]\n",
      " [2007.      18.      75.   ]\n",
      " [2008.      28.      77.778]\n",
      " [2009.      29.      64.444]\n",
      " [2010.      18.      64.286]\n",
      " [2011.      16.      72.727]\n",
      " [2012.      23.      74.194]\n",
      " [2013.       9.     100.   ]\n",
      " [2014.       7.      53.846]\n",
      " [2015.       9.      81.818]\n",
      " [2016.      15.      78.947]\n",
      " [2017.       4.     100.   ]\n",
      " [2018.       7.      70.   ]\n",
      " [2019.       3.     100.   ]\n",
      " [2020.       5.      83.333]\n",
      " [2021.       1.     100.   ]\n",
      " [2022.       3.     100.   ]]\n",
      "[[1.    0.885]\n",
      " [0.885 1.   ]]\n"
     ]
    }
   ],
   "source": [
    "#print(pass3)\n",
    "filter1 = pass3[:,0]>=1990\n",
    "pass4 = pass3[filter1]\n",
    "print(pass4)\n",
    "print(np.corrcoef(pass4[:,0],pass4[:,2]))"
   ]
  },
  {
   "cell_type": "code",
   "execution_count": 110,
   "id": "f3e61843",
   "metadata": {},
   "outputs": [
    {
     "name": "stdout",
     "output_type": "stream",
     "text": [
      "*** 육교연장\n",
      "중앙값: 39.6\n",
      "quantile: [30.  39.6 56. ]\n",
      "iqr: 26.0\n",
      "upper: 95.0\n",
      "lower: -9.0\n"
     ]
    },
    {
     "data": {
      "text/plain": [
       "<matplotlib.collections.PathCollection at 0x1caf98964a0>"
      ]
     },
     "execution_count": 110,
     "metadata": {},
     "output_type": "execute_result"
    },
    {
     "data": {
      "image/png": "[encoded data removed]",
      "text/plain": [
       "<Figure size 640x480 with 1 Axes>"
      ]
     },
     "metadata": {},
     "output_type": "display_data"
    }
   ],
   "source": [
    "# iqr, outliers(이상치)\n",
    "#이상치 -> 값이 있지만 값이 이상한 것\n",
    "i = 7\n",
    "print('***',np_data[0,i])\n",
    "sub_data = np_data[1:,i]\n",
    "filter1 = (sub_data!='') & (sub_data!='0') & (sub_data!='0.0') # 결측치 제거\n",
    "#print(np.unique(sub_data[filter1]))\n",
    "sub_data_f = sub_data[filter1].astype(np.float64)\n",
    "\n",
    "#print(sub_data_f)\n",
    "# print('최소',np.min(sub_data_f))\n",
    "# print('최대',np.max(sub_data_f))\n",
    "# print('평균',np.mean(sub_data_f))\n",
    "# print('표준편차',np.std(sub_data_f))\n",
    "print('중앙값:',np.median(sub_data_f))\n",
    "print('quantile:',np.quantile(sub_data_f,[.25,.5,.75]))\n",
    "q25,q50,q75 = np.quantile(sub_data_f,[.25,.5,.75])\n",
    "iqr = q75 - q25\n",
    "print('iqr:',iqr)\n",
    "print('upper:',q75+1.5*iqr) # 95.0\n",
    "print('lower:',q25-1.5*iqr) # -9.0\n",
    "\n",
    "\n",
    "\n",
    "\n",
    "\n",
    "'''\n",
    "------------------q25-------------------q50------------------q75-------------------\n",
    "q25-1.5*iqr(하한선)                                               q75+1.5*iqr(상한선)\n",
    "\n",
    "'''\n",
    "\n",
    "upper = q75+1.5*iqr\n",
    "sub_data_cut = sub_data_f[sub_data_f<upper]\n",
    "val, cnt = np.unique(sub_data_cut,return_counts = True) # 육교연장 값의 분포\n",
    "\n",
    "_, axe = plt.subplots()\n",
    "axe.scatter(val,cnt)"
   ]
  },
  {
   "cell_type": "code",
   "execution_count": 116,
   "id": "180c046c",
   "metadata": {},
   "outputs": [
    {
     "name": "stdout",
     "output_type": "stream",
     "text": [
      "[  3   9  30  64 100 189 124 103 118  57  62  35  31  23  31  12  17  23\n",
      "  18  11] [ 5.3   9.76 14.22 18.68 23.14 27.6  32.06 36.52 40.98 45.44 49.9  54.36\n",
      " 58.82 63.28 67.74 72.2  76.66 81.12 85.58 90.04 94.5 ]\n"
     ]
    },
    {
     "data": {
      "text/plain": [
       "[<matplotlib.lines.Line2D at 0x1ca8032c340>]"
      ]
     },
     "execution_count": 116,
     "metadata": {},
     "output_type": "execute_result"
    },
    {
     "data": {
      "image/png": "[encoded data removed]",
      "text/plain": [
       "<Figure size 640x480 with 1 Axes>"
      ]
     },
     "metadata": {},
     "output_type": "display_data"
    }
   ],
   "source": [
    "upper = q75+1.5*iqr\n",
    "sub_data_cut = sub_data_f[sub_data_f<upper]\n",
    "\n",
    "h_cnt, h_bins = np.histogram(sub_data_cut,bins = 20) #float형을 칸으로 구분해서 리턴하는 함수.\n",
    "print(h_cnt,h_bins)\n",
    "\n",
    "val, cnt = np.unique(sub_data_cut,return_counts = True) # 육교연장 값의 분포\n",
    "\n",
    "_, axe = plt.subplots()\n",
    "#axe.scatter(val,cnt)\n",
    "axe.plot(np.arange(20),h_cnt)"
   ]
  },
  {
   "cell_type": "code",
   "execution_count": 117,
   "id": "5cfa3071",
   "metadata": {},
   "outputs": [
    {
     "data": {
      "text/plain": [
       "<matplotlib.collections.PathCollection at 0x1ca8038b670>"
      ]
     },
     "execution_count": 117,
     "metadata": {},
     "output_type": "execute_result"
    },
    {
     "data": {
      "image/png": "[encoded data removed]",
      "text/plain": [
       "<Figure size 640x480 with 1 Axes>"
      ]
     },
     "metadata": {},
     "output_type": "display_data"
    }
   ],
   "source": [
    "_, axe = plt.subplots()\n",
    "axe.scatter(pass4[:,0],pass4[:,2])"
   ]
  }
 ],
 "metadata": {
  "kernelspec": {
   "display_name": "Python 3 (ipykernel)",
   "language": "python",
   "name": "python3"
  },
  "language_info": {
   "codemirror_mode": {
    "name": "ipython",
    "version": 3
   },
   "file_extension": ".py",
   "mimetype": "text/x-python",
   "name": "python",
   "nbconvert_exporter": "python",
   "pygments_lexer": "ipython3",
   "version": "3.10.9"
  }
 },
 "nbformat": 4,
 "nbformat_minor": 5
}
