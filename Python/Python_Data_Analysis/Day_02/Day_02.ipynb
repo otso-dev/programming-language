{
 "cells": [
  {
   "cell_type": "code",
   "execution_count": 1,
   "id": "ccbac37c",
   "metadata": {},
   "outputs": [
    {
     "name": "stdout",
     "output_type": "stream",
     "text": [
      "myfuction\n"
     ]
    }
   ],
   "source": [
    "#함수\n",
    "#define\n",
    "\n",
    "def fuction_name():\n",
    "    print('myfuction')\n",
    "\n",
    "fuction_name()"
   ]
  },
  {
   "cell_type": "code",
   "execution_count": 37,
   "id": "288c52af",
   "metadata": {},
   "outputs": [
    {
     "name": "stdout",
     "output_type": "stream",
     "text": [
      "fn7 start\n",
      "abc def\n"
     ]
    }
   ],
   "source": [
    "# fuction argument\n",
    "def myfn1():\n",
    "    print('myfn1')\n",
    "def myfn2(arg1):\n",
    "    print(arg1)\n",
    "def myfn3(arg1= 'a',arg2 = 'b'):\n",
    "    print(arg1,arg2)\n",
    "def myfn4(*arg1): # 매개변수를 몇개를 줘야할지 모를때 \n",
    "    for i in arg1:\n",
    "        print(i)\n",
    "\n",
    "# keyword function\n",
    "def myfn5(arg1,*,arg2,arg3):# *이후에 매개변수는 인자를 받을 때 반드시 명시해줘야한다.\n",
    "    print(arg1,arg2,arg3)\n",
    "def myfn6(arg1, /, arg2,arg3):# / 앞쪽부터 positinal funtion으로 사용하겠다.\n",
    "    print(arg1,arg2,arg3)\n",
    "def myfn7(arg1,arg2):\n",
    "    print(arg1)\n",
    "    arg2('abc','def')\n",
    "a = 1\n",
    "list_a = [1,2,3,4,5,'list_a',{1,2,3,4},(1,2,3,4)]\n",
    "#myfn2(list_a)\n",
    "#myfn3(10,20)\n",
    "#myfn3(arg2 = 10, arg1 = 20) 매개변수에 명시 해준다면 순서가 상관없다.\n",
    "#myfn3() 매개변수에 default 값을 준다면 값을 넣어주지 않아도 된다.\n",
    "#myfn4(1,2,3,4) -> (tuple)로 리턴함\n",
    "#myfn2([1,2,3,4])\n",
    "#myfn5('a',arg2 = 'b',arg3 = 'c')\n",
    "#myfn5(arg3 = 'a', arg1= 'c', arg2 = 'b')\n",
    "#myfn6('a','b','c')\n",
    "#myfn6('a','c','c')\n",
    "#myfn7('fn7 start',myfn3)"
   ]
  },
  {
   "cell_type": "code",
   "execution_count": 41,
   "id": "e90dbf38",
   "metadata": {},
   "outputs": [
    {
     "name": "stdout",
     "output_type": "stream",
     "text": [
      "(10, 20)\n"
     ]
    }
   ],
   "source": [
    "# fuction return\n",
    "def myfn8():\n",
    "    print('myfn8')\n",
    "def myfn9():\n",
    "    return 10\n",
    "def myfn10():\n",
    "    return 10,20\n",
    "#ret_value = myfn8()\n",
    "ret_value = myfn10()\n",
    "print(ret_value)\n",
    "\n"
   ]
  }
 ],
 "metadata": {
  "kernelspec": {
   "display_name": "Python 3 (ipykernel)",
   "language": "python",
   "name": "python3"
  },
  "language_info": {
   "codemirror_mode": {
    "name": "ipython",
    "version": 3
   },
   "file_extension": ".py",
   "mimetype": "text/x-python",
   "name": "python",
   "nbconvert_exporter": "python",
   "pygments_lexer": "ipython3",
   "version": "3.10.9"
  }
 },
 "nbformat": 4,
 "nbformat_minor": 5
}
