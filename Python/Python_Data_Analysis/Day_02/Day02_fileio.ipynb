{
 "cells": [
  {
   "cell_type": "code",
   "execution_count": 42,
   "id": "a94ccab4",
   "metadata": {},
   "outputs": [
    {
     "name": "stdout",
     "output_type": "stream",
     "text": [
      "21\n",
      "['중구', '중구', '서구', '서구', '동구', '동구', '동구', '영도구', '영도구', '부산진구', '부산진구', '부산진구', '동래구', '남구', '남구', '북구', '해운대구', '해운대구', '해운대구', '사하구', '사하구', '다대로', '금정구', '강서구', '강서구', '강서구', '연제구', '연제구', '수영구', '수영구', '사상구', '사상구', '기장군', '기장군', '기장군']\n",
      "수영구 2\n",
      "남구 2\n",
      "중구 2\n",
      "영도구 2\n",
      "사하구 3\n",
      "강서구 3\n",
      "연제구 2\n",
      "금정구 1\n",
      "동래구 1\n",
      "사상구 2\n",
      "서구 2\n",
      "기장군 3\n",
      "해운대구 3\n",
      "북구 1\n",
      "동구 3\n",
      "부산진구 3\n"
     ]
    }
   ],
   "source": [
    "data_list = []\n",
    "\n",
    "# -> == f.close() # file을 open을 하면 반드시 file을 close를  해야한다. comma seperated values -> comma(,)로 구분한 파일, encoding = '인코딩할 유형'\n",
    "with open('부산광역시_노인복지관 현황_20230101.csv',encoding = 'cp949') as f:\n",
    "    for line in f:\n",
    "        data_list.append(line.split(','))\n",
    "data_list = data_list[1:]\n",
    "gu_list = []\n",
    "for i in data_list:\n",
    "    adrress = i[2]\n",
    "    adrress_list = adrress.split()\n",
    "    gu_list.append(adrress_list[1])\n",
    "\n",
    "print(gu_list.index('다대로'))\n",
    "print(gu_list)\n",
    "gu_list[21] = '사하구'\n",
    "\n",
    "gu_set = set(gu_list)\n",
    "for i in gu_set:\n",
    "    print(i,gu_list.count(i))\n"
   ]
  },
  {
   "cell_type": "code",
   "execution_count": 50,
   "id": "3fd5d564",
   "metadata": {},
   "outputs": [
    {
     "name": "stdout",
     "output_type": "stream",
     "text": [
      "{'수영구': 2, '남구': 2, '중구': 2, '영도구': 2, '사하구': 3, '강서구': 3, '연제구': 2, '금정구': 1, '동래구': 1, '사상구': 2, '서구': 2, '기장군': 3, '해운대구': 3, '북구': 1, '동구': 3, '부산진구': 3}\n"
     ]
    }
   ],
   "source": [
    "gu_key = []\n",
    "gu_value = []\n",
    "for i in gu_set:\n",
    "    gu_key.append(i)\n",
    "    gu_value.append(gu_list.count(i))\n",
    "gu_di = dict(zip(gu_key,gu_value))\n",
    "print(gu_di)"
   ]
  },
  {
   "cell_type": "code",
   "execution_count": 53,
   "id": "9560620e",
   "metadata": {},
   "outputs": [
    {
     "name": "stdout",
     "output_type": "stream",
     "text": [
      "value5\n"
     ]
    },
    {
     "data": {
      "text/plain": [
       "<function __main__.<lambda>(n)>"
      ]
     },
     "execution_count": 53,
     "metadata": {},
     "output_type": "execute_result"
    }
   ],
   "source": [
    "# python lambda\n",
    "def fn1(n):\n",
    "    print('value{}'.format(n))\n",
    "fn1(5)\n",
    "\n",
    "#위 함수와 같다\n",
    "lambda n: print('value{}.format(n)')"
   ]
  },
  {
   "cell_type": "code",
   "execution_count": 59,
   "id": "dbc51514",
   "metadata": {},
   "outputs": [
    {
     "ename": "SyntaxError",
     "evalue": "invalid syntax (119466688.py, line 4)",
     "output_type": "error",
     "traceback": [
      "\u001b[1;36m  Cell \u001b[1;32mIn[59], line 4\u001b[1;36m\u001b[0m\n\u001b[1;33m    d1_sorted = dict(sorted(gu_di.items(),key = x: x[1], reverse = False))#dict(sorted(사용할 di,기준이될 key값,정렬순서))\u001b[0m\n\u001b[1;37m                                                 ^\u001b[0m\n\u001b[1;31mSyntaxError\u001b[0m\u001b[1;31m:\u001b[0m invalid syntax\n"
     ]
    }
   ],
   "source": [
    "def fn10(x):\n",
    "    return x[1]\n",
    "#print(gu_di.items())\n",
    "d1_sorted = dict(sorted(gu_di.items(),key = fn10, reverse = True))#dict(sorted(사용할 di,기준이될 key값,정렬기준))\n",
    "print(d1_sorted)"
   ]
  }
 ],
 "metadata": {
  "kernelspec": {
   "display_name": "Python 3 (ipykernel)",
   "language": "python",
   "name": "python3"
  },
  "language_info": {
   "codemirror_mode": {
    "name": "ipython",
    "version": 3
   },
   "file_extension": ".py",
   "mimetype": "text/x-python",
   "name": "python",
   "nbconvert_exporter": "python",
   "pygments_lexer": "ipython3",
   "version": "3.10.9"
  }
 },
 "nbformat": 4,
 "nbformat_minor": 5
}
