{
 "cells": [
  {
   "cell_type": "code",
   "execution_count": 62,
   "id": "acfebd1a",
   "metadata": {},
   "outputs": [
    {
     "name": "stdout",
     "output_type": "stream",
     "text": [
      "{'경기도': 59, '서울특별시': 23, '전라남도': 20, '경상북도': 19, '경상남도': 18, '강원도': 16, '충청남도': 16, '부산광역시': 15, '인천광역시': 13, '전라북도': 13, '충청북도': 11, '제주특별자치도': 10, '대전광역시': 9, '대구광역시': 6, '\"경기도': 6, '광주광역시': 6, '울산광역시': 6, '\"광주광역시': 5, '\"부산광역시': 3, '\"서울특별시': 3, '\"경상남도': 2, '\"경상북도': 2, '\"대구광역시': 2, '\"인천광역시': 2, '세종특별자치시': 1, '\"충청북도': 1, '\"대전광역시': 1, '경북': 1, '\"전라북도': 1, '\"울산광역시': 1}\n"
     ]
    }
   ],
   "source": [
    "data_list = []\n",
    "with open('전국건강증진센터표준데이터.csv',encoding = 'cp949') as f:\n",
    "    for line in f:\n",
    "        data_list.append(line.split(','))\n",
    "data_list = data_list[1:]\n",
    "#print(data_list)\n",
    "adrress =[]\n",
    "for i in data_list:\n",
    "    adrress.append(i[2]) \n",
    "\n",
    "do_list = []\n",
    "#print(adrress.index(''))\n",
    "del adrress[132]\n",
    "for i in adrress:\n",
    "    do = i\n",
    "    do = do.split()\n",
    "    do_list.append(do[0])\n",
    "\n",
    "do_set = set(do_list)\n",
    "\n",
    "do_key =[]\n",
    "do_value =[]\n",
    "for i in do_set:\n",
    "    do_key.append(i)\n",
    "    do_value.append(do_list.count(i))\n",
    "    \n",
    "du_di = dict(zip(do_key,do_value))\n",
    "\n",
    "du_sort = dict(sorted(du_di.items(), key = lambda x: x[1], reverse = True))\n",
    "print(du_sort)"
   ]
  },
  {
   "cell_type": "code",
   "execution_count": null,
   "id": "dadd249e",
   "metadata": {},
   "outputs": [],
   "source": []
  }
 ],
 "metadata": {
  "kernelspec": {
   "display_name": "Python 3 (ipykernel)",
   "language": "python",
   "name": "python3"
  },
  "language_info": {
   "codemirror_mode": {
    "name": "ipython",
    "version": 3
   },
   "file_extension": ".py",
   "mimetype": "text/x-python",
   "name": "python",
   "nbconvert_exporter": "python",
   "pygments_lexer": "ipython3",
   "version": "3.10.9"
  }
 },
 "nbformat": 4,
 "nbformat_minor": 5
}
